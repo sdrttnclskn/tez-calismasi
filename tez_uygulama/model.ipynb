{
 "cells": [
  {
   "cell_type": "markdown",
   "metadata": {},
   "source": [
    "# Fiyat Tahmin icin Model Gelistirme"
   ]
  },
  {
   "cell_type": "markdown",
   "metadata": {},
   "source": [
    "## Veri Okuma ve Veri duzenleme"
   ]
  },
  {
   "cell_type": "code",
   "execution_count": 1,
   "metadata": {},
   "outputs": [
    {
     "name": "stdout",
     "output_type": "stream",
     "text": [
      "<class 'pandas.core.frame.DataFrame'>\n",
      "RangeIndex: 187438 entries, 0 to 187437\n",
      "Data columns (total 26 columns):\n",
      " #   Column          Non-Null Count   Dtype  \n",
      "---  ------          --------------   -----  \n",
      " 0   TARIH           187438 non-null  object \n",
      " 1   FONTIP          187438 non-null  object \n",
      " 2   FONTUR          187438 non-null  object \n",
      " 3   FON             187438 non-null  object \n",
      " 4   FONTOPLAMDEGER  187438 non-null  float64\n",
      " 5   TEDAVPAYSAYISI  187438 non-null  float64\n",
      " 6   KISISAYISI      187438 non-null  int64  \n",
      " 7   FONFIYAT        187438 non-null  float64\n",
      " 8   FAIZ            187438 non-null  float64\n",
      " 9   DOLARFIYAT      187438 non-null  float64\n",
      " 10  ALTINFIYAT      187438 non-null  float64\n",
      " 11  BB              187438 non-null  float64\n",
      " 12  DT              187438 non-null  float64\n",
      " 13  DB              187438 non-null  float64\n",
      " 14  DÖT             187438 non-null  float64\n",
      " 15  EUT             187438 non-null  float64\n",
      " 16  FB              187438 non-null  float64\n",
      " 17  FKB             187438 non-null  float64\n",
      " 18  GAS             187438 non-null  float64\n",
      " 19  HB              187438 non-null  float64\n",
      " 20  HS              187438 non-null  float64\n",
      " 21  KBA             187438 non-null  float64\n",
      " 22  KKS             187438 non-null  float64\n",
      " 23  KH              187438 non-null  float64\n",
      " 24  KM              187438 non-null  float64\n",
      " 25  OSKS            187438 non-null  float64\n",
      "dtypes: float64(21), int64(1), object(4)\n",
      "memory usage: 37.2+ MB\n"
     ]
    },
    {
     "data": {
      "text/html": [
       "<div>\n",
       "<style scoped>\n",
       "    .dataframe tbody tr th:only-of-type {\n",
       "        vertical-align: middle;\n",
       "    }\n",
       "\n",
       "    .dataframe tbody tr th {\n",
       "        vertical-align: top;\n",
       "    }\n",
       "\n",
       "    .dataframe thead th {\n",
       "        text-align: right;\n",
       "    }\n",
       "</style>\n",
       "<table border=\"1\" class=\"dataframe\">\n",
       "  <thead>\n",
       "    <tr style=\"text-align: right;\">\n",
       "      <th></th>\n",
       "      <th>TARIH</th>\n",
       "      <th>FONTIP</th>\n",
       "      <th>FONTUR</th>\n",
       "      <th>FON</th>\n",
       "      <th>FONTOPLAMDEGER</th>\n",
       "      <th>TEDAVPAYSAYISI</th>\n",
       "      <th>KISISAYISI</th>\n",
       "      <th>FONFIYAT</th>\n",
       "      <th>FAIZ</th>\n",
       "      <th>DOLARFIYAT</th>\n",
       "      <th>...</th>\n",
       "      <th>FB</th>\n",
       "      <th>FKB</th>\n",
       "      <th>GAS</th>\n",
       "      <th>HB</th>\n",
       "      <th>HS</th>\n",
       "      <th>KBA</th>\n",
       "      <th>KKS</th>\n",
       "      <th>KH</th>\n",
       "      <th>KM</th>\n",
       "      <th>OSKS</th>\n",
       "    </tr>\n",
       "  </thead>\n",
       "  <tbody>\n",
       "    <tr>\n",
       "      <th>0</th>\n",
       "      <td>2019-01-02</td>\n",
       "      <td>BORSA YATIRIM FONU</td>\n",
       "      <td>Altın Fonu</td>\n",
       "      <td>FGA</td>\n",
       "      <td>8.722176e+07</td>\n",
       "      <td>4.350000e+06</td>\n",
       "      <td>0</td>\n",
       "      <td>20.050979</td>\n",
       "      <td>0.2302</td>\n",
       "      <td>5.2905</td>\n",
       "      <td>...</td>\n",
       "      <td>0.00</td>\n",
       "      <td>0.0</td>\n",
       "      <td>0.0</td>\n",
       "      <td>0.0</td>\n",
       "      <td>0.0</td>\n",
       "      <td>0.0</td>\n",
       "      <td>0.0</td>\n",
       "      <td>0.0</td>\n",
       "      <td>0.0</td>\n",
       "      <td>0.0</td>\n",
       "    </tr>\n",
       "    <tr>\n",
       "      <th>1</th>\n",
       "      <td>2019-01-02</td>\n",
       "      <td>BORSA YATIRIM FONU</td>\n",
       "      <td>Gümüş Fonu</td>\n",
       "      <td>FGS</td>\n",
       "      <td>1.238294e+07</td>\n",
       "      <td>7.000000e+05</td>\n",
       "      <td>0</td>\n",
       "      <td>17.689916</td>\n",
       "      <td>0.2302</td>\n",
       "      <td>5.2905</td>\n",
       "      <td>...</td>\n",
       "      <td>0.00</td>\n",
       "      <td>0.0</td>\n",
       "      <td>0.0</td>\n",
       "      <td>0.0</td>\n",
       "      <td>0.0</td>\n",
       "      <td>0.0</td>\n",
       "      <td>0.0</td>\n",
       "      <td>0.0</td>\n",
       "      <td>0.0</td>\n",
       "      <td>0.0</td>\n",
       "    </tr>\n",
       "    <tr>\n",
       "      <th>2</th>\n",
       "      <td>2019-01-02</td>\n",
       "      <td>BORSA YATIRIM FONU</td>\n",
       "      <td>Hisse Senedi Fonu</td>\n",
       "      <td>DJA</td>\n",
       "      <td>1.491130e+07</td>\n",
       "      <td>4.800000e+05</td>\n",
       "      <td>0</td>\n",
       "      <td>31.065216</td>\n",
       "      <td>0.2302</td>\n",
       "      <td>5.2905</td>\n",
       "      <td>...</td>\n",
       "      <td>0.00</td>\n",
       "      <td>0.0</td>\n",
       "      <td>0.0</td>\n",
       "      <td>0.0</td>\n",
       "      <td>0.0</td>\n",
       "      <td>0.0</td>\n",
       "      <td>0.0</td>\n",
       "      <td>0.0</td>\n",
       "      <td>0.0</td>\n",
       "      <td>0.0</td>\n",
       "    </tr>\n",
       "    <tr>\n",
       "      <th>3</th>\n",
       "      <td>2019-01-02</td>\n",
       "      <td>EMEKLİLİK FONU</td>\n",
       "      <td>Altın Fonu</td>\n",
       "      <td>AEA</td>\n",
       "      <td>1.465104e+09</td>\n",
       "      <td>6.335717e+10</td>\n",
       "      <td>325392</td>\n",
       "      <td>0.023125</td>\n",
       "      <td>0.2302</td>\n",
       "      <td>5.2905</td>\n",
       "      <td>...</td>\n",
       "      <td>7.23</td>\n",
       "      <td>0.0</td>\n",
       "      <td>0.0</td>\n",
       "      <td>0.0</td>\n",
       "      <td>0.0</td>\n",
       "      <td>0.0</td>\n",
       "      <td>0.0</td>\n",
       "      <td>0.0</td>\n",
       "      <td>0.0</td>\n",
       "      <td>0.0</td>\n",
       "    </tr>\n",
       "    <tr>\n",
       "      <th>4</th>\n",
       "      <td>2019-01-02</td>\n",
       "      <td>EMEKLİLİK FONU</td>\n",
       "      <td>Altın Fonu</td>\n",
       "      <td>AEL</td>\n",
       "      <td>1.784293e+09</td>\n",
       "      <td>7.415738e+10</td>\n",
       "      <td>325460</td>\n",
       "      <td>0.024061</td>\n",
       "      <td>0.2302</td>\n",
       "      <td>5.2905</td>\n",
       "      <td>...</td>\n",
       "      <td>0.00</td>\n",
       "      <td>0.0</td>\n",
       "      <td>0.0</td>\n",
       "      <td>0.0</td>\n",
       "      <td>0.0</td>\n",
       "      <td>0.0</td>\n",
       "      <td>0.0</td>\n",
       "      <td>0.0</td>\n",
       "      <td>0.0</td>\n",
       "      <td>0.0</td>\n",
       "    </tr>\n",
       "  </tbody>\n",
       "</table>\n",
       "<p>5 rows × 26 columns</p>\n",
       "</div>"
      ],
      "text/plain": [
       "        TARIH              FONTIP             FONTUR  FON  FONTOPLAMDEGER  \\\n",
       "0  2019-01-02  BORSA YATIRIM FONU         Altın Fonu  FGA    8.722176e+07   \n",
       "1  2019-01-02  BORSA YATIRIM FONU         Gümüş Fonu  FGS    1.238294e+07   \n",
       "2  2019-01-02  BORSA YATIRIM FONU  Hisse Senedi Fonu  DJA    1.491130e+07   \n",
       "3  2019-01-02      EMEKLİLİK FONU         Altın Fonu  AEA    1.465104e+09   \n",
       "4  2019-01-02      EMEKLİLİK FONU         Altın Fonu  AEL    1.784293e+09   \n",
       "\n",
       "   TEDAVPAYSAYISI  KISISAYISI   FONFIYAT    FAIZ  DOLARFIYAT  ...    FB  FKB  \\\n",
       "0    4.350000e+06           0  20.050979  0.2302      5.2905  ...  0.00  0.0   \n",
       "1    7.000000e+05           0  17.689916  0.2302      5.2905  ...  0.00  0.0   \n",
       "2    4.800000e+05           0  31.065216  0.2302      5.2905  ...  0.00  0.0   \n",
       "3    6.335717e+10      325392   0.023125  0.2302      5.2905  ...  7.23  0.0   \n",
       "4    7.415738e+10      325460   0.024061  0.2302      5.2905  ...  0.00  0.0   \n",
       "\n",
       "   GAS   HB   HS  KBA  KKS   KH   KM  OSKS  \n",
       "0  0.0  0.0  0.0  0.0  0.0  0.0  0.0   0.0  \n",
       "1  0.0  0.0  0.0  0.0  0.0  0.0  0.0   0.0  \n",
       "2  0.0  0.0  0.0  0.0  0.0  0.0  0.0   0.0  \n",
       "3  0.0  0.0  0.0  0.0  0.0  0.0  0.0   0.0  \n",
       "4  0.0  0.0  0.0  0.0  0.0  0.0  0.0   0.0  \n",
       "\n",
       "[5 rows x 26 columns]"
      ]
     },
     "execution_count": 1,
     "metadata": {},
     "output_type": "execute_result"
    }
   ],
   "source": [
    "#### Kutuphane ####\n",
    "from warnings import filterwarnings\n",
    "filterwarnings('ignore')\n",
    "import pandas as pd\n",
    "from sklearn.model_selection import train_test_split, cross_val_score,GridSearchCV, cross_val_predict\n",
    "from sklearn.metrics import mean_squared_error, r2_score, accuracy_score,mean_absolute_error\n",
    "import matplotlib.pyplot as plt\n",
    "import numpy as np\n",
    "from sklearn import model_selection\n",
    "from sklearn.preprocessing import scale \n",
    "from sklearn.preprocessing import StandardScaler\n",
    "\n",
    "\n",
    "#### Veri #####\n",
    "veriseti = pd.read_csv(\"/Users/sdrttnclskn/Desktop/tez/tez-calismasi/tez_uygulama/temiz_veri_seti.csv\")\n",
    "df = veriseti.copy()\n",
    "#tanimsız olan boş kolon drop edildi.\n",
    "df.drop(df.columns[[0]], axis=1, inplace=True)\n",
    "df.info()\n",
    "df.head()"
   ]
  },
  {
   "cell_type": "markdown",
   "metadata": {},
   "source": [
    "# Dogrusal Coklu Regresyon"
   ]
  },
  {
   "cell_type": "markdown",
   "metadata": {},
   "source": [
    "## PLS ile Model Gelistirme\n",
    "### 1. Model"
   ]
  },
  {
   "cell_type": "code",
   "execution_count": 16,
   "metadata": {},
   "outputs": [
    {
     "data": {
      "text/html": [
       "<div>\n",
       "<style scoped>\n",
       "    .dataframe tbody tr th:only-of-type {\n",
       "        vertical-align: middle;\n",
       "    }\n",
       "\n",
       "    .dataframe tbody tr th {\n",
       "        vertical-align: top;\n",
       "    }\n",
       "\n",
       "    .dataframe thead th {\n",
       "        text-align: right;\n",
       "    }\n",
       "</style>\n",
       "<table border=\"1\" class=\"dataframe\">\n",
       "  <thead>\n",
       "    <tr style=\"text-align: right;\">\n",
       "      <th></th>\n",
       "      <th>FONTOPLAMDEGER</th>\n",
       "      <th>TEDAVPAYSAYISI</th>\n",
       "      <th>KISISAYISI</th>\n",
       "      <th>FAIZ</th>\n",
       "      <th>DOLARFIYAT</th>\n",
       "      <th>ALTINFIYAT</th>\n",
       "      <th>BB</th>\n",
       "      <th>DT</th>\n",
       "      <th>DB</th>\n",
       "      <th>DÖT</th>\n",
       "      <th>...</th>\n",
       "      <th>FB</th>\n",
       "      <th>FKB</th>\n",
       "      <th>GAS</th>\n",
       "      <th>HB</th>\n",
       "      <th>HS</th>\n",
       "      <th>KBA</th>\n",
       "      <th>KKS</th>\n",
       "      <th>KH</th>\n",
       "      <th>KM</th>\n",
       "      <th>OSKS</th>\n",
       "    </tr>\n",
       "  </thead>\n",
       "  <tbody>\n",
       "    <tr>\n",
       "      <th>0</th>\n",
       "      <td>8.722176e+07</td>\n",
       "      <td>4.350000e+06</td>\n",
       "      <td>0</td>\n",
       "      <td>0.2302</td>\n",
       "      <td>5.2905</td>\n",
       "      <td>219270.871675</td>\n",
       "      <td>100.00</td>\n",
       "      <td>0.00</td>\n",
       "      <td>0.00</td>\n",
       "      <td>0.00</td>\n",
       "      <td>...</td>\n",
       "      <td>0.00</td>\n",
       "      <td>0.0</td>\n",
       "      <td>0.0</td>\n",
       "      <td>0.0</td>\n",
       "      <td>0.0</td>\n",
       "      <td>0.0</td>\n",
       "      <td>0.0</td>\n",
       "      <td>0.0</td>\n",
       "      <td>0.0</td>\n",
       "      <td>0.0</td>\n",
       "    </tr>\n",
       "    <tr>\n",
       "      <th>1</th>\n",
       "      <td>1.238294e+07</td>\n",
       "      <td>7.000000e+05</td>\n",
       "      <td>0</td>\n",
       "      <td>0.2302</td>\n",
       "      <td>5.2905</td>\n",
       "      <td>219270.871675</td>\n",
       "      <td>100.00</td>\n",
       "      <td>0.00</td>\n",
       "      <td>0.00</td>\n",
       "      <td>0.00</td>\n",
       "      <td>...</td>\n",
       "      <td>0.00</td>\n",
       "      <td>0.0</td>\n",
       "      <td>0.0</td>\n",
       "      <td>0.0</td>\n",
       "      <td>0.0</td>\n",
       "      <td>0.0</td>\n",
       "      <td>0.0</td>\n",
       "      <td>0.0</td>\n",
       "      <td>0.0</td>\n",
       "      <td>0.0</td>\n",
       "    </tr>\n",
       "    <tr>\n",
       "      <th>2</th>\n",
       "      <td>1.491130e+07</td>\n",
       "      <td>4.800000e+05</td>\n",
       "      <td>0</td>\n",
       "      <td>0.2302</td>\n",
       "      <td>5.2905</td>\n",
       "      <td>219270.871675</td>\n",
       "      <td>99.83</td>\n",
       "      <td>0.17</td>\n",
       "      <td>0.00</td>\n",
       "      <td>0.00</td>\n",
       "      <td>...</td>\n",
       "      <td>0.00</td>\n",
       "      <td>0.0</td>\n",
       "      <td>0.0</td>\n",
       "      <td>0.0</td>\n",
       "      <td>0.0</td>\n",
       "      <td>0.0</td>\n",
       "      <td>0.0</td>\n",
       "      <td>0.0</td>\n",
       "      <td>0.0</td>\n",
       "      <td>0.0</td>\n",
       "    </tr>\n",
       "    <tr>\n",
       "      <th>3</th>\n",
       "      <td>1.465104e+09</td>\n",
       "      <td>6.335717e+10</td>\n",
       "      <td>325392</td>\n",
       "      <td>0.2302</td>\n",
       "      <td>5.2905</td>\n",
       "      <td>219270.871675</td>\n",
       "      <td>1.01</td>\n",
       "      <td>3.44</td>\n",
       "      <td>85.25</td>\n",
       "      <td>3.07</td>\n",
       "      <td>...</td>\n",
       "      <td>7.23</td>\n",
       "      <td>0.0</td>\n",
       "      <td>0.0</td>\n",
       "      <td>0.0</td>\n",
       "      <td>0.0</td>\n",
       "      <td>0.0</td>\n",
       "      <td>0.0</td>\n",
       "      <td>0.0</td>\n",
       "      <td>0.0</td>\n",
       "      <td>0.0</td>\n",
       "    </tr>\n",
       "    <tr>\n",
       "      <th>4</th>\n",
       "      <td>1.784293e+09</td>\n",
       "      <td>7.415738e+10</td>\n",
       "      <td>325460</td>\n",
       "      <td>0.2302</td>\n",
       "      <td>5.2905</td>\n",
       "      <td>219270.871675</td>\n",
       "      <td>0.25</td>\n",
       "      <td>99.75</td>\n",
       "      <td>0.00</td>\n",
       "      <td>0.00</td>\n",
       "      <td>...</td>\n",
       "      <td>0.00</td>\n",
       "      <td>0.0</td>\n",
       "      <td>0.0</td>\n",
       "      <td>0.0</td>\n",
       "      <td>0.0</td>\n",
       "      <td>0.0</td>\n",
       "      <td>0.0</td>\n",
       "      <td>0.0</td>\n",
       "      <td>0.0</td>\n",
       "      <td>0.0</td>\n",
       "    </tr>\n",
       "  </tbody>\n",
       "</table>\n",
       "<p>5 rows × 21 columns</p>\n",
       "</div>"
      ],
      "text/plain": [
       "   FONTOPLAMDEGER  TEDAVPAYSAYISI  KISISAYISI    FAIZ  DOLARFIYAT  \\\n",
       "0    8.722176e+07    4.350000e+06           0  0.2302      5.2905   \n",
       "1    1.238294e+07    7.000000e+05           0  0.2302      5.2905   \n",
       "2    1.491130e+07    4.800000e+05           0  0.2302      5.2905   \n",
       "3    1.465104e+09    6.335717e+10      325392  0.2302      5.2905   \n",
       "4    1.784293e+09    7.415738e+10      325460  0.2302      5.2905   \n",
       "\n",
       "      ALTINFIYAT      BB     DT     DB   DÖT  ...    FB  FKB  GAS   HB   HS  \\\n",
       "0  219270.871675  100.00   0.00   0.00  0.00  ...  0.00  0.0  0.0  0.0  0.0   \n",
       "1  219270.871675  100.00   0.00   0.00  0.00  ...  0.00  0.0  0.0  0.0  0.0   \n",
       "2  219270.871675   99.83   0.17   0.00  0.00  ...  0.00  0.0  0.0  0.0  0.0   \n",
       "3  219270.871675    1.01   3.44  85.25  3.07  ...  7.23  0.0  0.0  0.0  0.0   \n",
       "4  219270.871675    0.25  99.75   0.00  0.00  ...  0.00  0.0  0.0  0.0  0.0   \n",
       "\n",
       "   KBA  KKS   KH   KM  OSKS  \n",
       "0  0.0  0.0  0.0  0.0   0.0  \n",
       "1  0.0  0.0  0.0  0.0   0.0  \n",
       "2  0.0  0.0  0.0  0.0   0.0  \n",
       "3  0.0  0.0  0.0  0.0   0.0  \n",
       "4  0.0  0.0  0.0  0.0   0.0  \n",
       "\n",
       "[5 rows x 21 columns]"
      ]
     },
     "execution_count": 16,
     "metadata": {},
     "output_type": "execute_result"
    }
   ],
   "source": [
    "df_pls = df.copy()\n",
    "X_p = df_pls.drop(['TARIH','FONTIP','FONTUR','FON','FONFIYAT'], axis = 1)\n",
    "y_p = df_pls[\"FONFIYAT\"]\n",
    "\n",
    "X_train_p, X_test_p, y_train_p, y_test_p = train_test_split(X_p, y_p, test_size=0.25, random_state=42)\n",
    "\n",
    "X_p.head()"
   ]
  },
  {
   "cell_type": "code",
   "execution_count": 17,
   "metadata": {},
   "outputs": [],
   "source": [
    "from sklearn.cross_decomposition import PLSRegression, PLSSVD"
   ]
  },
  {
   "cell_type": "code",
   "execution_count": 18,
   "metadata": {},
   "outputs": [],
   "source": [
    "pls_model = PLSRegression().fit(X_train_p, y_train_p)"
   ]
  },
  {
   "cell_type": "code",
   "execution_count": 19,
   "metadata": {},
   "outputs": [
    {
     "data": {
      "text/plain": [
       "PLSRegression(copy=True, max_iter=500, n_components=2, scale=True, tol=1e-06)"
      ]
     },
     "execution_count": 19,
     "metadata": {},
     "output_type": "execute_result"
    }
   ],
   "source": [
    "pls_model"
   ]
  },
  {
   "cell_type": "code",
   "execution_count": 20,
   "metadata": {},
   "outputs": [
    {
     "data": {
      "text/plain": [
       "array([[ 8.84294439],\n",
       "       [-4.69831641],\n",
       "       [-3.03243924],\n",
       "       [ 0.0337065 ],\n",
       "       [-0.09314651],\n",
       "       [-0.02433704],\n",
       "       [-0.33800515],\n",
       "       [-0.31991584],\n",
       "       [-0.81996284],\n",
       "       [ 0.91092399],\n",
       "       [-0.09762054],\n",
       "       [ 1.74953948],\n",
       "       [ 2.26792273],\n",
       "       [ 1.19959689],\n",
       "       [-0.41431445],\n",
       "       [-1.57986807],\n",
       "       [-1.26811436],\n",
       "       [-0.8361369 ],\n",
       "       [-0.61910158],\n",
       "       [-0.24914284],\n",
       "       [-0.09490851]])"
      ]
     },
     "execution_count": 20,
     "metadata": {},
     "output_type": "execute_result"
    }
   ],
   "source": [
    "pls_model.coef_"
   ]
  },
  {
   "cell_type": "code",
   "execution_count": null,
   "metadata": {},
   "outputs": [],
   "source": []
  },
  {
   "cell_type": "markdown",
   "metadata": {},
   "source": [
    "### 2. Tahmin"
   ]
  },
  {
   "cell_type": "code",
   "execution_count": 21,
   "metadata": {},
   "outputs": [
    {
     "data": {
      "text/html": [
       "<div>\n",
       "<style scoped>\n",
       "    .dataframe tbody tr th:only-of-type {\n",
       "        vertical-align: middle;\n",
       "    }\n",
       "\n",
       "    .dataframe tbody tr th {\n",
       "        vertical-align: top;\n",
       "    }\n",
       "\n",
       "    .dataframe thead th {\n",
       "        text-align: right;\n",
       "    }\n",
       "</style>\n",
       "<table border=\"1\" class=\"dataframe\">\n",
       "  <thead>\n",
       "    <tr style=\"text-align: right;\">\n",
       "      <th></th>\n",
       "      <th>FONTOPLAMDEGER</th>\n",
       "      <th>TEDAVPAYSAYISI</th>\n",
       "      <th>KISISAYISI</th>\n",
       "      <th>FAIZ</th>\n",
       "      <th>DOLARFIYAT</th>\n",
       "      <th>ALTINFIYAT</th>\n",
       "      <th>BB</th>\n",
       "      <th>DT</th>\n",
       "      <th>DB</th>\n",
       "      <th>DÖT</th>\n",
       "      <th>...</th>\n",
       "      <th>FB</th>\n",
       "      <th>FKB</th>\n",
       "      <th>GAS</th>\n",
       "      <th>HB</th>\n",
       "      <th>HS</th>\n",
       "      <th>KBA</th>\n",
       "      <th>KKS</th>\n",
       "      <th>KH</th>\n",
       "      <th>KM</th>\n",
       "      <th>OSKS</th>\n",
       "    </tr>\n",
       "  </thead>\n",
       "  <tbody>\n",
       "    <tr>\n",
       "      <th>8849</th>\n",
       "      <td>1.657699e+09</td>\n",
       "      <td>1.160783e+11</td>\n",
       "      <td>884267</td>\n",
       "      <td>0.2397</td>\n",
       "      <td>5.3659</td>\n",
       "      <td>220120.171370</td>\n",
       "      <td>74.74</td>\n",
       "      <td>5.66</td>\n",
       "      <td>2.40</td>\n",
       "      <td>2.16</td>\n",
       "      <td>...</td>\n",
       "      <td>0.00</td>\n",
       "      <td>0.00</td>\n",
       "      <td>0.00</td>\n",
       "      <td>0.0</td>\n",
       "      <td>0.0</td>\n",
       "      <td>0.0</td>\n",
       "      <td>0.0</td>\n",
       "      <td>0.0</td>\n",
       "      <td>0.0</td>\n",
       "      <td>0.0</td>\n",
       "    </tr>\n",
       "    <tr>\n",
       "      <th>163827</th>\n",
       "      <td>4.799343e+07</td>\n",
       "      <td>9.098900e+08</td>\n",
       "      <td>1343</td>\n",
       "      <td>0.1340</td>\n",
       "      <td>5.7407</td>\n",
       "      <td>267789.139604</td>\n",
       "      <td>91.42</td>\n",
       "      <td>8.58</td>\n",
       "      <td>0.00</td>\n",
       "      <td>0.00</td>\n",
       "      <td>...</td>\n",
       "      <td>0.00</td>\n",
       "      <td>0.00</td>\n",
       "      <td>0.00</td>\n",
       "      <td>0.0</td>\n",
       "      <td>0.0</td>\n",
       "      <td>0.0</td>\n",
       "      <td>0.0</td>\n",
       "      <td>0.0</td>\n",
       "      <td>0.0</td>\n",
       "      <td>0.0</td>\n",
       "    </tr>\n",
       "    <tr>\n",
       "      <th>105936</th>\n",
       "      <td>1.455141e+04</td>\n",
       "      <td>1.272424e+06</td>\n",
       "      <td>19</td>\n",
       "      <td>0.1871</td>\n",
       "      <td>5.6373</td>\n",
       "      <td>253941.122346</td>\n",
       "      <td>100.00</td>\n",
       "      <td>0.00</td>\n",
       "      <td>0.00</td>\n",
       "      <td>0.00</td>\n",
       "      <td>...</td>\n",
       "      <td>0.00</td>\n",
       "      <td>0.00</td>\n",
       "      <td>0.00</td>\n",
       "      <td>0.0</td>\n",
       "      <td>0.0</td>\n",
       "      <td>0.0</td>\n",
       "      <td>0.0</td>\n",
       "      <td>0.0</td>\n",
       "      <td>0.0</td>\n",
       "      <td>0.0</td>\n",
       "    </tr>\n",
       "    <tr>\n",
       "      <th>58391</th>\n",
       "      <td>1.071578e+07</td>\n",
       "      <td>6.486888e+08</td>\n",
       "      <td>393</td>\n",
       "      <td>0.2464</td>\n",
       "      <td>5.8358</td>\n",
       "      <td>238523.314268</td>\n",
       "      <td>51.43</td>\n",
       "      <td>1.17</td>\n",
       "      <td>5.87</td>\n",
       "      <td>15.34</td>\n",
       "      <td>...</td>\n",
       "      <td>4.99</td>\n",
       "      <td>3.72</td>\n",
       "      <td>3.83</td>\n",
       "      <td>0.0</td>\n",
       "      <td>0.0</td>\n",
       "      <td>0.0</td>\n",
       "      <td>0.0</td>\n",
       "      <td>0.0</td>\n",
       "      <td>0.0</td>\n",
       "      <td>0.0</td>\n",
       "    </tr>\n",
       "    <tr>\n",
       "      <th>148392</th>\n",
       "      <td>3.461555e+06</td>\n",
       "      <td>2.825503e+06</td>\n",
       "      <td>14</td>\n",
       "      <td>0.1591</td>\n",
       "      <td>5.7794</td>\n",
       "      <td>275440.195419</td>\n",
       "      <td>86.11</td>\n",
       "      <td>13.12</td>\n",
       "      <td>0.77</td>\n",
       "      <td>0.00</td>\n",
       "      <td>...</td>\n",
       "      <td>0.00</td>\n",
       "      <td>0.00</td>\n",
       "      <td>0.00</td>\n",
       "      <td>0.0</td>\n",
       "      <td>0.0</td>\n",
       "      <td>0.0</td>\n",
       "      <td>0.0</td>\n",
       "      <td>0.0</td>\n",
       "      <td>0.0</td>\n",
       "      <td>0.0</td>\n",
       "    </tr>\n",
       "  </tbody>\n",
       "</table>\n",
       "<p>5 rows × 21 columns</p>\n",
       "</div>"
      ],
      "text/plain": [
       "        FONTOPLAMDEGER  TEDAVPAYSAYISI  KISISAYISI    FAIZ  DOLARFIYAT  \\\n",
       "8849      1.657699e+09    1.160783e+11      884267  0.2397      5.3659   \n",
       "163827    4.799343e+07    9.098900e+08        1343  0.1340      5.7407   \n",
       "105936    1.455141e+04    1.272424e+06          19  0.1871      5.6373   \n",
       "58391     1.071578e+07    6.486888e+08         393  0.2464      5.8358   \n",
       "148392    3.461555e+06    2.825503e+06          14  0.1591      5.7794   \n",
       "\n",
       "           ALTINFIYAT      BB     DT    DB    DÖT  ...    FB   FKB   GAS   HB  \\\n",
       "8849    220120.171370   74.74   5.66  2.40   2.16  ...  0.00  0.00  0.00  0.0   \n",
       "163827  267789.139604   91.42   8.58  0.00   0.00  ...  0.00  0.00  0.00  0.0   \n",
       "105936  253941.122346  100.00   0.00  0.00   0.00  ...  0.00  0.00  0.00  0.0   \n",
       "58391   238523.314268   51.43   1.17  5.87  15.34  ...  4.99  3.72  3.83  0.0   \n",
       "148392  275440.195419   86.11  13.12  0.77   0.00  ...  0.00  0.00  0.00  0.0   \n",
       "\n",
       "         HS  KBA  KKS   KH   KM  OSKS  \n",
       "8849    0.0  0.0  0.0  0.0  0.0   0.0  \n",
       "163827  0.0  0.0  0.0  0.0  0.0   0.0  \n",
       "105936  0.0  0.0  0.0  0.0  0.0   0.0  \n",
       "58391   0.0  0.0  0.0  0.0  0.0   0.0  \n",
       "148392  0.0  0.0  0.0  0.0  0.0   0.0  \n",
       "\n",
       "[5 rows x 21 columns]"
      ]
     },
     "execution_count": 21,
     "metadata": {},
     "output_type": "execute_result"
    }
   ],
   "source": [
    "X_train_p.head()"
   ]
  },
  {
   "cell_type": "code",
   "execution_count": 22,
   "metadata": {},
   "outputs": [
    {
     "data": {
      "text/plain": [
       "array([[-28.8404007 ],\n",
       "       [  2.21133592],\n",
       "       [  1.84275027],\n",
       "       [  6.35861314],\n",
       "       [  1.74496226],\n",
       "       [ -0.33705814],\n",
       "       [  1.23482564],\n",
       "       [  5.12738967],\n",
       "       [  2.65323171],\n",
       "       [  1.85581765]])"
      ]
     },
     "execution_count": 22,
     "metadata": {},
     "output_type": "execute_result"
    }
   ],
   "source": [
    "pls_model.predict(X_train_p)[0:10]"
   ]
  },
  {
   "cell_type": "code",
   "execution_count": 23,
   "metadata": {},
   "outputs": [],
   "source": [
    "y_pred_p = pls_model.predict(X_train_p)"
   ]
  },
  {
   "cell_type": "code",
   "execution_count": 10,
   "metadata": {},
   "outputs": [
    {
     "name": "stdout",
     "output_type": "stream",
     "text": [
      "MSE : 497.8090200774829\n",
      "RMSE : 22.31163418661849\n",
      "MAE : 7.099829131737095\n",
      "R2 : 0.1273657565331895\n"
     ]
    }
   ],
   "source": [
    "## eğitim seti ölçüm metrikleri\n",
    "print(\"MSE : \" + str(mean_squared_error(y_train_p, y_pred_p)))\n",
    "print(\"RMSE : \" + str(np.sqrt(mean_squared_error(y_train_p, y_pred_p))))\n",
    "print(\"MAE : \" + str(mean_absolute_error(y_train_p, y_pred_p)))\n",
    "print(\"R2 : \" + str(r2_score(y_train_p, y_pred_p)))"
   ]
  },
  {
   "cell_type": "code",
   "execution_count": 24,
   "metadata": {},
   "outputs": [],
   "source": [
    "y_pred_p = pls_model.predict(X_test_p)"
   ]
  },
  {
   "cell_type": "code",
   "execution_count": 25,
   "metadata": {},
   "outputs": [
    {
     "data": {
      "text/plain": [
       "array([[-6.25022993],\n",
       "       [ 2.17501986],\n",
       "       [-0.57015059],\n",
       "       [ 1.80754363],\n",
       "       [ 1.91782439],\n",
       "       [ 4.03021803],\n",
       "       [35.2174188 ],\n",
       "       [20.75324572],\n",
       "       [ 2.86377355],\n",
       "       [-1.5286896 ]])"
      ]
     },
     "execution_count": 25,
     "metadata": {},
     "output_type": "execute_result"
    }
   ],
   "source": [
    "pls_model.predict(X_test_p)[0:10]"
   ]
  },
  {
   "cell_type": "code",
   "execution_count": 26,
   "metadata": {},
   "outputs": [
    {
     "name": "stdout",
     "output_type": "stream",
     "text": [
      "MSE : 506.0252001342653\n",
      "RMSE : 22.495003892737277\n",
      "MAE : 7.119836719007614\n",
      "R2 : 1.0\n"
     ]
    }
   ],
   "source": [
    "##test seti ölçüm metrikleri\n",
    "print(\"MSE : \" + str(mean_squared_error(y_test_p, y_pred_p)))\n",
    "print(\"RMSE : \" + str(np.sqrt(mean_squared_error(y_test_p, y_pred_p))))\n",
    "print(\"MAE : \" + str(mean_absolute_error(y_test_p, y_pred_p)))\n",
    "print(\"R2 : \" + str(r2_score(y_test_p, y_pred_p)))"
   ]
  },
  {
   "cell_type": "code",
   "execution_count": null,
   "metadata": {},
   "outputs": [],
   "source": []
  },
  {
   "cell_type": "markdown",
   "metadata": {},
   "source": [
    "### 3. Model Tuning"
   ]
  },
  {
   "cell_type": "code",
   "execution_count": 27,
   "metadata": {},
   "outputs": [
    {
     "data": {
      "image/png": "[encoded data removed]",
      "text/plain": [
       "<Figure size 432x288 with 1 Axes>"
      ]
     },
     "metadata": {
      "needs_background": "light"
     },
     "output_type": "display_data"
    }
   ],
   "source": [
    "#CV\n",
    "cv_10 = model_selection.KFold(n_splits=10, shuffle=True, random_state=1)\n",
    "\n",
    "\n",
    "#Hata hesaplamak için döngü\n",
    "RMSE = []\n",
    "\n",
    "for i in np.arange(1, X_train_p.shape[1] + 1):\n",
    "    pls = PLSRegression(n_components=i)\n",
    "    score = np.sqrt(-1*cross_val_score(pls, X_train_p, y_train_p, cv=cv_10, scoring='neg_mean_squared_error').mean())\n",
    "    RMSE.append(score)\n",
    "\n",
    "#Sonuçların Görselleştirilmesi\n",
    "plt.plot(np.arange(1, X_train_p.shape[1] + 1), np.array(RMSE), '-v', c = \"r\")\n",
    "plt.xlabel('Bileşen Sayısı')\n",
    "plt.ylabel('RMSE')\n",
    "plt.title('FONFIYAT');"
   ]
  },
  {
   "cell_type": "code",
   "execution_count": 28,
   "metadata": {},
   "outputs": [],
   "source": [
    "pls_model = PLSRegression(n_components = 6).fit(X_train_p, y_train_p)"
   ]
  },
  {
   "cell_type": "code",
   "execution_count": 29,
   "metadata": {},
   "outputs": [],
   "source": [
    "y_pred_p = pls_model.predict(X_test_p)"
   ]
  },
  {
   "cell_type": "code",
   "execution_count": 31,
   "metadata": {},
   "outputs": [
    {
     "name": "stdout",
     "output_type": "stream",
     "text": [
      "MSE : 497.0027614702058\n",
      "RMSE : 22.29355874395575\n",
      "MAE : 6.705839394559914\n",
      "R2 : 0.14893622417341656\n"
     ]
    }
   ],
   "source": [
    "##tuning ölçüm metrikleri\n",
    "print(\"MSE : \" + str(mean_squared_error(y_test_p, y_pred_p)))\n",
    "print(\"RMSE : \" + str(np.sqrt(mean_squared_error(y_test_p, y_pred_p))))\n",
    "print(\"MAE : \" + str(mean_absolute_error(y_test_p, y_pred_p)))\n",
    "print(\"R2 : \" + str(r2_score(y_test_p, y_pred_p)))"
   ]
  },
  {
   "cell_type": "code",
   "execution_count": null,
   "metadata": {},
   "outputs": [],
   "source": [
    "## ilk 10 değer karşılaştırma tablosu\n",
    "k_t=pd.DataFrame({\"gercek_y\": y_p[0:10],\n",
    "                    \"tahmin_y\": np.array(y_pred_p[0:10],dtype=float)})\n",
    "k_t"
   ]
  },
  {
   "cell_type": "code",
   "execution_count": 64,
   "metadata": {},
   "outputs": [
    {
     "data": {
      "text/plain": [
       "0    20.050979\n",
       "1    17.689916\n",
       "2    31.065216\n",
       "3     0.023125\n",
       "4     0.024061\n",
       "5     0.023879\n",
       "6     0.023443\n",
       "7     0.022896\n",
       "8     0.023259\n",
       "9     0.025603\n",
       "Name: FONFIYAT, dtype: float64"
      ]
     },
     "execution_count": 64,
     "metadata": {},
     "output_type": "execute_result"
    }
   ],
   "source": [
    "y_p[0:10]"
   ]
  },
  {
   "cell_type": "code",
   "execution_count": 80,
   "metadata": {},
   "outputs": [],
   "source": [
    "y_pred_p.reshape((1,-1));"
   ]
  },
  {
   "cell_type": "code",
   "execution_count": 77,
   "metadata": {},
   "outputs": [
    {
     "data": {
      "text/plain": [
       "array([[-2.64471348],\n",
       "       [ 1.44024407],\n",
       "       [-0.11784751],\n",
       "       ...,\n",
       "       [ 2.25406249],\n",
       "       [ 1.91279368],\n",
       "       [ 4.26220483]])"
      ]
     },
     "execution_count": 77,
     "metadata": {},
     "output_type": "execute_result"
    }
   ],
   "source": [
    "y_pred_p"
   ]
  },
  {
   "cell_type": "code",
   "execution_count": null,
   "metadata": {},
   "outputs": [],
   "source": []
  },
  {
   "cell_type": "code",
   "execution_count": null,
   "metadata": {},
   "outputs": [],
   "source": []
  },
  {
   "cell_type": "markdown",
   "metadata": {},
   "source": [
    "## Ridge Regresyon ile Model Gelistirme\n",
    "### 1. Model"
   ]
  },
  {
   "cell_type": "code",
   "execution_count": 2,
   "metadata": {},
   "outputs": [
    {
     "data": {
      "text/html": [
       "<div>\n",
       "<style scoped>\n",
       "    .dataframe tbody tr th:only-of-type {\n",
       "        vertical-align: middle;\n",
       "    }\n",
       "\n",
       "    .dataframe tbody tr th {\n",
       "        vertical-align: top;\n",
       "    }\n",
       "\n",
       "    .dataframe thead th {\n",
       "        text-align: right;\n",
       "    }\n",
       "</style>\n",
       "<table border=\"1\" class=\"dataframe\">\n",
       "  <thead>\n",
       "    <tr style=\"text-align: right;\">\n",
       "      <th></th>\n",
       "      <th>FONTOPLAMDEGER</th>\n",
       "      <th>TEDAVPAYSAYISI</th>\n",
       "      <th>KISISAYISI</th>\n",
       "      <th>FAIZ</th>\n",
       "      <th>DOLARFIYAT</th>\n",
       "      <th>ALTINFIYAT</th>\n",
       "      <th>BB</th>\n",
       "      <th>DT</th>\n",
       "      <th>DB</th>\n",
       "      <th>DÖT</th>\n",
       "      <th>...</th>\n",
       "      <th>FB</th>\n",
       "      <th>FKB</th>\n",
       "      <th>GAS</th>\n",
       "      <th>HB</th>\n",
       "      <th>HS</th>\n",
       "      <th>KBA</th>\n",
       "      <th>KKS</th>\n",
       "      <th>KH</th>\n",
       "      <th>KM</th>\n",
       "      <th>OSKS</th>\n",
       "    </tr>\n",
       "  </thead>\n",
       "  <tbody>\n",
       "    <tr>\n",
       "      <th>0</th>\n",
       "      <td>8.722176e+07</td>\n",
       "      <td>4.350000e+06</td>\n",
       "      <td>0</td>\n",
       "      <td>0.2302</td>\n",
       "      <td>5.2905</td>\n",
       "      <td>219270.871675</td>\n",
       "      <td>100.00</td>\n",
       "      <td>0.00</td>\n",
       "      <td>0.00</td>\n",
       "      <td>0.00</td>\n",
       "      <td>...</td>\n",
       "      <td>0.00</td>\n",
       "      <td>0.0</td>\n",
       "      <td>0.0</td>\n",
       "      <td>0.0</td>\n",
       "      <td>0.0</td>\n",
       "      <td>0.0</td>\n",
       "      <td>0.0</td>\n",
       "      <td>0.0</td>\n",
       "      <td>0.0</td>\n",
       "      <td>0.0</td>\n",
       "    </tr>\n",
       "    <tr>\n",
       "      <th>1</th>\n",
       "      <td>1.238294e+07</td>\n",
       "      <td>7.000000e+05</td>\n",
       "      <td>0</td>\n",
       "      <td>0.2302</td>\n",
       "      <td>5.2905</td>\n",
       "      <td>219270.871675</td>\n",
       "      <td>100.00</td>\n",
       "      <td>0.00</td>\n",
       "      <td>0.00</td>\n",
       "      <td>0.00</td>\n",
       "      <td>...</td>\n",
       "      <td>0.00</td>\n",
       "      <td>0.0</td>\n",
       "      <td>0.0</td>\n",
       "      <td>0.0</td>\n",
       "      <td>0.0</td>\n",
       "      <td>0.0</td>\n",
       "      <td>0.0</td>\n",
       "      <td>0.0</td>\n",
       "      <td>0.0</td>\n",
       "      <td>0.0</td>\n",
       "    </tr>\n",
       "    <tr>\n",
       "      <th>2</th>\n",
       "      <td>1.491130e+07</td>\n",
       "      <td>4.800000e+05</td>\n",
       "      <td>0</td>\n",
       "      <td>0.2302</td>\n",
       "      <td>5.2905</td>\n",
       "      <td>219270.871675</td>\n",
       "      <td>99.83</td>\n",
       "      <td>0.17</td>\n",
       "      <td>0.00</td>\n",
       "      <td>0.00</td>\n",
       "      <td>...</td>\n",
       "      <td>0.00</td>\n",
       "      <td>0.0</td>\n",
       "      <td>0.0</td>\n",
       "      <td>0.0</td>\n",
       "      <td>0.0</td>\n",
       "      <td>0.0</td>\n",
       "      <td>0.0</td>\n",
       "      <td>0.0</td>\n",
       "      <td>0.0</td>\n",
       "      <td>0.0</td>\n",
       "    </tr>\n",
       "    <tr>\n",
       "      <th>3</th>\n",
       "      <td>1.465104e+09</td>\n",
       "      <td>6.335717e+10</td>\n",
       "      <td>325392</td>\n",
       "      <td>0.2302</td>\n",
       "      <td>5.2905</td>\n",
       "      <td>219270.871675</td>\n",
       "      <td>1.01</td>\n",
       "      <td>3.44</td>\n",
       "      <td>85.25</td>\n",
       "      <td>3.07</td>\n",
       "      <td>...</td>\n",
       "      <td>7.23</td>\n",
       "      <td>0.0</td>\n",
       "      <td>0.0</td>\n",
       "      <td>0.0</td>\n",
       "      <td>0.0</td>\n",
       "      <td>0.0</td>\n",
       "      <td>0.0</td>\n",
       "      <td>0.0</td>\n",
       "      <td>0.0</td>\n",
       "      <td>0.0</td>\n",
       "    </tr>\n",
       "    <tr>\n",
       "      <th>4</th>\n",
       "      <td>1.784293e+09</td>\n",
       "      <td>7.415738e+10</td>\n",
       "      <td>325460</td>\n",
       "      <td>0.2302</td>\n",
       "      <td>5.2905</td>\n",
       "      <td>219270.871675</td>\n",
       "      <td>0.25</td>\n",
       "      <td>99.75</td>\n",
       "      <td>0.00</td>\n",
       "      <td>0.00</td>\n",
       "      <td>...</td>\n",
       "      <td>0.00</td>\n",
       "      <td>0.0</td>\n",
       "      <td>0.0</td>\n",
       "      <td>0.0</td>\n",
       "      <td>0.0</td>\n",
       "      <td>0.0</td>\n",
       "      <td>0.0</td>\n",
       "      <td>0.0</td>\n",
       "      <td>0.0</td>\n",
       "      <td>0.0</td>\n",
       "    </tr>\n",
       "  </tbody>\n",
       "</table>\n",
       "<p>5 rows × 21 columns</p>\n",
       "</div>"
      ],
      "text/plain": [
       "   FONTOPLAMDEGER  TEDAVPAYSAYISI  KISISAYISI    FAIZ  DOLARFIYAT  \\\n",
       "0    8.722176e+07    4.350000e+06           0  0.2302      5.2905   \n",
       "1    1.238294e+07    7.000000e+05           0  0.2302      5.2905   \n",
       "2    1.491130e+07    4.800000e+05           0  0.2302      5.2905   \n",
       "3    1.465104e+09    6.335717e+10      325392  0.2302      5.2905   \n",
       "4    1.784293e+09    7.415738e+10      325460  0.2302      5.2905   \n",
       "\n",
       "      ALTINFIYAT      BB     DT     DB   DÖT  ...    FB  FKB  GAS   HB   HS  \\\n",
       "0  219270.871675  100.00   0.00   0.00  0.00  ...  0.00  0.0  0.0  0.0  0.0   \n",
       "1  219270.871675  100.00   0.00   0.00  0.00  ...  0.00  0.0  0.0  0.0  0.0   \n",
       "2  219270.871675   99.83   0.17   0.00  0.00  ...  0.00  0.0  0.0  0.0  0.0   \n",
       "3  219270.871675    1.01   3.44  85.25  3.07  ...  7.23  0.0  0.0  0.0  0.0   \n",
       "4  219270.871675    0.25  99.75   0.00  0.00  ...  0.00  0.0  0.0  0.0  0.0   \n",
       "\n",
       "   KBA  KKS   KH   KM  OSKS  \n",
       "0  0.0  0.0  0.0  0.0   0.0  \n",
       "1  0.0  0.0  0.0  0.0   0.0  \n",
       "2  0.0  0.0  0.0  0.0   0.0  \n",
       "3  0.0  0.0  0.0  0.0   0.0  \n",
       "4  0.0  0.0  0.0  0.0   0.0  \n",
       "\n",
       "[5 rows x 21 columns]"
      ]
     },
     "execution_count": 2,
     "metadata": {},
     "output_type": "execute_result"
    }
   ],
   "source": [
    "df_rge = df.copy()\n",
    "X_r = df_rge.drop(['TARIH','FONTIP','FONTUR','FON','FONFIYAT'], axis = 1)\n",
    "y_r = df_rge[\"FONFIYAT\"]\n",
    "\n",
    "X_train_r, X_test_r, y_train_r, y_test_r = train_test_split(X_r, y_r, test_size=0.25, random_state=42)\n",
    "\n",
    "X_r.head()"
   ]
  },
  {
   "cell_type": "code",
   "execution_count": 4,
   "metadata": {},
   "outputs": [],
   "source": [
    "from sklearn.linear_model import Ridge"
   ]
  },
  {
   "cell_type": "code",
   "execution_count": 6,
   "metadata": {},
   "outputs": [],
   "source": [
    "ridge_model = Ridge(alpha = 0.1).fit(X_train_r, y_train_r)"
   ]
  },
  {
   "cell_type": "code",
   "execution_count": 8,
   "metadata": {},
   "outputs": [
    {
     "data": {
      "text/plain": [
       "Ridge(alpha=0.1, copy_X=True, fit_intercept=True, max_iter=None,\n",
       "      normalize=False, random_state=None, solver='auto', tol=0.001)"
      ]
     },
     "execution_count": 8,
     "metadata": {},
     "output_type": "execute_result"
    }
   ],
   "source": [
    "ridge_model"
   ]
  },
  {
   "cell_type": "code",
   "execution_count": 9,
   "metadata": {},
   "outputs": [
    {
     "data": {
      "text/plain": [
       "array([ 1.99548506e-08, -4.36501444e-10, -1.01864979e-05,  5.33789312e+00,\n",
       "       -6.33703278e-01,  2.45254214e-06, -1.37536605e-03, -1.26321075e-02,\n",
       "       -2.43176494e-02,  3.68163153e-02, -1.56943704e-02,  1.05959126e-01,\n",
       "        2.52256301e-01,  1.04918931e-01, -1.40978035e-01, -3.76084541e-01,\n",
       "       -8.49985257e-01, -1.04985067e+00, -4.80938207e+00,  5.91301679e-01,\n",
       "       -1.93941104e+01])"
      ]
     },
     "execution_count": 9,
     "metadata": {},
     "output_type": "execute_result"
    }
   ],
   "source": [
    "ridge_model.coef_"
   ]
  },
  {
   "cell_type": "code",
   "execution_count": 10,
   "metadata": {},
   "outputs": [
    {
     "data": {
      "text/plain": [
       "array([5.00000000e+09, 3.78231664e+09, 2.86118383e+09, 2.16438064e+09,\n",
       "       1.63727458e+09, 1.23853818e+09, 9.36908711e+08, 7.08737081e+08,\n",
       "       5.36133611e+08, 4.05565415e+08, 3.06795364e+08, 2.32079442e+08,\n",
       "       1.75559587e+08, 1.32804389e+08, 1.00461650e+08, 7.59955541e+07,\n",
       "       5.74878498e+07, 4.34874501e+07, 3.28966612e+07, 2.48851178e+07,\n",
       "       1.88246790e+07, 1.42401793e+07, 1.07721735e+07, 8.14875417e+06,\n",
       "       6.16423370e+06, 4.66301673e+06, 3.52740116e+06, 2.66834962e+06,\n",
       "       2.01850863e+06, 1.52692775e+06, 1.15506485e+06, 8.73764200e+05,\n",
       "       6.60970574e+05, 5.00000000e+05, 3.78231664e+05, 2.86118383e+05,\n",
       "       2.16438064e+05, 1.63727458e+05, 1.23853818e+05, 9.36908711e+04,\n",
       "       7.08737081e+04, 5.36133611e+04, 4.05565415e+04, 3.06795364e+04,\n",
       "       2.32079442e+04, 1.75559587e+04, 1.32804389e+04, 1.00461650e+04,\n",
       "       7.59955541e+03, 5.74878498e+03, 4.34874501e+03, 3.28966612e+03,\n",
       "       2.48851178e+03, 1.88246790e+03, 1.42401793e+03, 1.07721735e+03,\n",
       "       8.14875417e+02, 6.16423370e+02, 4.66301673e+02, 3.52740116e+02,\n",
       "       2.66834962e+02, 2.01850863e+02, 1.52692775e+02, 1.15506485e+02,\n",
       "       8.73764200e+01, 6.60970574e+01, 5.00000000e+01, 3.78231664e+01,\n",
       "       2.86118383e+01, 2.16438064e+01, 1.63727458e+01, 1.23853818e+01,\n",
       "       9.36908711e+00, 7.08737081e+00, 5.36133611e+00, 4.05565415e+00,\n",
       "       3.06795364e+00, 2.32079442e+00, 1.75559587e+00, 1.32804389e+00,\n",
       "       1.00461650e+00, 7.59955541e-01, 5.74878498e-01, 4.34874501e-01,\n",
       "       3.28966612e-01, 2.48851178e-01, 1.88246790e-01, 1.42401793e-01,\n",
       "       1.07721735e-01, 8.14875417e-02, 6.16423370e-02, 4.66301673e-02,\n",
       "       3.52740116e-02, 2.66834962e-02, 2.01850863e-02, 1.52692775e-02,\n",
       "       1.15506485e-02, 8.73764200e-03, 6.60970574e-03, 5.00000000e-03])"
      ]
     },
     "execution_count": 10,
     "metadata": {},
     "output_type": "execute_result"
    }
   ],
   "source": [
    "10**np.linspace(10,-2,100)*0.5 "
   ]
  },
  {
   "cell_type": "code",
   "execution_count": 14,
   "metadata": {},
   "outputs": [
    {
     "data": {
      "image/png": "[encoded data removed]",
      "text/plain": [
       "<Figure size 432x288 with 1 Axes>"
      ]
     },
     "metadata": {
      "needs_background": "light"
     },
     "output_type": "display_data"
    }
   ],
   "source": [
    "lambdalar = 10**np.linspace(10,-2,100)*0.5 \n",
    "\n",
    "ridge_model = Ridge()\n",
    "katsayilar = []\n",
    "\n",
    "for i in lambdalar:\n",
    "    ridge_model.set_params(alpha = i)\n",
    "    ridge_model.fit(X_train_r, y_train_r) \n",
    "    katsayilar.append(ridge_model.coef_) \n",
    "    \n",
    "\n",
    "    \n",
    "ax = plt.gca()\n",
    "ax.plot(lambdalar, katsayilar) \n",
    "ax.set_xscale('log') \n",
    "\n",
    "plt.xlabel('Lambda(Alpha) Değerleri')\n",
    "plt.ylabel('Katsayılar/Ağırlıklar')\n",
    "plt.title('Düzenlileştirmenin Bir Fonksiyonu Olarak Ridge Katsayıları');"
   ]
  },
  {
   "cell_type": "markdown",
   "metadata": {},
   "source": [
    "### 2. Tahmin"
   ]
  },
  {
   "cell_type": "code",
   "execution_count": 21,
   "metadata": {},
   "outputs": [],
   "source": [
    "y_pred_r = ridge_model.predict(X_train_r)"
   ]
  },
  {
   "cell_type": "code",
   "execution_count": 22,
   "metadata": {},
   "outputs": [
    {
     "data": {
      "text/plain": [
       "array([-24.29853032,   2.31480843,   2.17923683, ...,   1.45078446,\n",
       "         1.44658209,   2.73224547])"
      ]
     },
     "execution_count": 22,
     "metadata": {},
     "output_type": "execute_result"
    }
   ],
   "source": [
    "y_pred_r"
   ]
  },
  {
   "cell_type": "code",
   "execution_count": 24,
   "metadata": {},
   "outputs": [
    {
     "name": "stdout",
     "output_type": "stream",
     "text": [
      "MSE : 489.71681475048916\n",
      "RMSE : 22.12954619395728\n",
      "MAE : 6.685656583569678\n",
      "R2 : 0.1415509865886838\n"
     ]
    }
   ],
   "source": [
    "## eğitim seti ölçüm metrikleri\n",
    "print(\"MSE : \" + str(mean_squared_error(y_train_r, y_pred_r)))\n",
    "print(\"RMSE : \" + str(np.sqrt(mean_squared_error(y_train_r, y_pred_r))))\n",
    "print(\"MAE : \" + str(mean_absolute_error(y_train_r, y_pred_r)))\n",
    "print(\"R2 : \" + str(r2_score(y_train_r, y_pred_r)))"
   ]
  },
  {
   "cell_type": "code",
   "execution_count": 25,
   "metadata": {},
   "outputs": [],
   "source": [
    "y_pred_r = ridge_model.predict(X_test_r)"
   ]
  },
  {
   "cell_type": "code",
   "execution_count": 26,
   "metadata": {},
   "outputs": [
    {
     "data": {
      "text/plain": [
       "array([-2.61365375,  1.48390672, -0.04079985, ...,  2.31573737,\n",
       "        1.94616457,  4.00909808])"
      ]
     },
     "execution_count": 26,
     "metadata": {},
     "output_type": "execute_result"
    }
   ],
   "source": [
    "y_pred_r"
   ]
  },
  {
   "cell_type": "code",
   "execution_count": 28,
   "metadata": {},
   "outputs": [
    {
     "name": "stdout",
     "output_type": "stream",
     "text": [
      "MSE : 496.9772456519872\n",
      "RMSE : 22.292986467765758\n",
      "MAE : 6.706254687410646\n",
      "R2 : 0.14897991726786186\n"
     ]
    }
   ],
   "source": [
    "##test seti ölçüm metrikleri\n",
    "print(\"MSE : \" + str(mean_squared_error(y_test_r, y_pred_r)))\n",
    "print(\"RMSE : \" + str(np.sqrt(mean_squared_error(y_test_r, y_pred_r))))\n",
    "print(\"MAE : \" + str(mean_absolute_error(y_test_r, y_pred_r)))\n",
    "print(\"R2 : \" + str(r2_score(y_test_r, y_pred_r)))"
   ]
  },
  {
   "cell_type": "code",
   "execution_count": null,
   "metadata": {},
   "outputs": [],
   "source": []
  },
  {
   "cell_type": "markdown",
   "metadata": {},
   "source": [
    "### 3. Model Tuning"
   ]
  },
  {
   "cell_type": "code",
   "execution_count": 50,
   "metadata": {},
   "outputs": [],
   "source": [
    "lambdalar = 10**np.linspace(10,-2,100)*0.5 "
   ]
  },
  {
   "cell_type": "code",
   "execution_count": 51,
   "metadata": {},
   "outputs": [
    {
     "data": {
      "text/plain": [
       "array([5.00000000e+09, 3.78231664e+09, 2.86118383e+09, 2.16438064e+09,\n",
       "       1.63727458e+09])"
      ]
     },
     "execution_count": 51,
     "metadata": {},
     "output_type": "execute_result"
    }
   ],
   "source": [
    "lambdalar[0:5]"
   ]
  },
  {
   "cell_type": "code",
   "execution_count": 52,
   "metadata": {},
   "outputs": [],
   "source": [
    "from sklearn.linear_model import RidgeCV\n",
    "ridge_cv = RidgeCV(alphas = lambdalar, \n",
    "                   scoring = \"neg_mean_squared_error\",\n",
    "                   normalize = True)"
   ]
  },
  {
   "cell_type": "code",
   "execution_count": 53,
   "metadata": {},
   "outputs": [
    {
     "data": {
      "text/plain": [
       "RidgeCV(alphas=array([5.00000000e+09, 3.78231664e+09, 2.86118383e+09, 2.16438064e+09,\n",
       "       1.63727458e+09, 1.23853818e+09, 9.36908711e+08, 7.08737081e+08,\n",
       "       5.36133611e+08, 4.05565415e+08, 3.06795364e+08, 2.32079442e+08,\n",
       "       1.75559587e+08, 1.32804389e+08, 1.00461650e+08, 7.59955541e+07,\n",
       "       5.74878498e+07, 4.34874501e+07, 3.28966612e+07, 2.48851178e+07,\n",
       "       1.88246790e+07, 1.42401793e+0...\n",
       "       3.28966612e-01, 2.48851178e-01, 1.88246790e-01, 1.42401793e-01,\n",
       "       1.07721735e-01, 8.14875417e-02, 6.16423370e-02, 4.66301673e-02,\n",
       "       3.52740116e-02, 2.66834962e-02, 2.01850863e-02, 1.52692775e-02,\n",
       "       1.15506485e-02, 8.73764200e-03, 6.60970574e-03, 5.00000000e-03]),\n",
       "        cv=None, fit_intercept=True, gcv_mode=None, normalize=True,\n",
       "        scoring='neg_mean_squared_error', store_cv_values=False)"
      ]
     },
     "execution_count": 53,
     "metadata": {},
     "output_type": "execute_result"
    }
   ],
   "source": [
    "ridge_cv.fit(X_train_r, y_train_r)"
   ]
  },
  {
   "cell_type": "code",
   "execution_count": 54,
   "metadata": {},
   "outputs": [
    {
     "data": {
      "text/plain": [
       "0.005"
      ]
     },
     "execution_count": 54,
     "metadata": {},
     "output_type": "execute_result"
    }
   ],
   "source": [
    "ridge_cv.alpha_"
   ]
  },
  {
   "cell_type": "code",
   "execution_count": 55,
   "metadata": {},
   "outputs": [],
   "source": [
    "ridge_tuned = Ridge(alpha = ridge_cv.alpha_, \n",
    "                   normalize = True).fit(X_train_r,y_train_r)"
   ]
  },
  {
   "cell_type": "code",
   "execution_count": 56,
   "metadata": {},
   "outputs": [],
   "source": [
    "y_pred_r = ridge_tuned.predict(X_test_r)"
   ]
  },
  {
   "cell_type": "code",
   "execution_count": 57,
   "metadata": {},
   "outputs": [
    {
     "name": "stdout",
     "output_type": "stream",
     "text": [
      "MSE : 497.0262344776716\n",
      "RMSE : 22.294085190419267\n",
      "MAE : 6.69722792342646\n",
      "R2 : 0.14889602917267908\n"
     ]
    }
   ],
   "source": [
    "##tuning ölçüm metrikleri\n",
    "print(\"MSE : \" + str(mean_squared_error(y_test_r, y_pred_r)))\n",
    "print(\"RMSE : \" + str(np.sqrt(mean_squared_error(y_test_r, y_pred_r))))\n",
    "print(\"MAE : \" + str(mean_absolute_error(y_test_r, y_pred_r)))\n",
    "print(\"R2 : \" + str(r2_score(y_test_r, y_pred_r)))"
   ]
  },
  {
   "cell_type": "code",
   "execution_count": null,
   "metadata": {},
   "outputs": [],
   "source": []
  },
  {
   "cell_type": "code",
   "execution_count": null,
   "metadata": {},
   "outputs": [],
   "source": []
  },
  {
   "cell_type": "markdown",
   "metadata": {},
   "source": [
    "# Dogrusal olmayan Coklu Regresyon"
   ]
  },
  {
   "cell_type": "markdown",
   "metadata": {},
   "source": [
    "## SVR ile Model Gelistirme\n",
    "### 1. Model"
   ]
  },
  {
   "cell_type": "code",
   "execution_count": 58,
   "metadata": {},
   "outputs": [
    {
     "data": {
      "text/html": [
       "<div>\n",
       "<style scoped>\n",
       "    .dataframe tbody tr th:only-of-type {\n",
       "        vertical-align: middle;\n",
       "    }\n",
       "\n",
       "    .dataframe tbody tr th {\n",
       "        vertical-align: top;\n",
       "    }\n",
       "\n",
       "    .dataframe thead th {\n",
       "        text-align: right;\n",
       "    }\n",
       "</style>\n",
       "<table border=\"1\" class=\"dataframe\">\n",
       "  <thead>\n",
       "    <tr style=\"text-align: right;\">\n",
       "      <th></th>\n",
       "      <th>FONTOPLAMDEGER</th>\n",
       "      <th>TEDAVPAYSAYISI</th>\n",
       "      <th>KISISAYISI</th>\n",
       "      <th>FAIZ</th>\n",
       "      <th>DOLARFIYAT</th>\n",
       "      <th>ALTINFIYAT</th>\n",
       "      <th>BB</th>\n",
       "      <th>DT</th>\n",
       "      <th>DB</th>\n",
       "      <th>DÖT</th>\n",
       "      <th>...</th>\n",
       "      <th>FB</th>\n",
       "      <th>FKB</th>\n",
       "      <th>GAS</th>\n",
       "      <th>HB</th>\n",
       "      <th>HS</th>\n",
       "      <th>KBA</th>\n",
       "      <th>KKS</th>\n",
       "      <th>KH</th>\n",
       "      <th>KM</th>\n",
       "      <th>OSKS</th>\n",
       "    </tr>\n",
       "  </thead>\n",
       "  <tbody>\n",
       "    <tr>\n",
       "      <th>0</th>\n",
       "      <td>8.722176e+07</td>\n",
       "      <td>4.350000e+06</td>\n",
       "      <td>0</td>\n",
       "      <td>0.2302</td>\n",
       "      <td>5.2905</td>\n",
       "      <td>219270.871675</td>\n",
       "      <td>100.00</td>\n",
       "      <td>0.00</td>\n",
       "      <td>0.00</td>\n",
       "      <td>0.00</td>\n",
       "      <td>...</td>\n",
       "      <td>0.00</td>\n",
       "      <td>0.0</td>\n",
       "      <td>0.0</td>\n",
       "      <td>0.0</td>\n",
       "      <td>0.0</td>\n",
       "      <td>0.0</td>\n",
       "      <td>0.0</td>\n",
       "      <td>0.0</td>\n",
       "      <td>0.0</td>\n",
       "      <td>0.0</td>\n",
       "    </tr>\n",
       "    <tr>\n",
       "      <th>1</th>\n",
       "      <td>1.238294e+07</td>\n",
       "      <td>7.000000e+05</td>\n",
       "      <td>0</td>\n",
       "      <td>0.2302</td>\n",
       "      <td>5.2905</td>\n",
       "      <td>219270.871675</td>\n",
       "      <td>100.00</td>\n",
       "      <td>0.00</td>\n",
       "      <td>0.00</td>\n",
       "      <td>0.00</td>\n",
       "      <td>...</td>\n",
       "      <td>0.00</td>\n",
       "      <td>0.0</td>\n",
       "      <td>0.0</td>\n",
       "      <td>0.0</td>\n",
       "      <td>0.0</td>\n",
       "      <td>0.0</td>\n",
       "      <td>0.0</td>\n",
       "      <td>0.0</td>\n",
       "      <td>0.0</td>\n",
       "      <td>0.0</td>\n",
       "    </tr>\n",
       "    <tr>\n",
       "      <th>2</th>\n",
       "      <td>1.491130e+07</td>\n",
       "      <td>4.800000e+05</td>\n",
       "      <td>0</td>\n",
       "      <td>0.2302</td>\n",
       "      <td>5.2905</td>\n",
       "      <td>219270.871675</td>\n",
       "      <td>99.83</td>\n",
       "      <td>0.17</td>\n",
       "      <td>0.00</td>\n",
       "      <td>0.00</td>\n",
       "      <td>...</td>\n",
       "      <td>0.00</td>\n",
       "      <td>0.0</td>\n",
       "      <td>0.0</td>\n",
       "      <td>0.0</td>\n",
       "      <td>0.0</td>\n",
       "      <td>0.0</td>\n",
       "      <td>0.0</td>\n",
       "      <td>0.0</td>\n",
       "      <td>0.0</td>\n",
       "      <td>0.0</td>\n",
       "    </tr>\n",
       "    <tr>\n",
       "      <th>3</th>\n",
       "      <td>1.465104e+09</td>\n",
       "      <td>6.335717e+10</td>\n",
       "      <td>325392</td>\n",
       "      <td>0.2302</td>\n",
       "      <td>5.2905</td>\n",
       "      <td>219270.871675</td>\n",
       "      <td>1.01</td>\n",
       "      <td>3.44</td>\n",
       "      <td>85.25</td>\n",
       "      <td>3.07</td>\n",
       "      <td>...</td>\n",
       "      <td>7.23</td>\n",
       "      <td>0.0</td>\n",
       "      <td>0.0</td>\n",
       "      <td>0.0</td>\n",
       "      <td>0.0</td>\n",
       "      <td>0.0</td>\n",
       "      <td>0.0</td>\n",
       "      <td>0.0</td>\n",
       "      <td>0.0</td>\n",
       "      <td>0.0</td>\n",
       "    </tr>\n",
       "    <tr>\n",
       "      <th>4</th>\n",
       "      <td>1.784293e+09</td>\n",
       "      <td>7.415738e+10</td>\n",
       "      <td>325460</td>\n",
       "      <td>0.2302</td>\n",
       "      <td>5.2905</td>\n",
       "      <td>219270.871675</td>\n",
       "      <td>0.25</td>\n",
       "      <td>99.75</td>\n",
       "      <td>0.00</td>\n",
       "      <td>0.00</td>\n",
       "      <td>...</td>\n",
       "      <td>0.00</td>\n",
       "      <td>0.0</td>\n",
       "      <td>0.0</td>\n",
       "      <td>0.0</td>\n",
       "      <td>0.0</td>\n",
       "      <td>0.0</td>\n",
       "      <td>0.0</td>\n",
       "      <td>0.0</td>\n",
       "      <td>0.0</td>\n",
       "      <td>0.0</td>\n",
       "    </tr>\n",
       "  </tbody>\n",
       "</table>\n",
       "<p>5 rows × 21 columns</p>\n",
       "</div>"
      ],
      "text/plain": [
       "   FONTOPLAMDEGER  TEDAVPAYSAYISI  KISISAYISI    FAIZ  DOLARFIYAT  \\\n",
       "0    8.722176e+07    4.350000e+06           0  0.2302      5.2905   \n",
       "1    1.238294e+07    7.000000e+05           0  0.2302      5.2905   \n",
       "2    1.491130e+07    4.800000e+05           0  0.2302      5.2905   \n",
       "3    1.465104e+09    6.335717e+10      325392  0.2302      5.2905   \n",
       "4    1.784293e+09    7.415738e+10      325460  0.2302      5.2905   \n",
       "\n",
       "      ALTINFIYAT      BB     DT     DB   DÖT  ...    FB  FKB  GAS   HB   HS  \\\n",
       "0  219270.871675  100.00   0.00   0.00  0.00  ...  0.00  0.0  0.0  0.0  0.0   \n",
       "1  219270.871675  100.00   0.00   0.00  0.00  ...  0.00  0.0  0.0  0.0  0.0   \n",
       "2  219270.871675   99.83   0.17   0.00  0.00  ...  0.00  0.0  0.0  0.0  0.0   \n",
       "3  219270.871675    1.01   3.44  85.25  3.07  ...  7.23  0.0  0.0  0.0  0.0   \n",
       "4  219270.871675    0.25  99.75   0.00  0.00  ...  0.00  0.0  0.0  0.0  0.0   \n",
       "\n",
       "   KBA  KKS   KH   KM  OSKS  \n",
       "0  0.0  0.0  0.0  0.0   0.0  \n",
       "1  0.0  0.0  0.0  0.0   0.0  \n",
       "2  0.0  0.0  0.0  0.0   0.0  \n",
       "3  0.0  0.0  0.0  0.0   0.0  \n",
       "4  0.0  0.0  0.0  0.0   0.0  \n",
       "\n",
       "[5 rows x 21 columns]"
      ]
     },
     "execution_count": 58,
     "metadata": {},
     "output_type": "execute_result"
    }
   ],
   "source": [
    "df_svr = df.copy()\n",
    "X_s = df_svr.drop(['TARIH','FONTIP','FONTUR','FON','FONFIYAT'], axis = 1)\n",
    "y_s = df_svr[\"FONFIYAT\"]\n",
    "\n",
    "X_train_s, X_test_s, y_train_s, y_test_s = train_test_split(X_s, y_s, test_size=0.25, random_state=42)\n",
    "\n",
    "X_s.head()"
   ]
  },
  {
   "cell_type": "code",
   "execution_count": 59,
   "metadata": {},
   "outputs": [],
   "source": [
    "from sklearn.svm import SVR"
   ]
  },
  {
   "cell_type": "code",
   "execution_count": 60,
   "metadata": {},
   "outputs": [],
   "source": [
    "svr_rbf = SVR(\"rbf\").fit(X_train_s, y_train_s)"
   ]
  },
  {
   "cell_type": "code",
   "execution_count": 64,
   "metadata": {},
   "outputs": [
    {
     "data": {
      "text/plain": [
       "SVR(C=1.0, cache_size=200, coef0=0.0, degree=3, epsilon=0.1, gamma='scale',\n",
       "    kernel='rbf', max_iter=-1, shrinking=True, tol=0.001, verbose=False)"
      ]
     },
     "execution_count": 64,
     "metadata": {},
     "output_type": "execute_result"
    }
   ],
   "source": [
    "svr_rbf"
   ]
  },
  {
   "cell_type": "markdown",
   "metadata": {},
   "source": [
    "### 2. Tahmin"
   ]
  },
  {
   "cell_type": "code",
   "execution_count": 65,
   "metadata": {},
   "outputs": [],
   "source": [
    "y_pred_s = svr_rbf.predict(X_train_s)"
   ]
  },
  {
   "cell_type": "code",
   "execution_count": 67,
   "metadata": {},
   "outputs": [
    {
     "data": {
      "text/plain": [
       "23.65037098161989"
      ]
     },
     "execution_count": 67,
     "metadata": {},
     "output_type": "execute_result"
    }
   ],
   "source": [
    "np.sqrt(mean_squared_error(y_train_s, y_pred_s))"
   ]
  },
  {
   "cell_type": "code",
   "execution_count": 68,
   "metadata": {},
   "outputs": [
    {
     "name": "stdout",
     "output_type": "stream",
     "text": [
      "MSE : 559.3400475682482\n",
      "RMSE : 23.65037098161989\n",
      "MAE : 3.868957010301556\n",
      "R2 : 0.01950495156870291\n"
     ]
    }
   ],
   "source": [
    "## eğitim seti ölçüm metrikleri\n",
    "print(\"MSE : \" + str(mean_squared_error(y_train_s, y_pred_s)))\n",
    "print(\"RMSE : \" + str(np.sqrt(mean_squared_error(y_train_s, y_pred_s))))\n",
    "print(\"MAE : \" + str(mean_absolute_error(y_train_s, y_pred_s)))\n",
    "print(\"R2 : \" + str(r2_score(y_train_s, y_pred_s)))"
   ]
  },
  {
   "cell_type": "code",
   "execution_count": 69,
   "metadata": {},
   "outputs": [],
   "source": [
    "y_pred_s = svr_rbf.predict(X_test_s)"
   ]
  },
  {
   "cell_type": "code",
   "execution_count": 70,
   "metadata": {},
   "outputs": [
    {
     "data": {
      "text/plain": [
       "array([-0.0769619 ,  0.10115029, -0.14965292, ...,  0.20779766,\n",
       "        0.18377917,  0.72187315])"
      ]
     },
     "execution_count": 70,
     "metadata": {},
     "output_type": "execute_result"
    }
   ],
   "source": [
    "y_pred_s"
   ]
  },
  {
   "cell_type": "code",
   "execution_count": 71,
   "metadata": {},
   "outputs": [
    {
     "name": "stdout",
     "output_type": "stream",
     "text": [
      "MSE : 571.1903790205789\n",
      "RMSE : 23.899589515733926\n",
      "MAE : 3.8880055123942943\n",
      "R2 : 0.021897908077895156\n"
     ]
    }
   ],
   "source": [
    "##test seti ölçüm metrikleri\n",
    "print(\"MSE : \" + str(mean_squared_error(y_test_s, y_pred_s)))\n",
    "print(\"RMSE : \" + str(np.sqrt(mean_squared_error(y_test_s, y_pred_s))))\n",
    "print(\"MAE : \" + str(mean_absolute_error(y_test_s, y_pred_s)))\n",
    "print(\"R2 : \" + str(r2_score(y_test_s, y_pred_s)))"
   ]
  },
  {
   "cell_type": "code",
   "execution_count": null,
   "metadata": {},
   "outputs": [],
   "source": []
  },
  {
   "cell_type": "code",
   "execution_count": null,
   "metadata": {},
   "outputs": [],
   "source": []
  },
  {
   "cell_type": "markdown",
   "metadata": {},
   "source": [
    "### 3. Model Tuning"
   ]
  },
  {
   "cell_type": "code",
   "execution_count": 72,
   "metadata": {},
   "outputs": [
    {
     "data": {
      "text/plain": [
       "SVR(C=1.0, cache_size=200, coef0=0.0, degree=3, epsilon=0.1, gamma='scale',\n",
       "    kernel='rbf', max_iter=-1, shrinking=True, tol=0.001, verbose=False)"
      ]
     },
     "execution_count": 72,
     "metadata": {},
     "output_type": "execute_result"
    }
   ],
   "source": [
    "svr_rbf"
   ]
  },
  {
   "cell_type": "code",
   "execution_count": null,
   "metadata": {},
   "outputs": [],
   "source": [
    "svr_params = {\"C\": np.arange(0.1,2,0.1)}\n",
    "svr_cv_model = GridSearchCV(svr_rbf,svr_params, cv = 10)\n",
    "svr_cv_model.fit(X_train, y_train)"
   ]
  },
  {
   "cell_type": "code",
   "execution_count": 5,
   "metadata": {},
   "outputs": [
    {
     "ename": "NameError",
     "evalue": "name 'svr_cv_model' is not defined",
     "output_type": "error",
     "traceback": [
      "\u001b[0;31m---------------------------------------------------------------------------\u001b[0m",
      "\u001b[0;31mNameError\u001b[0m                                 Traceback (most recent call last)",
      "\u001b[0;32m<ipython-input-5-1316d66713aa>\u001b[0m in \u001b[0;36m<module>\u001b[0;34m\u001b[0m\n\u001b[0;32m----> 1\u001b[0;31m \u001b[0mpd\u001b[0m\u001b[0;34m.\u001b[0m\u001b[0mSeries\u001b[0m\u001b[0;34m(\u001b[0m\u001b[0msvr_cv_model\u001b[0m\u001b[0;34m.\u001b[0m\u001b[0mbest_params_\u001b[0m\u001b[0;34m)\u001b[0m\u001b[0;34m[\u001b[0m\u001b[0;36m0\u001b[0m\u001b[0;34m]\u001b[0m\u001b[0;34m\u001b[0m\u001b[0;34m\u001b[0m\u001b[0m\n\u001b[0m",
      "\u001b[0;31mNameError\u001b[0m: name 'svr_cv_model' is not defined"
     ]
    }
   ],
   "source": [
    "pd.Series(svr_cv_model.best_params_)[0]"
   ]
  },
  {
   "cell_type": "code",
   "execution_count": null,
   "metadata": {},
   "outputs": [],
   "source": [
    "svr_tuned = SVR(\"rbf\", C = pd.Series(svr_cv_model.best_params_)[0]).fit(X_train, \n",
    "                                                                        y_train)\n",
    "\n"
   ]
  },
  {
   "cell_type": "code",
   "execution_count": null,
   "metadata": {},
   "outputs": [],
   "source": [
    "y_pred = svr_tuned.predict(X_test)\n",
    "\n",
    "np.sqrt(mean_squared_error(y_test, y_pred))"
   ]
  },
  {
   "cell_type": "markdown",
   "metadata": {},
   "source": [
    "## YSA ile Model Gelistirme"
   ]
  },
  {
   "cell_type": "markdown",
   "metadata": {},
   "source": [
    "### 1. Model"
   ]
  },
  {
   "cell_type": "code",
   "execution_count": 74,
   "metadata": {},
   "outputs": [
    {
     "data": {
      "text/html": [
       "<div>\n",
       "<style scoped>\n",
       "    .dataframe tbody tr th:only-of-type {\n",
       "        vertical-align: middle;\n",
       "    }\n",
       "\n",
       "    .dataframe tbody tr th {\n",
       "        vertical-align: top;\n",
       "    }\n",
       "\n",
       "    .dataframe thead th {\n",
       "        text-align: right;\n",
       "    }\n",
       "</style>\n",
       "<table border=\"1\" class=\"dataframe\">\n",
       "  <thead>\n",
       "    <tr style=\"text-align: right;\">\n",
       "      <th></th>\n",
       "      <th>FONTOPLAMDEGER</th>\n",
       "      <th>TEDAVPAYSAYISI</th>\n",
       "      <th>KISISAYISI</th>\n",
       "      <th>FAIZ</th>\n",
       "      <th>DOLARFIYAT</th>\n",
       "      <th>ALTINFIYAT</th>\n",
       "      <th>BB</th>\n",
       "      <th>DT</th>\n",
       "      <th>DB</th>\n",
       "      <th>DÖT</th>\n",
       "      <th>...</th>\n",
       "      <th>FB</th>\n",
       "      <th>FKB</th>\n",
       "      <th>GAS</th>\n",
       "      <th>HB</th>\n",
       "      <th>HS</th>\n",
       "      <th>KBA</th>\n",
       "      <th>KKS</th>\n",
       "      <th>KH</th>\n",
       "      <th>KM</th>\n",
       "      <th>OSKS</th>\n",
       "    </tr>\n",
       "  </thead>\n",
       "  <tbody>\n",
       "    <tr>\n",
       "      <th>0</th>\n",
       "      <td>8.722176e+07</td>\n",
       "      <td>4.350000e+06</td>\n",
       "      <td>0</td>\n",
       "      <td>0.2302</td>\n",
       "      <td>5.2905</td>\n",
       "      <td>219270.871675</td>\n",
       "      <td>100.00</td>\n",
       "      <td>0.00</td>\n",
       "      <td>0.00</td>\n",
       "      <td>0.00</td>\n",
       "      <td>...</td>\n",
       "      <td>0.00</td>\n",
       "      <td>0.0</td>\n",
       "      <td>0.0</td>\n",
       "      <td>0.0</td>\n",
       "      <td>0.0</td>\n",
       "      <td>0.0</td>\n",
       "      <td>0.0</td>\n",
       "      <td>0.0</td>\n",
       "      <td>0.0</td>\n",
       "      <td>0.0</td>\n",
       "    </tr>\n",
       "    <tr>\n",
       "      <th>1</th>\n",
       "      <td>1.238294e+07</td>\n",
       "      <td>7.000000e+05</td>\n",
       "      <td>0</td>\n",
       "      <td>0.2302</td>\n",
       "      <td>5.2905</td>\n",
       "      <td>219270.871675</td>\n",
       "      <td>100.00</td>\n",
       "      <td>0.00</td>\n",
       "      <td>0.00</td>\n",
       "      <td>0.00</td>\n",
       "      <td>...</td>\n",
       "      <td>0.00</td>\n",
       "      <td>0.0</td>\n",
       "      <td>0.0</td>\n",
       "      <td>0.0</td>\n",
       "      <td>0.0</td>\n",
       "      <td>0.0</td>\n",
       "      <td>0.0</td>\n",
       "      <td>0.0</td>\n",
       "      <td>0.0</td>\n",
       "      <td>0.0</td>\n",
       "    </tr>\n",
       "    <tr>\n",
       "      <th>2</th>\n",
       "      <td>1.491130e+07</td>\n",
       "      <td>4.800000e+05</td>\n",
       "      <td>0</td>\n",
       "      <td>0.2302</td>\n",
       "      <td>5.2905</td>\n",
       "      <td>219270.871675</td>\n",
       "      <td>99.83</td>\n",
       "      <td>0.17</td>\n",
       "      <td>0.00</td>\n",
       "      <td>0.00</td>\n",
       "      <td>...</td>\n",
       "      <td>0.00</td>\n",
       "      <td>0.0</td>\n",
       "      <td>0.0</td>\n",
       "      <td>0.0</td>\n",
       "      <td>0.0</td>\n",
       "      <td>0.0</td>\n",
       "      <td>0.0</td>\n",
       "      <td>0.0</td>\n",
       "      <td>0.0</td>\n",
       "      <td>0.0</td>\n",
       "    </tr>\n",
       "    <tr>\n",
       "      <th>3</th>\n",
       "      <td>1.465104e+09</td>\n",
       "      <td>6.335717e+10</td>\n",
       "      <td>325392</td>\n",
       "      <td>0.2302</td>\n",
       "      <td>5.2905</td>\n",
       "      <td>219270.871675</td>\n",
       "      <td>1.01</td>\n",
       "      <td>3.44</td>\n",
       "      <td>85.25</td>\n",
       "      <td>3.07</td>\n",
       "      <td>...</td>\n",
       "      <td>7.23</td>\n",
       "      <td>0.0</td>\n",
       "      <td>0.0</td>\n",
       "      <td>0.0</td>\n",
       "      <td>0.0</td>\n",
       "      <td>0.0</td>\n",
       "      <td>0.0</td>\n",
       "      <td>0.0</td>\n",
       "      <td>0.0</td>\n",
       "      <td>0.0</td>\n",
       "    </tr>\n",
       "    <tr>\n",
       "      <th>4</th>\n",
       "      <td>1.784293e+09</td>\n",
       "      <td>7.415738e+10</td>\n",
       "      <td>325460</td>\n",
       "      <td>0.2302</td>\n",
       "      <td>5.2905</td>\n",
       "      <td>219270.871675</td>\n",
       "      <td>0.25</td>\n",
       "      <td>99.75</td>\n",
       "      <td>0.00</td>\n",
       "      <td>0.00</td>\n",
       "      <td>...</td>\n",
       "      <td>0.00</td>\n",
       "      <td>0.0</td>\n",
       "      <td>0.0</td>\n",
       "      <td>0.0</td>\n",
       "      <td>0.0</td>\n",
       "      <td>0.0</td>\n",
       "      <td>0.0</td>\n",
       "      <td>0.0</td>\n",
       "      <td>0.0</td>\n",
       "      <td>0.0</td>\n",
       "    </tr>\n",
       "  </tbody>\n",
       "</table>\n",
       "<p>5 rows × 21 columns</p>\n",
       "</div>"
      ],
      "text/plain": [
       "   FONTOPLAMDEGER  TEDAVPAYSAYISI  KISISAYISI    FAIZ  DOLARFIYAT  \\\n",
       "0    8.722176e+07    4.350000e+06           0  0.2302      5.2905   \n",
       "1    1.238294e+07    7.000000e+05           0  0.2302      5.2905   \n",
       "2    1.491130e+07    4.800000e+05           0  0.2302      5.2905   \n",
       "3    1.465104e+09    6.335717e+10      325392  0.2302      5.2905   \n",
       "4    1.784293e+09    7.415738e+10      325460  0.2302      5.2905   \n",
       "\n",
       "      ALTINFIYAT      BB     DT     DB   DÖT  ...    FB  FKB  GAS   HB   HS  \\\n",
       "0  219270.871675  100.00   0.00   0.00  0.00  ...  0.00  0.0  0.0  0.0  0.0   \n",
       "1  219270.871675  100.00   0.00   0.00  0.00  ...  0.00  0.0  0.0  0.0  0.0   \n",
       "2  219270.871675   99.83   0.17   0.00  0.00  ...  0.00  0.0  0.0  0.0  0.0   \n",
       "3  219270.871675    1.01   3.44  85.25  3.07  ...  7.23  0.0  0.0  0.0  0.0   \n",
       "4  219270.871675    0.25  99.75   0.00  0.00  ...  0.00  0.0  0.0  0.0  0.0   \n",
       "\n",
       "   KBA  KKS   KH   KM  OSKS  \n",
       "0  0.0  0.0  0.0  0.0   0.0  \n",
       "1  0.0  0.0  0.0  0.0   0.0  \n",
       "2  0.0  0.0  0.0  0.0   0.0  \n",
       "3  0.0  0.0  0.0  0.0   0.0  \n",
       "4  0.0  0.0  0.0  0.0   0.0  \n",
       "\n",
       "[5 rows x 21 columns]"
      ]
     },
     "execution_count": 74,
     "metadata": {},
     "output_type": "execute_result"
    }
   ],
   "source": [
    "df_ysa = df.copy()\n",
    "X_y = df_ysa.drop(['TARIH','FONTIP','FONTUR','FON','FONFIYAT'], axis = 1)\n",
    "y_y = df_ysa[\"FONFIYAT\"]\n",
    "\n",
    "X_train_y, X_test_y, y_train_y, y_test_y = train_test_split(X_y, y_y, test_size=0.25, random_state=42)\n",
    "\n",
    "X_y.head()"
   ]
  },
  {
   "cell_type": "code",
   "execution_count": 75,
   "metadata": {},
   "outputs": [
    {
     "data": {
      "text/plain": [
       "StandardScaler(copy=True, with_mean=True, with_std=True)"
      ]
     },
     "execution_count": 75,
     "metadata": {},
     "output_type": "execute_result"
    }
   ],
   "source": [
    "scaler = StandardScaler()\n",
    "scaler.fit(X_train_y)"
   ]
  },
  {
   "cell_type": "code",
   "execution_count": 76,
   "metadata": {},
   "outputs": [],
   "source": [
    "X_train_scaled = scaler.transform(X_train_y)"
   ]
  },
  {
   "cell_type": "code",
   "execution_count": 77,
   "metadata": {},
   "outputs": [],
   "source": [
    "X_test_scaled = scaler.transform(X_test_y)"
   ]
  },
  {
   "cell_type": "code",
   "execution_count": 78,
   "metadata": {},
   "outputs": [],
   "source": [
    "from sklearn.neural_network import MLPRegressor"
   ]
  },
  {
   "cell_type": "code",
   "execution_count": 79,
   "metadata": {},
   "outputs": [],
   "source": [
    "mlp_model = MLPRegressor(hidden_layer_sizes = (100,20)).fit(X_train_scaled, y_train_y)"
   ]
  },
  {
   "cell_type": "code",
   "execution_count": 80,
   "metadata": {},
   "outputs": [
    {
     "data": {
      "text/plain": [
       "MLPRegressor(activation='relu', alpha=0.0001, batch_size='auto', beta_1=0.9,\n",
       "             beta_2=0.999, early_stopping=False, epsilon=1e-08,\n",
       "             hidden_layer_sizes=(100, 20), learning_rate='constant',\n",
       "             learning_rate_init=0.001, max_fun=15000, max_iter=200,\n",
       "             momentum=0.9, n_iter_no_change=10, nesterovs_momentum=True,\n",
       "             power_t=0.5, random_state=None, shuffle=True, solver='adam',\n",
       "             tol=0.0001, validation_fraction=0.1, verbose=False,\n",
       "             warm_start=False)"
      ]
     },
     "execution_count": 80,
     "metadata": {},
     "output_type": "execute_result"
    }
   ],
   "source": [
    "mlp_model"
   ]
  },
  {
   "cell_type": "code",
   "execution_count": 81,
   "metadata": {},
   "outputs": [
    {
     "data": {
      "text/plain": [
       "4"
      ]
     },
     "execution_count": 81,
     "metadata": {},
     "output_type": "execute_result"
    }
   ],
   "source": [
    "mlp_model.n_layers_"
   ]
  },
  {
   "cell_type": "code",
   "execution_count": 82,
   "metadata": {},
   "outputs": [
    {
     "data": {
      "text/plain": [
       "(100, 20)"
      ]
     },
     "execution_count": 82,
     "metadata": {},
     "output_type": "execute_result"
    }
   ],
   "source": [
    "mlp_model.hidden_layer_sizes"
   ]
  },
  {
   "cell_type": "markdown",
   "metadata": {},
   "source": [
    "### 2. Tahmin"
   ]
  },
  {
   "cell_type": "code",
   "execution_count": 83,
   "metadata": {},
   "outputs": [],
   "source": [
    "y_pred_y = mlp_model.predict(X_test_scaled)"
   ]
  },
  {
   "cell_type": "code",
   "execution_count": 84,
   "metadata": {},
   "outputs": [
    {
     "data": {
      "text/plain": [
       "7.77208631875687"
      ]
     },
     "execution_count": 84,
     "metadata": {},
     "output_type": "execute_result"
    }
   ],
   "source": [
    "np.sqrt(mean_squared_error(y_test_y, y_pred_y))"
   ]
  },
  {
   "cell_type": "code",
   "execution_count": 85,
   "metadata": {},
   "outputs": [
    {
     "data": {
      "text/plain": [
       "0.8965623763185386"
      ]
     },
     "execution_count": 85,
     "metadata": {},
     "output_type": "execute_result"
    }
   ],
   "source": [
    "r2_score(y_test_y, y_pred)"
   ]
  },
  {
   "cell_type": "markdown",
   "metadata": {},
   "source": [
    "### 3. Model Tuning"
   ]
  },
  {
   "cell_type": "code",
   "execution_count": 13,
   "metadata": {},
   "outputs": [
    {
     "data": {
      "text/plain": [
       "MLPRegressor(activation='relu', alpha=0.0001, batch_size='auto', beta_1=0.9,\n",
       "             beta_2=0.999, early_stopping=False, epsilon=1e-08,\n",
       "             hidden_layer_sizes=(100, 20), learning_rate='constant',\n",
       "             learning_rate_init=0.001, max_fun=15000, max_iter=200,\n",
       "             momentum=0.9, n_iter_no_change=10, nesterovs_momentum=True,\n",
       "             power_t=0.5, random_state=None, shuffle=True, solver='adam',\n",
       "             tol=0.0001, validation_fraction=0.1, verbose=False,\n",
       "             warm_start=False)"
      ]
     },
     "execution_count": 13,
     "metadata": {},
     "output_type": "execute_result"
    }
   ],
   "source": [
    "mlp_model"
   ]
  },
  {
   "cell_type": "code",
   "execution_count": 14,
   "metadata": {},
   "outputs": [],
   "source": [
    "mlp_params = {'alpha': [0.1, 0.01,0.02,0.005],\n",
    "             'hidden_layer_sizes': [(20,20),(100,50,150),(300,200,150)],\n",
    "             'activation': ['relu','logistic']}"
   ]
  },
  {
   "cell_type": "code",
   "execution_count": 15,
   "metadata": {},
   "outputs": [],
   "source": [
    "mlp_cv_model = GridSearchCV(mlp_model, mlp_params, cv = 10)"
   ]
  },
  {
   "cell_type": "code",
   "execution_count": null,
   "metadata": {},
   "outputs": [],
   "source": [
    "mlp_cv_model"
   ]
  },
  {
   "cell_type": "code",
   "execution_count": null,
   "metadata": {},
   "outputs": [],
   "source": [
    "mlp_cv_model.fit(X_train_scaled, y_train)"
   ]
  },
  {
   "cell_type": "code",
   "execution_count": null,
   "metadata": {},
   "outputs": [],
   "source": [
    "mlp_cv_model.best_params_"
   ]
  },
  {
   "cell_type": "code",
   "execution_count": null,
   "metadata": {},
   "outputs": [],
   "source": [
    "mlp_tuned = MLPRegressor(alpha = 0.02, hidden_layer_sizes = (100,50,150))"
   ]
  },
  {
   "cell_type": "code",
   "execution_count": null,
   "metadata": {},
   "outputs": [],
   "source": [
    "mlp_tuned.fit(X_train_scaled, y_train)"
   ]
  },
  {
   "cell_type": "code",
   "execution_count": null,
   "metadata": {},
   "outputs": [],
   "source": [
    "y_pred = mlp_tuned.predict(X_test_scaled)"
   ]
  },
  {
   "cell_type": "code",
   "execution_count": null,
   "metadata": {},
   "outputs": [],
   "source": [
    "np.sqrt(mean_squared_error(y_test, y_pred))"
   ]
  },
  {
   "cell_type": "code",
   "execution_count": null,
   "metadata": {},
   "outputs": [],
   "source": []
  }
 ],
 "metadata": {
  "kernelspec": {
   "display_name": "Python 3",
   "language": "python",
   "name": "python3"
  },
  "language_info": {
   "codemirror_mode": {
    "name": "ipython",
    "version": 3
   },
   "file_extension": ".py",
   "mimetype": "text/x-python",
   "name": "python",
   "nbconvert_exporter": "python",
   "pygments_lexer": "ipython3",
   "version": "3.7.7"
  }
 },
 "nbformat": 4,
 "nbformat_minor": 4
}
