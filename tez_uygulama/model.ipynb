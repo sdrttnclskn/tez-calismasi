{
 "cells": [
  {
   "cell_type": "markdown",
   "metadata": {},
   "source": [
    "# Fiyat Tahmin icin Model Gelistirme"
   ]
  },
  {
   "cell_type": "markdown",
   "metadata": {},
   "source": [
    "## Veri Okuma ve Veri duzenleme"
   ]
  },
  {
   "cell_type": "code",
   "execution_count": 1,
   "metadata": {},
   "outputs": [
    {
     "data": {
      "text/html": [
       "<div>\n",
       "<style scoped>\n",
       "    .dataframe tbody tr th:only-of-type {\n",
       "        vertical-align: middle;\n",
       "    }\n",
       "\n",
       "    .dataframe tbody tr th {\n",
       "        vertical-align: top;\n",
       "    }\n",
       "\n",
       "    .dataframe thead th {\n",
       "        text-align: right;\n",
       "    }\n",
       "</style>\n",
       "<table border=\"1\" class=\"dataframe\">\n",
       "  <thead>\n",
       "    <tr style=\"text-align: right;\">\n",
       "      <th></th>\n",
       "      <th>TARIH</th>\n",
       "      <th>FONTIP</th>\n",
       "      <th>FONTUR</th>\n",
       "      <th>FON</th>\n",
       "      <th>FONTOPLAMDEGER</th>\n",
       "      <th>TEDAVPAYSAYISI</th>\n",
       "      <th>KISISAYISI</th>\n",
       "      <th>FONFIYAT</th>\n",
       "      <th>FAIZ</th>\n",
       "      <th>DOLARFIYAT</th>\n",
       "      <th>...</th>\n",
       "      <th>TR</th>\n",
       "      <th>TPP</th>\n",
       "      <th>T</th>\n",
       "      <th>VM</th>\n",
       "      <th>VDM</th>\n",
       "      <th>YBA</th>\n",
       "      <th>YHS</th>\n",
       "      <th>YMK</th>\n",
       "      <th>D</th>\n",
       "      <th>R</th>\n",
       "    </tr>\n",
       "  </thead>\n",
       "  <tbody>\n",
       "    <tr>\n",
       "      <th>0</th>\n",
       "      <td>2019-01-02</td>\n",
       "      <td>BORSA YATIRIM FONU</td>\n",
       "      <td>Altın Fonu</td>\n",
       "      <td>FGA</td>\n",
       "      <td>8.722176e+07</td>\n",
       "      <td>4.350000e+06</td>\n",
       "      <td>0</td>\n",
       "      <td>20.050979</td>\n",
       "      <td>0.2302</td>\n",
       "      <td>5.2905</td>\n",
       "      <td>...</td>\n",
       "      <td>0.0</td>\n",
       "      <td>0.0</td>\n",
       "      <td>0.0</td>\n",
       "      <td>0.0</td>\n",
       "      <td>0.0</td>\n",
       "      <td>0.0</td>\n",
       "      <td>0.0</td>\n",
       "      <td>0.0</td>\n",
       "      <td>0.0</td>\n",
       "      <td>0.0</td>\n",
       "    </tr>\n",
       "    <tr>\n",
       "      <th>1</th>\n",
       "      <td>2019-01-02</td>\n",
       "      <td>BORSA YATIRIM FONU</td>\n",
       "      <td>Gümüş Fonu</td>\n",
       "      <td>FGS</td>\n",
       "      <td>1.238294e+07</td>\n",
       "      <td>7.000000e+05</td>\n",
       "      <td>0</td>\n",
       "      <td>17.689916</td>\n",
       "      <td>0.2302</td>\n",
       "      <td>5.2905</td>\n",
       "      <td>...</td>\n",
       "      <td>0.0</td>\n",
       "      <td>0.0</td>\n",
       "      <td>0.0</td>\n",
       "      <td>0.0</td>\n",
       "      <td>0.0</td>\n",
       "      <td>0.0</td>\n",
       "      <td>0.0</td>\n",
       "      <td>0.0</td>\n",
       "      <td>0.0</td>\n",
       "      <td>0.0</td>\n",
       "    </tr>\n",
       "    <tr>\n",
       "      <th>2</th>\n",
       "      <td>2019-01-02</td>\n",
       "      <td>BORSA YATIRIM FONU</td>\n",
       "      <td>Hisse Senedi Fonu</td>\n",
       "      <td>DJA</td>\n",
       "      <td>1.491130e+07</td>\n",
       "      <td>4.800000e+05</td>\n",
       "      <td>0</td>\n",
       "      <td>31.065216</td>\n",
       "      <td>0.2302</td>\n",
       "      <td>5.2905</td>\n",
       "      <td>...</td>\n",
       "      <td>0.0</td>\n",
       "      <td>0.0</td>\n",
       "      <td>0.0</td>\n",
       "      <td>0.0</td>\n",
       "      <td>0.0</td>\n",
       "      <td>0.0</td>\n",
       "      <td>0.0</td>\n",
       "      <td>0.0</td>\n",
       "      <td>0.0</td>\n",
       "      <td>0.0</td>\n",
       "    </tr>\n",
       "    <tr>\n",
       "      <th>3</th>\n",
       "      <td>2019-01-02</td>\n",
       "      <td>EMEKLİLİK FONU</td>\n",
       "      <td>Altın Fonu</td>\n",
       "      <td>AEA</td>\n",
       "      <td>1.465104e+09</td>\n",
       "      <td>6.335717e+10</td>\n",
       "      <td>325392</td>\n",
       "      <td>0.023125</td>\n",
       "      <td>0.2302</td>\n",
       "      <td>5.2905</td>\n",
       "      <td>...</td>\n",
       "      <td>0.0</td>\n",
       "      <td>0.0</td>\n",
       "      <td>0.0</td>\n",
       "      <td>0.0</td>\n",
       "      <td>0.0</td>\n",
       "      <td>0.0</td>\n",
       "      <td>0.0</td>\n",
       "      <td>0.0</td>\n",
       "      <td>0.0</td>\n",
       "      <td>0.0</td>\n",
       "    </tr>\n",
       "    <tr>\n",
       "      <th>4</th>\n",
       "      <td>2019-01-02</td>\n",
       "      <td>EMEKLİLİK FONU</td>\n",
       "      <td>Altın Fonu</td>\n",
       "      <td>AEL</td>\n",
       "      <td>1.784293e+09</td>\n",
       "      <td>7.415738e+10</td>\n",
       "      <td>325460</td>\n",
       "      <td>0.024061</td>\n",
       "      <td>0.2302</td>\n",
       "      <td>5.2905</td>\n",
       "      <td>...</td>\n",
       "      <td>0.0</td>\n",
       "      <td>0.0</td>\n",
       "      <td>0.0</td>\n",
       "      <td>0.0</td>\n",
       "      <td>0.0</td>\n",
       "      <td>0.0</td>\n",
       "      <td>0.0</td>\n",
       "      <td>0.0</td>\n",
       "      <td>0.0</td>\n",
       "      <td>0.0</td>\n",
       "    </tr>\n",
       "  </tbody>\n",
       "</table>\n",
       "<p>5 rows × 37 columns</p>\n",
       "</div>"
      ],
      "text/plain": [
       "       TARIH              FONTIP             FONTUR  FON  FONTOPLAMDEGER  \\\n",
       "0 2019-01-02  BORSA YATIRIM FONU         Altın Fonu  FGA    8.722176e+07   \n",
       "1 2019-01-02  BORSA YATIRIM FONU         Gümüş Fonu  FGS    1.238294e+07   \n",
       "2 2019-01-02  BORSA YATIRIM FONU  Hisse Senedi Fonu  DJA    1.491130e+07   \n",
       "3 2019-01-02      EMEKLİLİK FONU         Altın Fonu  AEA    1.465104e+09   \n",
       "4 2019-01-02      EMEKLİLİK FONU         Altın Fonu  AEL    1.784293e+09   \n",
       "\n",
       "   TEDAVPAYSAYISI  KISISAYISI   FONFIYAT    FAIZ  DOLARFIYAT  ...   TR  TPP  \\\n",
       "0    4.350000e+06           0  20.050979  0.2302      5.2905  ...  0.0  0.0   \n",
       "1    7.000000e+05           0  17.689916  0.2302      5.2905  ...  0.0  0.0   \n",
       "2    4.800000e+05           0  31.065216  0.2302      5.2905  ...  0.0  0.0   \n",
       "3    6.335717e+10      325392   0.023125  0.2302      5.2905  ...  0.0  0.0   \n",
       "4    7.415738e+10      325460   0.024061  0.2302      5.2905  ...  0.0  0.0   \n",
       "\n",
       "     T   VM  VDM  YBA  YHS  YMK    D    R  \n",
       "0  0.0  0.0  0.0  0.0  0.0  0.0  0.0  0.0  \n",
       "1  0.0  0.0  0.0  0.0  0.0  0.0  0.0  0.0  \n",
       "2  0.0  0.0  0.0  0.0  0.0  0.0  0.0  0.0  \n",
       "3  0.0  0.0  0.0  0.0  0.0  0.0  0.0  0.0  \n",
       "4  0.0  0.0  0.0  0.0  0.0  0.0  0.0  0.0  \n",
       "\n",
       "[5 rows x 37 columns]"
      ]
     },
     "execution_count": 1,
     "metadata": {},
     "output_type": "execute_result"
    }
   ],
   "source": [
    "#### Kutuphane ####\n",
    "from warnings import filterwarnings\n",
    "filterwarnings('ignore')\n",
    "import pandas as pd\n",
    "from sklearn.model_selection import train_test_split, cross_val_score,GridSearchCV, cross_val_predict\n",
    "from sklearn.metrics import mean_squared_error, r2_score\n",
    "import matplotlib.pyplot as plt\n",
    "import numpy as np\n",
    "from sklearn import model_selection\n",
    "from sklearn.preprocessing import scale \n",
    "from sklearn.preprocessing import StandardScaler\n",
    "\n",
    "\n",
    "#### Veri #####\n",
    "veriseti = pd.read_excel(\"/Users/sdrttnclskn/Desktop/tez/tez-calismasi/tez_uygulama/veriseti.xlsx\")\n",
    "df = veriseti.copy()\n",
    "#tanimsız olan boş kolon drop edildi.\n",
    "df.drop(df.columns[[4]], axis=1, inplace=True)\n",
    "#nan veriler 0 olarak convert edildi.\n",
    "df=df.fillna(0)\n",
    "df.head()"
   ]
  },
  {
   "cell_type": "markdown",
   "metadata": {},
   "source": [
    "# Dogrusal Coklu Regresyon"
   ]
  },
  {
   "cell_type": "markdown",
   "metadata": {},
   "source": [
    "## PLS ile Model Gelistirme\n",
    "### 1. Model"
   ]
  },
  {
   "cell_type": "code",
   "execution_count": 2,
   "metadata": {},
   "outputs": [
    {
     "data": {
      "text/html": [
       "<div>\n",
       "<style scoped>\n",
       "    .dataframe tbody tr th:only-of-type {\n",
       "        vertical-align: middle;\n",
       "    }\n",
       "\n",
       "    .dataframe tbody tr th {\n",
       "        vertical-align: top;\n",
       "    }\n",
       "\n",
       "    .dataframe thead th {\n",
       "        text-align: right;\n",
       "    }\n",
       "</style>\n",
       "<table border=\"1\" class=\"dataframe\">\n",
       "  <thead>\n",
       "    <tr style=\"text-align: right;\">\n",
       "      <th></th>\n",
       "      <th>FONTOPLAMDEGER</th>\n",
       "      <th>TEDAVPAYSAYISI</th>\n",
       "      <th>KISISAYISI</th>\n",
       "      <th>FAIZ</th>\n",
       "      <th>DOLARFIYAT</th>\n",
       "      <th>ALTINFIYAT</th>\n",
       "      <th>BB</th>\n",
       "      <th>DT</th>\n",
       "      <th>DB</th>\n",
       "      <th>DÖT</th>\n",
       "      <th>...</th>\n",
       "      <th>TR</th>\n",
       "      <th>TPP</th>\n",
       "      <th>T</th>\n",
       "      <th>VM</th>\n",
       "      <th>VDM</th>\n",
       "      <th>YBA</th>\n",
       "      <th>YHS</th>\n",
       "      <th>YMK</th>\n",
       "      <th>D</th>\n",
       "      <th>R</th>\n",
       "    </tr>\n",
       "  </thead>\n",
       "  <tbody>\n",
       "    <tr>\n",
       "      <th>0</th>\n",
       "      <td>8.722176e+07</td>\n",
       "      <td>4.350000e+06</td>\n",
       "      <td>0</td>\n",
       "      <td>0.2302</td>\n",
       "      <td>5.2905</td>\n",
       "      <td>219270.871675</td>\n",
       "      <td>100.00</td>\n",
       "      <td>0.00</td>\n",
       "      <td>0.00</td>\n",
       "      <td>0.00</td>\n",
       "      <td>...</td>\n",
       "      <td>0.0</td>\n",
       "      <td>0.0</td>\n",
       "      <td>0.0</td>\n",
       "      <td>0.0</td>\n",
       "      <td>0.0</td>\n",
       "      <td>0.0</td>\n",
       "      <td>0.0</td>\n",
       "      <td>0.0</td>\n",
       "      <td>0.0</td>\n",
       "      <td>0.0</td>\n",
       "    </tr>\n",
       "    <tr>\n",
       "      <th>1</th>\n",
       "      <td>1.238294e+07</td>\n",
       "      <td>7.000000e+05</td>\n",
       "      <td>0</td>\n",
       "      <td>0.2302</td>\n",
       "      <td>5.2905</td>\n",
       "      <td>219270.871675</td>\n",
       "      <td>100.00</td>\n",
       "      <td>0.00</td>\n",
       "      <td>0.00</td>\n",
       "      <td>0.00</td>\n",
       "      <td>...</td>\n",
       "      <td>0.0</td>\n",
       "      <td>0.0</td>\n",
       "      <td>0.0</td>\n",
       "      <td>0.0</td>\n",
       "      <td>0.0</td>\n",
       "      <td>0.0</td>\n",
       "      <td>0.0</td>\n",
       "      <td>0.0</td>\n",
       "      <td>0.0</td>\n",
       "      <td>0.0</td>\n",
       "    </tr>\n",
       "    <tr>\n",
       "      <th>2</th>\n",
       "      <td>1.491130e+07</td>\n",
       "      <td>4.800000e+05</td>\n",
       "      <td>0</td>\n",
       "      <td>0.2302</td>\n",
       "      <td>5.2905</td>\n",
       "      <td>219270.871675</td>\n",
       "      <td>99.83</td>\n",
       "      <td>0.17</td>\n",
       "      <td>0.00</td>\n",
       "      <td>0.00</td>\n",
       "      <td>...</td>\n",
       "      <td>0.0</td>\n",
       "      <td>0.0</td>\n",
       "      <td>0.0</td>\n",
       "      <td>0.0</td>\n",
       "      <td>0.0</td>\n",
       "      <td>0.0</td>\n",
       "      <td>0.0</td>\n",
       "      <td>0.0</td>\n",
       "      <td>0.0</td>\n",
       "      <td>0.0</td>\n",
       "    </tr>\n",
       "    <tr>\n",
       "      <th>3</th>\n",
       "      <td>1.465104e+09</td>\n",
       "      <td>6.335717e+10</td>\n",
       "      <td>325392</td>\n",
       "      <td>0.2302</td>\n",
       "      <td>5.2905</td>\n",
       "      <td>219270.871675</td>\n",
       "      <td>1.01</td>\n",
       "      <td>3.44</td>\n",
       "      <td>85.25</td>\n",
       "      <td>3.07</td>\n",
       "      <td>...</td>\n",
       "      <td>0.0</td>\n",
       "      <td>0.0</td>\n",
       "      <td>0.0</td>\n",
       "      <td>0.0</td>\n",
       "      <td>0.0</td>\n",
       "      <td>0.0</td>\n",
       "      <td>0.0</td>\n",
       "      <td>0.0</td>\n",
       "      <td>0.0</td>\n",
       "      <td>0.0</td>\n",
       "    </tr>\n",
       "    <tr>\n",
       "      <th>4</th>\n",
       "      <td>1.784293e+09</td>\n",
       "      <td>7.415738e+10</td>\n",
       "      <td>325460</td>\n",
       "      <td>0.2302</td>\n",
       "      <td>5.2905</td>\n",
       "      <td>219270.871675</td>\n",
       "      <td>0.25</td>\n",
       "      <td>99.75</td>\n",
       "      <td>0.00</td>\n",
       "      <td>0.00</td>\n",
       "      <td>...</td>\n",
       "      <td>0.0</td>\n",
       "      <td>0.0</td>\n",
       "      <td>0.0</td>\n",
       "      <td>0.0</td>\n",
       "      <td>0.0</td>\n",
       "      <td>0.0</td>\n",
       "      <td>0.0</td>\n",
       "      <td>0.0</td>\n",
       "      <td>0.0</td>\n",
       "      <td>0.0</td>\n",
       "    </tr>\n",
       "  </tbody>\n",
       "</table>\n",
       "<p>5 rows × 32 columns</p>\n",
       "</div>"
      ],
      "text/plain": [
       "   FONTOPLAMDEGER  TEDAVPAYSAYISI  KISISAYISI    FAIZ  DOLARFIYAT  \\\n",
       "0    8.722176e+07    4.350000e+06           0  0.2302      5.2905   \n",
       "1    1.238294e+07    7.000000e+05           0  0.2302      5.2905   \n",
       "2    1.491130e+07    4.800000e+05           0  0.2302      5.2905   \n",
       "3    1.465104e+09    6.335717e+10      325392  0.2302      5.2905   \n",
       "4    1.784293e+09    7.415738e+10      325460  0.2302      5.2905   \n",
       "\n",
       "      ALTINFIYAT      BB     DT     DB   DÖT  ...   TR  TPP    T   VM  VDM  \\\n",
       "0  219270.871675  100.00   0.00   0.00  0.00  ...  0.0  0.0  0.0  0.0  0.0   \n",
       "1  219270.871675  100.00   0.00   0.00  0.00  ...  0.0  0.0  0.0  0.0  0.0   \n",
       "2  219270.871675   99.83   0.17   0.00  0.00  ...  0.0  0.0  0.0  0.0  0.0   \n",
       "3  219270.871675    1.01   3.44  85.25  3.07  ...  0.0  0.0  0.0  0.0  0.0   \n",
       "4  219270.871675    0.25  99.75   0.00  0.00  ...  0.0  0.0  0.0  0.0  0.0   \n",
       "\n",
       "   YBA  YHS  YMK    D    R  \n",
       "0  0.0  0.0  0.0  0.0  0.0  \n",
       "1  0.0  0.0  0.0  0.0  0.0  \n",
       "2  0.0  0.0  0.0  0.0  0.0  \n",
       "3  0.0  0.0  0.0  0.0  0.0  \n",
       "4  0.0  0.0  0.0  0.0  0.0  \n",
       "\n",
       "[5 rows x 32 columns]"
      ]
     },
     "execution_count": 2,
     "metadata": {},
     "output_type": "execute_result"
    }
   ],
   "source": [
    "df_pls = df.copy()\n",
    "X = df_pls.drop(['TARIH','FONTIP','FONTUR','FON','FONFIYAT'], axis = 1)\n",
    "y = df_pls[\"FONFIYAT\"]\n",
    "\n",
    "X_train, X_test, y_train, y_test = train_test_split(X, y, test_size=0.25, random_state=42)\n",
    "\n",
    "X.head()"
   ]
  },
  {
   "cell_type": "code",
   "execution_count": 3,
   "metadata": {},
   "outputs": [],
   "source": [
    "from sklearn.cross_decomposition import PLSRegression, PLSSVD"
   ]
  },
  {
   "cell_type": "code",
   "execution_count": 4,
   "metadata": {},
   "outputs": [],
   "source": [
    "pls_model = PLSRegression().fit(X_train, y_train)"
   ]
  },
  {
   "cell_type": "code",
   "execution_count": 5,
   "metadata": {},
   "outputs": [
    {
     "data": {
      "text/plain": [
       "array([[ 8.84294439],\n",
       "       [-4.69831641],\n",
       "       [-3.03243924],\n",
       "       [ 0.0337065 ],\n",
       "       [-0.09314651],\n",
       "       [-0.02433704],\n",
       "       [-0.33800515],\n",
       "       [-0.31991584],\n",
       "       [-0.81996284],\n",
       "       [ 0.91092399],\n",
       "       [-0.09762054],\n",
       "       [ 1.74953948],\n",
       "       [ 2.26792273],\n",
       "       [ 1.19959689],\n",
       "       [-0.41431445],\n",
       "       [-1.57986807],\n",
       "       [-1.26811436],\n",
       "       [-0.8361369 ],\n",
       "       [-0.61910158],\n",
       "       [-0.24914284],\n",
       "       [-0.09490851],\n",
       "       [ 0.        ],\n",
       "       [ 0.        ],\n",
       "       [ 0.        ],\n",
       "       [ 0.        ],\n",
       "       [ 0.        ],\n",
       "       [ 0.        ],\n",
       "       [ 0.        ],\n",
       "       [ 0.        ],\n",
       "       [ 0.        ],\n",
       "       [ 0.        ],\n",
       "       [ 0.        ]])"
      ]
     },
     "execution_count": 5,
     "metadata": {},
     "output_type": "execute_result"
    }
   ],
   "source": [
    "pls_model.coef_"
   ]
  },
  {
   "cell_type": "code",
   "execution_count": 6,
   "metadata": {},
   "outputs": [
    {
     "data": {
      "text/plain": [
       "PLSRegression(copy=True, max_iter=500, n_components=2, scale=True, tol=1e-06)"
      ]
     },
     "execution_count": 6,
     "metadata": {},
     "output_type": "execute_result"
    }
   ],
   "source": [
    "pls_model"
   ]
  },
  {
   "cell_type": "markdown",
   "metadata": {},
   "source": [
    "### 2. Tahmin"
   ]
  },
  {
   "cell_type": "code",
   "execution_count": 34,
   "metadata": {},
   "outputs": [
    {
     "data": {
      "text/html": [
       "<div>\n",
       "<style scoped>\n",
       "    .dataframe tbody tr th:only-of-type {\n",
       "        vertical-align: middle;\n",
       "    }\n",
       "\n",
       "    .dataframe tbody tr th {\n",
       "        vertical-align: top;\n",
       "    }\n",
       "\n",
       "    .dataframe thead th {\n",
       "        text-align: right;\n",
       "    }\n",
       "</style>\n",
       "<table border=\"1\" class=\"dataframe\">\n",
       "  <thead>\n",
       "    <tr style=\"text-align: right;\">\n",
       "      <th></th>\n",
       "      <th>FONTOPLAMDEGER</th>\n",
       "      <th>TEDAVPAYSAYISI</th>\n",
       "      <th>KISISAYISI</th>\n",
       "      <th>FAIZ</th>\n",
       "      <th>DOLARFIYAT</th>\n",
       "      <th>ALTINFIYAT</th>\n",
       "      <th>BB</th>\n",
       "      <th>DT</th>\n",
       "      <th>DB</th>\n",
       "      <th>DÖT</th>\n",
       "      <th>...</th>\n",
       "      <th>TR</th>\n",
       "      <th>TPP</th>\n",
       "      <th>T</th>\n",
       "      <th>VM</th>\n",
       "      <th>VDM</th>\n",
       "      <th>YBA</th>\n",
       "      <th>YHS</th>\n",
       "      <th>YMK</th>\n",
       "      <th>D</th>\n",
       "      <th>R</th>\n",
       "    </tr>\n",
       "  </thead>\n",
       "  <tbody>\n",
       "    <tr>\n",
       "      <td>8849</td>\n",
       "      <td>1.657699e+09</td>\n",
       "      <td>1.160783e+11</td>\n",
       "      <td>884267</td>\n",
       "      <td>0.2397</td>\n",
       "      <td>5.3659</td>\n",
       "      <td>220120.171370</td>\n",
       "      <td>74.74</td>\n",
       "      <td>5.66</td>\n",
       "      <td>2.40</td>\n",
       "      <td>2.16</td>\n",
       "      <td>...</td>\n",
       "      <td>0.0</td>\n",
       "      <td>0.0</td>\n",
       "      <td>0.0</td>\n",
       "      <td>0.0</td>\n",
       "      <td>0.0</td>\n",
       "      <td>0.0</td>\n",
       "      <td>0.0</td>\n",
       "      <td>0.0</td>\n",
       "      <td>0.0</td>\n",
       "      <td>0.0</td>\n",
       "    </tr>\n",
       "    <tr>\n",
       "      <td>163827</td>\n",
       "      <td>4.799343e+07</td>\n",
       "      <td>9.098900e+08</td>\n",
       "      <td>1343</td>\n",
       "      <td>0.1340</td>\n",
       "      <td>5.7407</td>\n",
       "      <td>267789.139604</td>\n",
       "      <td>91.42</td>\n",
       "      <td>8.58</td>\n",
       "      <td>0.00</td>\n",
       "      <td>0.00</td>\n",
       "      <td>...</td>\n",
       "      <td>0.0</td>\n",
       "      <td>0.0</td>\n",
       "      <td>0.0</td>\n",
       "      <td>0.0</td>\n",
       "      <td>0.0</td>\n",
       "      <td>0.0</td>\n",
       "      <td>0.0</td>\n",
       "      <td>0.0</td>\n",
       "      <td>0.0</td>\n",
       "      <td>0.0</td>\n",
       "    </tr>\n",
       "    <tr>\n",
       "      <td>105936</td>\n",
       "      <td>1.455141e+04</td>\n",
       "      <td>1.272424e+06</td>\n",
       "      <td>19</td>\n",
       "      <td>0.1871</td>\n",
       "      <td>5.6373</td>\n",
       "      <td>253941.122346</td>\n",
       "      <td>100.00</td>\n",
       "      <td>0.00</td>\n",
       "      <td>0.00</td>\n",
       "      <td>0.00</td>\n",
       "      <td>...</td>\n",
       "      <td>0.0</td>\n",
       "      <td>0.0</td>\n",
       "      <td>0.0</td>\n",
       "      <td>0.0</td>\n",
       "      <td>0.0</td>\n",
       "      <td>0.0</td>\n",
       "      <td>0.0</td>\n",
       "      <td>0.0</td>\n",
       "      <td>0.0</td>\n",
       "      <td>0.0</td>\n",
       "    </tr>\n",
       "    <tr>\n",
       "      <td>58391</td>\n",
       "      <td>1.071578e+07</td>\n",
       "      <td>6.486888e+08</td>\n",
       "      <td>393</td>\n",
       "      <td>0.2464</td>\n",
       "      <td>5.8358</td>\n",
       "      <td>238523.314268</td>\n",
       "      <td>51.43</td>\n",
       "      <td>1.17</td>\n",
       "      <td>5.87</td>\n",
       "      <td>15.34</td>\n",
       "      <td>...</td>\n",
       "      <td>0.0</td>\n",
       "      <td>0.0</td>\n",
       "      <td>0.0</td>\n",
       "      <td>0.0</td>\n",
       "      <td>0.0</td>\n",
       "      <td>0.0</td>\n",
       "      <td>0.0</td>\n",
       "      <td>0.0</td>\n",
       "      <td>0.0</td>\n",
       "      <td>0.0</td>\n",
       "    </tr>\n",
       "    <tr>\n",
       "      <td>148392</td>\n",
       "      <td>3.461555e+06</td>\n",
       "      <td>2.825503e+06</td>\n",
       "      <td>14</td>\n",
       "      <td>0.1591</td>\n",
       "      <td>5.7794</td>\n",
       "      <td>275440.195419</td>\n",
       "      <td>86.11</td>\n",
       "      <td>13.12</td>\n",
       "      <td>0.77</td>\n",
       "      <td>0.00</td>\n",
       "      <td>...</td>\n",
       "      <td>0.0</td>\n",
       "      <td>0.0</td>\n",
       "      <td>0.0</td>\n",
       "      <td>0.0</td>\n",
       "      <td>0.0</td>\n",
       "      <td>0.0</td>\n",
       "      <td>0.0</td>\n",
       "      <td>0.0</td>\n",
       "      <td>0.0</td>\n",
       "      <td>0.0</td>\n",
       "    </tr>\n",
       "  </tbody>\n",
       "</table>\n",
       "<p>5 rows × 32 columns</p>\n",
       "</div>"
      ],
      "text/plain": [
       "        FONTOPLAMDEGER  TEDAVPAYSAYISI  KISISAYISI    FAIZ  DOLARFIYAT  \\\n",
       "8849      1.657699e+09    1.160783e+11      884267  0.2397      5.3659   \n",
       "163827    4.799343e+07    9.098900e+08        1343  0.1340      5.7407   \n",
       "105936    1.455141e+04    1.272424e+06          19  0.1871      5.6373   \n",
       "58391     1.071578e+07    6.486888e+08         393  0.2464      5.8358   \n",
       "148392    3.461555e+06    2.825503e+06          14  0.1591      5.7794   \n",
       "\n",
       "           ALTINFIYAT      BB     DT    DB    DÖT  ...   TR  TPP    T   VM  \\\n",
       "8849    220120.171370   74.74   5.66  2.40   2.16  ...  0.0  0.0  0.0  0.0   \n",
       "163827  267789.139604   91.42   8.58  0.00   0.00  ...  0.0  0.0  0.0  0.0   \n",
       "105936  253941.122346  100.00   0.00  0.00   0.00  ...  0.0  0.0  0.0  0.0   \n",
       "58391   238523.314268   51.43   1.17  5.87  15.34  ...  0.0  0.0  0.0  0.0   \n",
       "148392  275440.195419   86.11  13.12  0.77   0.00  ...  0.0  0.0  0.0  0.0   \n",
       "\n",
       "        VDM  YBA  YHS  YMK    D    R  \n",
       "8849    0.0  0.0  0.0  0.0  0.0  0.0  \n",
       "163827  0.0  0.0  0.0  0.0  0.0  0.0  \n",
       "105936  0.0  0.0  0.0  0.0  0.0  0.0  \n",
       "58391   0.0  0.0  0.0  0.0  0.0  0.0  \n",
       "148392  0.0  0.0  0.0  0.0  0.0  0.0  \n",
       "\n",
       "[5 rows x 32 columns]"
      ]
     },
     "execution_count": 34,
     "metadata": {},
     "output_type": "execute_result"
    }
   ],
   "source": [
    "X_train.head()"
   ]
  },
  {
   "cell_type": "code",
   "execution_count": 35,
   "metadata": {},
   "outputs": [
    {
     "data": {
      "text/plain": [
       "array([[-28.8404007 ],\n",
       "       [  2.21133592],\n",
       "       [  1.84275027],\n",
       "       [  6.35861314],\n",
       "       [  1.74496226],\n",
       "       [ -0.33705814],\n",
       "       [  1.23482564],\n",
       "       [  5.12738967],\n",
       "       [  2.65323171],\n",
       "       [  1.85581765]])"
      ]
     },
     "execution_count": 35,
     "metadata": {},
     "output_type": "execute_result"
    }
   ],
   "source": [
    "pls_model.predict(X_train)[0:10]"
   ]
  },
  {
   "cell_type": "code",
   "execution_count": 36,
   "metadata": {},
   "outputs": [],
   "source": [
    "y_pred = pls_model.predict(X_train)"
   ]
  },
  {
   "cell_type": "code",
   "execution_count": 37,
   "metadata": {},
   "outputs": [
    {
     "data": {
      "text/plain": [
       "22.31163418661849"
      ]
     },
     "execution_count": 37,
     "metadata": {},
     "output_type": "execute_result"
    }
   ],
   "source": [
    "np.sqrt(mean_squared_error(y_train, y_pred))"
   ]
  },
  {
   "cell_type": "code",
   "execution_count": 38,
   "metadata": {},
   "outputs": [
    {
     "data": {
      "text/plain": [
       "0.1273657565331895"
      ]
     },
     "execution_count": 38,
     "metadata": {},
     "output_type": "execute_result"
    }
   ],
   "source": [
    "r2_score(y_train, y_pred)"
   ]
  },
  {
   "cell_type": "code",
   "execution_count": 39,
   "metadata": {},
   "outputs": [],
   "source": [
    "y_pred = pls_model.predict(X_test)"
   ]
  },
  {
   "cell_type": "code",
   "execution_count": 40,
   "metadata": {},
   "outputs": [
    {
     "data": {
      "text/plain": [
       "22.495003892737277"
      ]
     },
     "execution_count": 40,
     "metadata": {},
     "output_type": "execute_result"
    }
   ],
   "source": [
    "np.sqrt(mean_squared_error(y_test, y_pred))"
   ]
  },
  {
   "cell_type": "markdown",
   "metadata": {},
   "source": [
    "### 3. Model Tuning"
   ]
  },
  {
   "cell_type": "code",
   "execution_count": 41,
   "metadata": {},
   "outputs": [
    {
     "data": {
      "image/png": "[encoded data removed]",
      "text/plain": [
       "<Figure size 432x288 with 1 Axes>"
      ]
     },
     "metadata": {
      "needs_background": "light"
     },
     "output_type": "display_data"
    }
   ],
   "source": [
    "#CV\n",
    "cv_10 = model_selection.KFold(n_splits=10, shuffle=True, random_state=1)\n",
    "\n",
    "\n",
    "#Hata hesaplamak için döngü\n",
    "RMSE = []\n",
    "\n",
    "for i in np.arange(1, X_train.shape[1] + 1):\n",
    "    pls = PLSRegression(n_components=i)\n",
    "    score = np.sqrt(-1*cross_val_score(pls, X_train, y_train, cv=cv_10, scoring='neg_mean_squared_error').mean())\n",
    "    RMSE.append(score)\n",
    "\n",
    "#Sonuçların Görselleştirilmesi\n",
    "plt.plot(np.arange(1, X_train.shape[1] + 1), np.array(RMSE), '-v', c = \"r\")\n",
    "plt.xlabel('Bileşen Sayısı')\n",
    "plt.ylabel('RMSE')\n",
    "plt.title('FONFIYAT');"
   ]
  },
  {
   "cell_type": "code",
   "execution_count": 42,
   "metadata": {},
   "outputs": [],
   "source": [
    "pls_model = PLSRegression(n_components = 5).fit(X_train, y_train)"
   ]
  },
  {
   "cell_type": "code",
   "execution_count": 43,
   "metadata": {},
   "outputs": [],
   "source": [
    "y_pred = pls_model.predict(X_test)"
   ]
  },
  {
   "cell_type": "code",
   "execution_count": 44,
   "metadata": {},
   "outputs": [
    {
     "data": {
      "text/plain": [
       "22.300536327631793"
      ]
     },
     "execution_count": 44,
     "metadata": {},
     "output_type": "execute_result"
    }
   ],
   "source": [
    "np.sqrt(mean_squared_error(y_test, y_pred))"
   ]
  },
  {
   "cell_type": "markdown",
   "metadata": {},
   "source": [
    "## Ridge Regresyon ile Model Gelistirme\n",
    "### 1. Model"
   ]
  },
  {
   "cell_type": "code",
   "execution_count": 45,
   "metadata": {},
   "outputs": [
    {
     "data": {
      "text/html": [
       "<div>\n",
       "<style scoped>\n",
       "    .dataframe tbody tr th:only-of-type {\n",
       "        vertical-align: middle;\n",
       "    }\n",
       "\n",
       "    .dataframe tbody tr th {\n",
       "        vertical-align: top;\n",
       "    }\n",
       "\n",
       "    .dataframe thead th {\n",
       "        text-align: right;\n",
       "    }\n",
       "</style>\n",
       "<table border=\"1\" class=\"dataframe\">\n",
       "  <thead>\n",
       "    <tr style=\"text-align: right;\">\n",
       "      <th></th>\n",
       "      <th>FONTOPLAMDEGER</th>\n",
       "      <th>TEDAVPAYSAYISI</th>\n",
       "      <th>KISISAYISI</th>\n",
       "      <th>FAIZ</th>\n",
       "      <th>DOLARFIYAT</th>\n",
       "      <th>ALTINFIYAT</th>\n",
       "      <th>BB</th>\n",
       "      <th>DT</th>\n",
       "      <th>DB</th>\n",
       "      <th>DÖT</th>\n",
       "      <th>...</th>\n",
       "      <th>TR</th>\n",
       "      <th>TPP</th>\n",
       "      <th>T</th>\n",
       "      <th>VM</th>\n",
       "      <th>VDM</th>\n",
       "      <th>YBA</th>\n",
       "      <th>YHS</th>\n",
       "      <th>YMK</th>\n",
       "      <th>D</th>\n",
       "      <th>R</th>\n",
       "    </tr>\n",
       "  </thead>\n",
       "  <tbody>\n",
       "    <tr>\n",
       "      <td>0</td>\n",
       "      <td>8.722176e+07</td>\n",
       "      <td>4.350000e+06</td>\n",
       "      <td>0</td>\n",
       "      <td>0.2302</td>\n",
       "      <td>5.2905</td>\n",
       "      <td>219270.871675</td>\n",
       "      <td>100.00</td>\n",
       "      <td>0.00</td>\n",
       "      <td>0.00</td>\n",
       "      <td>0.00</td>\n",
       "      <td>...</td>\n",
       "      <td>0.0</td>\n",
       "      <td>0.0</td>\n",
       "      <td>0.0</td>\n",
       "      <td>0.0</td>\n",
       "      <td>0.0</td>\n",
       "      <td>0.0</td>\n",
       "      <td>0.0</td>\n",
       "      <td>0.0</td>\n",
       "      <td>0.0</td>\n",
       "      <td>0.0</td>\n",
       "    </tr>\n",
       "    <tr>\n",
       "      <td>1</td>\n",
       "      <td>1.238294e+07</td>\n",
       "      <td>7.000000e+05</td>\n",
       "      <td>0</td>\n",
       "      <td>0.2302</td>\n",
       "      <td>5.2905</td>\n",
       "      <td>219270.871675</td>\n",
       "      <td>100.00</td>\n",
       "      <td>0.00</td>\n",
       "      <td>0.00</td>\n",
       "      <td>0.00</td>\n",
       "      <td>...</td>\n",
       "      <td>0.0</td>\n",
       "      <td>0.0</td>\n",
       "      <td>0.0</td>\n",
       "      <td>0.0</td>\n",
       "      <td>0.0</td>\n",
       "      <td>0.0</td>\n",
       "      <td>0.0</td>\n",
       "      <td>0.0</td>\n",
       "      <td>0.0</td>\n",
       "      <td>0.0</td>\n",
       "    </tr>\n",
       "    <tr>\n",
       "      <td>2</td>\n",
       "      <td>1.491130e+07</td>\n",
       "      <td>4.800000e+05</td>\n",
       "      <td>0</td>\n",
       "      <td>0.2302</td>\n",
       "      <td>5.2905</td>\n",
       "      <td>219270.871675</td>\n",
       "      <td>99.83</td>\n",
       "      <td>0.17</td>\n",
       "      <td>0.00</td>\n",
       "      <td>0.00</td>\n",
       "      <td>...</td>\n",
       "      <td>0.0</td>\n",
       "      <td>0.0</td>\n",
       "      <td>0.0</td>\n",
       "      <td>0.0</td>\n",
       "      <td>0.0</td>\n",
       "      <td>0.0</td>\n",
       "      <td>0.0</td>\n",
       "      <td>0.0</td>\n",
       "      <td>0.0</td>\n",
       "      <td>0.0</td>\n",
       "    </tr>\n",
       "    <tr>\n",
       "      <td>3</td>\n",
       "      <td>1.465104e+09</td>\n",
       "      <td>6.335717e+10</td>\n",
       "      <td>325392</td>\n",
       "      <td>0.2302</td>\n",
       "      <td>5.2905</td>\n",
       "      <td>219270.871675</td>\n",
       "      <td>1.01</td>\n",
       "      <td>3.44</td>\n",
       "      <td>85.25</td>\n",
       "      <td>3.07</td>\n",
       "      <td>...</td>\n",
       "      <td>0.0</td>\n",
       "      <td>0.0</td>\n",
       "      <td>0.0</td>\n",
       "      <td>0.0</td>\n",
       "      <td>0.0</td>\n",
       "      <td>0.0</td>\n",
       "      <td>0.0</td>\n",
       "      <td>0.0</td>\n",
       "      <td>0.0</td>\n",
       "      <td>0.0</td>\n",
       "    </tr>\n",
       "    <tr>\n",
       "      <td>4</td>\n",
       "      <td>1.784293e+09</td>\n",
       "      <td>7.415738e+10</td>\n",
       "      <td>325460</td>\n",
       "      <td>0.2302</td>\n",
       "      <td>5.2905</td>\n",
       "      <td>219270.871675</td>\n",
       "      <td>0.25</td>\n",
       "      <td>99.75</td>\n",
       "      <td>0.00</td>\n",
       "      <td>0.00</td>\n",
       "      <td>...</td>\n",
       "      <td>0.0</td>\n",
       "      <td>0.0</td>\n",
       "      <td>0.0</td>\n",
       "      <td>0.0</td>\n",
       "      <td>0.0</td>\n",
       "      <td>0.0</td>\n",
       "      <td>0.0</td>\n",
       "      <td>0.0</td>\n",
       "      <td>0.0</td>\n",
       "      <td>0.0</td>\n",
       "    </tr>\n",
       "  </tbody>\n",
       "</table>\n",
       "<p>5 rows × 32 columns</p>\n",
       "</div>"
      ],
      "text/plain": [
       "   FONTOPLAMDEGER  TEDAVPAYSAYISI  KISISAYISI    FAIZ  DOLARFIYAT  \\\n",
       "0    8.722176e+07    4.350000e+06           0  0.2302      5.2905   \n",
       "1    1.238294e+07    7.000000e+05           0  0.2302      5.2905   \n",
       "2    1.491130e+07    4.800000e+05           0  0.2302      5.2905   \n",
       "3    1.465104e+09    6.335717e+10      325392  0.2302      5.2905   \n",
       "4    1.784293e+09    7.415738e+10      325460  0.2302      5.2905   \n",
       "\n",
       "      ALTINFIYAT      BB     DT     DB   DÖT  ...   TR  TPP    T   VM  VDM  \\\n",
       "0  219270.871675  100.00   0.00   0.00  0.00  ...  0.0  0.0  0.0  0.0  0.0   \n",
       "1  219270.871675  100.00   0.00   0.00  0.00  ...  0.0  0.0  0.0  0.0  0.0   \n",
       "2  219270.871675   99.83   0.17   0.00  0.00  ...  0.0  0.0  0.0  0.0  0.0   \n",
       "3  219270.871675    1.01   3.44  85.25  3.07  ...  0.0  0.0  0.0  0.0  0.0   \n",
       "4  219270.871675    0.25  99.75   0.00  0.00  ...  0.0  0.0  0.0  0.0  0.0   \n",
       "\n",
       "   YBA  YHS  YMK    D    R  \n",
       "0  0.0  0.0  0.0  0.0  0.0  \n",
       "1  0.0  0.0  0.0  0.0  0.0  \n",
       "2  0.0  0.0  0.0  0.0  0.0  \n",
       "3  0.0  0.0  0.0  0.0  0.0  \n",
       "4  0.0  0.0  0.0  0.0  0.0  \n",
       "\n",
       "[5 rows x 32 columns]"
      ]
     },
     "execution_count": 45,
     "metadata": {},
     "output_type": "execute_result"
    }
   ],
   "source": [
    "df_rge = df.copy()\n",
    "X = df_rge.drop(['TARIH','FONTIP','FONTUR','FON','FONFIYAT'], axis = 1)\n",
    "y = df_rge[\"FONFIYAT\"]\n",
    "\n",
    "X_train, X_test, y_train, y_test = train_test_split(X, y, test_size=0.25, random_state=42)\n",
    "\n",
    "X.head()"
   ]
  },
  {
   "cell_type": "code",
   "execution_count": 46,
   "metadata": {},
   "outputs": [],
   "source": [
    "from sklearn.linear_model import Ridge"
   ]
  },
  {
   "cell_type": "code",
   "execution_count": 47,
   "metadata": {},
   "outputs": [],
   "source": [
    "ridge_model = Ridge(alpha = 0.1).fit(X_train, y_train)"
   ]
  },
  {
   "cell_type": "code",
   "execution_count": 48,
   "metadata": {},
   "outputs": [
    {
     "data": {
      "text/plain": [
       "Ridge(alpha=0.1, copy_X=True, fit_intercept=True, max_iter=None,\n",
       "      normalize=False, random_state=None, solver='auto', tol=0.001)"
      ]
     },
     "execution_count": 48,
     "metadata": {},
     "output_type": "execute_result"
    }
   ],
   "source": [
    "ridge_model"
   ]
  },
  {
   "cell_type": "code",
   "execution_count": 49,
   "metadata": {},
   "outputs": [
    {
     "data": {
      "text/plain": [
       "array([ 1.99548506e-08, -4.36501444e-10, -1.01864979e-05,  5.33789312e+00,\n",
       "       -6.33703278e-01,  2.45254214e-06, -1.37536605e-03, -1.26321075e-02,\n",
       "       -2.43176494e-02,  3.68163153e-02, -1.56943704e-02,  1.05959126e-01,\n",
       "        2.52256301e-01,  1.04918931e-01, -1.40978035e-01, -3.76084541e-01,\n",
       "       -8.49985257e-01, -1.04985067e+00, -4.80938207e+00,  5.91301679e-01,\n",
       "       -1.93941104e+01,  0.00000000e+00,  0.00000000e+00,  0.00000000e+00,\n",
       "        0.00000000e+00,  0.00000000e+00,  0.00000000e+00,  0.00000000e+00,\n",
       "        0.00000000e+00,  0.00000000e+00,  0.00000000e+00,  0.00000000e+00])"
      ]
     },
     "execution_count": 49,
     "metadata": {},
     "output_type": "execute_result"
    }
   ],
   "source": [
    "ridge_model.coef_"
   ]
  },
  {
   "cell_type": "code",
   "execution_count": 50,
   "metadata": {},
   "outputs": [
    {
     "data": {
      "text/plain": [
       "array([5.00000000e+09, 3.78231664e+09, 2.86118383e+09, 2.16438064e+09,\n",
       "       1.63727458e+09, 1.23853818e+09, 9.36908711e+08, 7.08737081e+08,\n",
       "       5.36133611e+08, 4.05565415e+08, 3.06795364e+08, 2.32079442e+08,\n",
       "       1.75559587e+08, 1.32804389e+08, 1.00461650e+08, 7.59955541e+07,\n",
       "       5.74878498e+07, 4.34874501e+07, 3.28966612e+07, 2.48851178e+07,\n",
       "       1.88246790e+07, 1.42401793e+07, 1.07721735e+07, 8.14875417e+06,\n",
       "       6.16423370e+06, 4.66301673e+06, 3.52740116e+06, 2.66834962e+06,\n",
       "       2.01850863e+06, 1.52692775e+06, 1.15506485e+06, 8.73764200e+05,\n",
       "       6.60970574e+05, 5.00000000e+05, 3.78231664e+05, 2.86118383e+05,\n",
       "       2.16438064e+05, 1.63727458e+05, 1.23853818e+05, 9.36908711e+04,\n",
       "       7.08737081e+04, 5.36133611e+04, 4.05565415e+04, 3.06795364e+04,\n",
       "       2.32079442e+04, 1.75559587e+04, 1.32804389e+04, 1.00461650e+04,\n",
       "       7.59955541e+03, 5.74878498e+03, 4.34874501e+03, 3.28966612e+03,\n",
       "       2.48851178e+03, 1.88246790e+03, 1.42401793e+03, 1.07721735e+03,\n",
       "       8.14875417e+02, 6.16423370e+02, 4.66301673e+02, 3.52740116e+02,\n",
       "       2.66834962e+02, 2.01850863e+02, 1.52692775e+02, 1.15506485e+02,\n",
       "       8.73764200e+01, 6.60970574e+01, 5.00000000e+01, 3.78231664e+01,\n",
       "       2.86118383e+01, 2.16438064e+01, 1.63727458e+01, 1.23853818e+01,\n",
       "       9.36908711e+00, 7.08737081e+00, 5.36133611e+00, 4.05565415e+00,\n",
       "       3.06795364e+00, 2.32079442e+00, 1.75559587e+00, 1.32804389e+00,\n",
       "       1.00461650e+00, 7.59955541e-01, 5.74878498e-01, 4.34874501e-01,\n",
       "       3.28966612e-01, 2.48851178e-01, 1.88246790e-01, 1.42401793e-01,\n",
       "       1.07721735e-01, 8.14875417e-02, 6.16423370e-02, 4.66301673e-02,\n",
       "       3.52740116e-02, 2.66834962e-02, 2.01850863e-02, 1.52692775e-02,\n",
       "       1.15506485e-02, 8.73764200e-03, 6.60970574e-03, 5.00000000e-03])"
      ]
     },
     "execution_count": 50,
     "metadata": {},
     "output_type": "execute_result"
    }
   ],
   "source": [
    "10**np.linspace(10,-2,100)*0.5 "
   ]
  },
  {
   "cell_type": "code",
   "execution_count": 51,
   "metadata": {},
   "outputs": [
    {
     "data": {
      "image/png": "[encoded data removed]",
      "text/plain": [
       "<Figure size 432x288 with 1 Axes>"
      ]
     },
     "metadata": {
      "needs_background": "light"
     },
     "output_type": "display_data"
    }
   ],
   "source": [
    "lambdalar = 10**np.linspace(10,-2,100)*0.5 \n",
    "\n",
    "ridge_model = Ridge()\n",
    "katsayilar = []\n",
    "\n",
    "for i in lambdalar:\n",
    "    ridge_model.set_params(alpha = i)\n",
    "    ridge_model.fit(X_train, y_train) \n",
    "    katsayilar.append(ridge_model.coef_) \n",
    "    \n",
    "\n",
    "    \n",
    "ax = plt.gca()\n",
    "ax.plot(lambdalar, katsayilar) \n",
    "ax.set_xscale('log') \n",
    "\n",
    "plt.xlabel('Lambda(Alpha) Değerleri')\n",
    "plt.ylabel('Katsayılar/Ağırlıklar')\n",
    "plt.title('Düzenlileştirmenin Bir Fonksiyonu Olarak Ridge Katsayıları');"
   ]
  },
  {
   "cell_type": "markdown",
   "metadata": {},
   "source": [
    "### 2. Tahmin"
   ]
  },
  {
   "cell_type": "code",
   "execution_count": 52,
   "metadata": {},
   "outputs": [],
   "source": [
    "y_pred = ridge_model.predict(X_test)"
   ]
  },
  {
   "cell_type": "code",
   "execution_count": 53,
   "metadata": {},
   "outputs": [
    {
     "data": {
      "text/plain": [
       "22.292986467765758"
      ]
     },
     "execution_count": 53,
     "metadata": {},
     "output_type": "execute_result"
    }
   ],
   "source": [
    "np.sqrt(mean_squared_error(y_test, y_pred))"
   ]
  },
  {
   "cell_type": "markdown",
   "metadata": {},
   "source": [
    "### 3. Model Tuning"
   ]
  },
  {
   "cell_type": "code",
   "execution_count": 54,
   "metadata": {},
   "outputs": [],
   "source": [
    "lambdalar = 10**np.linspace(10,-2,100)*0.5 "
   ]
  },
  {
   "cell_type": "code",
   "execution_count": 55,
   "metadata": {},
   "outputs": [
    {
     "data": {
      "text/plain": [
       "array([5.00000000e+09, 3.78231664e+09, 2.86118383e+09, 2.16438064e+09,\n",
       "       1.63727458e+09])"
      ]
     },
     "execution_count": 55,
     "metadata": {},
     "output_type": "execute_result"
    }
   ],
   "source": [
    "lambdalar[0:5]"
   ]
  },
  {
   "cell_type": "code",
   "execution_count": 56,
   "metadata": {},
   "outputs": [],
   "source": [
    "from sklearn.linear_model import RidgeCV\n",
    "ridge_cv = RidgeCV(alphas = lambdalar, \n",
    "                   scoring = \"neg_mean_squared_error\",\n",
    "                   normalize = True)"
   ]
  },
  {
   "cell_type": "code",
   "execution_count": 57,
   "metadata": {},
   "outputs": [
    {
     "data": {
      "text/plain": [
       "RidgeCV(alphas=array([5.00000000e+09, 3.78231664e+09, 2.86118383e+09, 2.16438064e+09,\n",
       "       1.63727458e+09, 1.23853818e+09, 9.36908711e+08, 7.08737081e+08,\n",
       "       5.36133611e+08, 4.05565415e+08, 3.06795364e+08, 2.32079442e+08,\n",
       "       1.75559587e+08, 1.32804389e+08, 1.00461650e+08, 7.59955541e+07,\n",
       "       5.74878498e+07, 4.34874501e+07, 3.28966612e+07, 2.48851178e+07,\n",
       "       1.88246790e+07, 1.42401793e+0...\n",
       "       3.28966612e-01, 2.48851178e-01, 1.88246790e-01, 1.42401793e-01,\n",
       "       1.07721735e-01, 8.14875417e-02, 6.16423370e-02, 4.66301673e-02,\n",
       "       3.52740116e-02, 2.66834962e-02, 2.01850863e-02, 1.52692775e-02,\n",
       "       1.15506485e-02, 8.73764200e-03, 6.60970574e-03, 5.00000000e-03]),\n",
       "        cv=None, fit_intercept=True, gcv_mode=None, normalize=True,\n",
       "        scoring='neg_mean_squared_error', store_cv_values=False)"
      ]
     },
     "execution_count": 57,
     "metadata": {},
     "output_type": "execute_result"
    }
   ],
   "source": [
    "ridge_cv.fit(X_train, y_train)"
   ]
  },
  {
   "cell_type": "code",
   "execution_count": 58,
   "metadata": {},
   "outputs": [
    {
     "data": {
      "text/plain": [
       "0.005"
      ]
     },
     "execution_count": 58,
     "metadata": {},
     "output_type": "execute_result"
    }
   ],
   "source": [
    "ridge_cv.alpha_"
   ]
  },
  {
   "cell_type": "code",
   "execution_count": 59,
   "metadata": {},
   "outputs": [],
   "source": [
    "ridge_tuned = Ridge(alpha = ridge_cv.alpha_, \n",
    "                   normalize = True).fit(X_train,y_train)"
   ]
  },
  {
   "cell_type": "code",
   "execution_count": 60,
   "metadata": {},
   "outputs": [
    {
     "data": {
      "text/plain": [
       "22.29408519041927"
      ]
     },
     "execution_count": 60,
     "metadata": {},
     "output_type": "execute_result"
    }
   ],
   "source": [
    "np.sqrt(mean_squared_error(y_test, ridge_tuned.predict(X_test)))"
   ]
  },
  {
   "cell_type": "markdown",
   "metadata": {},
   "source": [
    "# Dogrusal olmayan Coklu Regresyon"
   ]
  },
  {
   "cell_type": "markdown",
   "metadata": {},
   "source": [
    "## SVR ile Model Gelistirme\n",
    "### 1. Model"
   ]
  },
  {
   "cell_type": "code",
   "execution_count": 4,
   "metadata": {},
   "outputs": [
    {
     "data": {
      "text/html": [
       "<div>\n",
       "<style scoped>\n",
       "    .dataframe tbody tr th:only-of-type {\n",
       "        vertical-align: middle;\n",
       "    }\n",
       "\n",
       "    .dataframe tbody tr th {\n",
       "        vertical-align: top;\n",
       "    }\n",
       "\n",
       "    .dataframe thead th {\n",
       "        text-align: right;\n",
       "    }\n",
       "</style>\n",
       "<table border=\"1\" class=\"dataframe\">\n",
       "  <thead>\n",
       "    <tr style=\"text-align: right;\">\n",
       "      <th></th>\n",
       "      <th>FONTOPLAMDEGER</th>\n",
       "      <th>TEDAVPAYSAYISI</th>\n",
       "      <th>KISISAYISI</th>\n",
       "      <th>FAIZ</th>\n",
       "      <th>DOLARFIYAT</th>\n",
       "      <th>ALTINFIYAT</th>\n",
       "      <th>BB</th>\n",
       "      <th>DT</th>\n",
       "      <th>DB</th>\n",
       "      <th>DÖT</th>\n",
       "      <th>...</th>\n",
       "      <th>TR</th>\n",
       "      <th>TPP</th>\n",
       "      <th>T</th>\n",
       "      <th>VM</th>\n",
       "      <th>VDM</th>\n",
       "      <th>YBA</th>\n",
       "      <th>YHS</th>\n",
       "      <th>YMK</th>\n",
       "      <th>D</th>\n",
       "      <th>R</th>\n",
       "    </tr>\n",
       "  </thead>\n",
       "  <tbody>\n",
       "    <tr>\n",
       "      <th>0</th>\n",
       "      <td>8.722176e+07</td>\n",
       "      <td>4.350000e+06</td>\n",
       "      <td>0</td>\n",
       "      <td>0.2302</td>\n",
       "      <td>5.2905</td>\n",
       "      <td>219270.871675</td>\n",
       "      <td>100.00</td>\n",
       "      <td>0.00</td>\n",
       "      <td>0.00</td>\n",
       "      <td>0.00</td>\n",
       "      <td>...</td>\n",
       "      <td>0.0</td>\n",
       "      <td>0.0</td>\n",
       "      <td>0.0</td>\n",
       "      <td>0.0</td>\n",
       "      <td>0.0</td>\n",
       "      <td>0.0</td>\n",
       "      <td>0.0</td>\n",
       "      <td>0.0</td>\n",
       "      <td>0.0</td>\n",
       "      <td>0.0</td>\n",
       "    </tr>\n",
       "    <tr>\n",
       "      <th>1</th>\n",
       "      <td>1.238294e+07</td>\n",
       "      <td>7.000000e+05</td>\n",
       "      <td>0</td>\n",
       "      <td>0.2302</td>\n",
       "      <td>5.2905</td>\n",
       "      <td>219270.871675</td>\n",
       "      <td>100.00</td>\n",
       "      <td>0.00</td>\n",
       "      <td>0.00</td>\n",
       "      <td>0.00</td>\n",
       "      <td>...</td>\n",
       "      <td>0.0</td>\n",
       "      <td>0.0</td>\n",
       "      <td>0.0</td>\n",
       "      <td>0.0</td>\n",
       "      <td>0.0</td>\n",
       "      <td>0.0</td>\n",
       "      <td>0.0</td>\n",
       "      <td>0.0</td>\n",
       "      <td>0.0</td>\n",
       "      <td>0.0</td>\n",
       "    </tr>\n",
       "    <tr>\n",
       "      <th>2</th>\n",
       "      <td>1.491130e+07</td>\n",
       "      <td>4.800000e+05</td>\n",
       "      <td>0</td>\n",
       "      <td>0.2302</td>\n",
       "      <td>5.2905</td>\n",
       "      <td>219270.871675</td>\n",
       "      <td>99.83</td>\n",
       "      <td>0.17</td>\n",
       "      <td>0.00</td>\n",
       "      <td>0.00</td>\n",
       "      <td>...</td>\n",
       "      <td>0.0</td>\n",
       "      <td>0.0</td>\n",
       "      <td>0.0</td>\n",
       "      <td>0.0</td>\n",
       "      <td>0.0</td>\n",
       "      <td>0.0</td>\n",
       "      <td>0.0</td>\n",
       "      <td>0.0</td>\n",
       "      <td>0.0</td>\n",
       "      <td>0.0</td>\n",
       "    </tr>\n",
       "    <tr>\n",
       "      <th>3</th>\n",
       "      <td>1.465104e+09</td>\n",
       "      <td>6.335717e+10</td>\n",
       "      <td>325392</td>\n",
       "      <td>0.2302</td>\n",
       "      <td>5.2905</td>\n",
       "      <td>219270.871675</td>\n",
       "      <td>1.01</td>\n",
       "      <td>3.44</td>\n",
       "      <td>85.25</td>\n",
       "      <td>3.07</td>\n",
       "      <td>...</td>\n",
       "      <td>0.0</td>\n",
       "      <td>0.0</td>\n",
       "      <td>0.0</td>\n",
       "      <td>0.0</td>\n",
       "      <td>0.0</td>\n",
       "      <td>0.0</td>\n",
       "      <td>0.0</td>\n",
       "      <td>0.0</td>\n",
       "      <td>0.0</td>\n",
       "      <td>0.0</td>\n",
       "    </tr>\n",
       "    <tr>\n",
       "      <th>4</th>\n",
       "      <td>1.784293e+09</td>\n",
       "      <td>7.415738e+10</td>\n",
       "      <td>325460</td>\n",
       "      <td>0.2302</td>\n",
       "      <td>5.2905</td>\n",
       "      <td>219270.871675</td>\n",
       "      <td>0.25</td>\n",
       "      <td>99.75</td>\n",
       "      <td>0.00</td>\n",
       "      <td>0.00</td>\n",
       "      <td>...</td>\n",
       "      <td>0.0</td>\n",
       "      <td>0.0</td>\n",
       "      <td>0.0</td>\n",
       "      <td>0.0</td>\n",
       "      <td>0.0</td>\n",
       "      <td>0.0</td>\n",
       "      <td>0.0</td>\n",
       "      <td>0.0</td>\n",
       "      <td>0.0</td>\n",
       "      <td>0.0</td>\n",
       "    </tr>\n",
       "  </tbody>\n",
       "</table>\n",
       "<p>5 rows × 32 columns</p>\n",
       "</div>"
      ],
      "text/plain": [
       "   FONTOPLAMDEGER  TEDAVPAYSAYISI  KISISAYISI    FAIZ  DOLARFIYAT  \\\n",
       "0    8.722176e+07    4.350000e+06           0  0.2302      5.2905   \n",
       "1    1.238294e+07    7.000000e+05           0  0.2302      5.2905   \n",
       "2    1.491130e+07    4.800000e+05           0  0.2302      5.2905   \n",
       "3    1.465104e+09    6.335717e+10      325392  0.2302      5.2905   \n",
       "4    1.784293e+09    7.415738e+10      325460  0.2302      5.2905   \n",
       "\n",
       "      ALTINFIYAT      BB     DT     DB   DÖT  ...   TR  TPP    T   VM  VDM  \\\n",
       "0  219270.871675  100.00   0.00   0.00  0.00  ...  0.0  0.0  0.0  0.0  0.0   \n",
       "1  219270.871675  100.00   0.00   0.00  0.00  ...  0.0  0.0  0.0  0.0  0.0   \n",
       "2  219270.871675   99.83   0.17   0.00  0.00  ...  0.0  0.0  0.0  0.0  0.0   \n",
       "3  219270.871675    1.01   3.44  85.25  3.07  ...  0.0  0.0  0.0  0.0  0.0   \n",
       "4  219270.871675    0.25  99.75   0.00  0.00  ...  0.0  0.0  0.0  0.0  0.0   \n",
       "\n",
       "   YBA  YHS  YMK    D    R  \n",
       "0  0.0  0.0  0.0  0.0  0.0  \n",
       "1  0.0  0.0  0.0  0.0  0.0  \n",
       "2  0.0  0.0  0.0  0.0  0.0  \n",
       "3  0.0  0.0  0.0  0.0  0.0  \n",
       "4  0.0  0.0  0.0  0.0  0.0  \n",
       "\n",
       "[5 rows x 32 columns]"
      ]
     },
     "execution_count": 4,
     "metadata": {},
     "output_type": "execute_result"
    }
   ],
   "source": [
    "df_svr = df.copy()\n",
    "X = df_svr.drop(['TARIH','FONTIP','FONTUR','FON','FONFIYAT'], axis = 1)\n",
    "y = df_svr[\"FONFIYAT\"]\n",
    "\n",
    "X_train, X_test, y_train, y_test = train_test_split(X, y, test_size=0.25, random_state=42)\n",
    "\n",
    "X.head()"
   ]
  },
  {
   "cell_type": "code",
   "execution_count": 3,
   "metadata": {},
   "outputs": [],
   "source": [
    "from sklearn.svm import SVR"
   ]
  },
  {
   "cell_type": "code",
   "execution_count": 4,
   "metadata": {},
   "outputs": [],
   "source": [
    "svr_rbf = SVR(\"rbf\").fit(X_train, y_train)"
   ]
  },
  {
   "cell_type": "markdown",
   "metadata": {},
   "source": [
    "### 2. Tahmin"
   ]
  },
  {
   "cell_type": "code",
   "execution_count": 5,
   "metadata": {},
   "outputs": [],
   "source": [
    "y_pred = svr_rbf.predict(X_test)"
   ]
  },
  {
   "cell_type": "code",
   "execution_count": 6,
   "metadata": {},
   "outputs": [
    {
     "data": {
      "text/plain": [
       "23.900012699516914"
      ]
     },
     "execution_count": 6,
     "metadata": {},
     "output_type": "execute_result"
    }
   ],
   "source": [
    "np.sqrt(mean_squared_error(y_test, y_pred))"
   ]
  },
  {
   "cell_type": "markdown",
   "metadata": {},
   "source": [
    "### 3. Model Tuning"
   ]
  },
  {
   "cell_type": "code",
   "execution_count": 7,
   "metadata": {},
   "outputs": [
    {
     "data": {
      "text/plain": [
       "SVR(C=1.0, cache_size=200, coef0=0.0, degree=3, epsilon=0.1, gamma='scale',\n",
       "    kernel='rbf', max_iter=-1, shrinking=True, tol=0.001, verbose=False)"
      ]
     },
     "execution_count": 7,
     "metadata": {},
     "output_type": "execute_result"
    }
   ],
   "source": [
    "svr_rbf"
   ]
  },
  {
   "cell_type": "code",
   "execution_count": null,
   "metadata": {},
   "outputs": [],
   "source": [
    "svr_params = {\"C\": np.arange(0.1,2,0.1)}\n",
    "svr_cv_model = GridSearchCV(svr_rbf,svr_params, cv = 10)\n",
    "svr_cv_model.fit(X_train, y_train)"
   ]
  },
  {
   "cell_type": "code",
   "execution_count": 5,
   "metadata": {},
   "outputs": [
    {
     "ename": "NameError",
     "evalue": "name 'svr_cv_model' is not defined",
     "output_type": "error",
     "traceback": [
      "\u001b[0;31m---------------------------------------------------------------------------\u001b[0m",
      "\u001b[0;31mNameError\u001b[0m                                 Traceback (most recent call last)",
      "\u001b[0;32m<ipython-input-5-1316d66713aa>\u001b[0m in \u001b[0;36m<module>\u001b[0;34m\u001b[0m\n\u001b[0;32m----> 1\u001b[0;31m \u001b[0mpd\u001b[0m\u001b[0;34m.\u001b[0m\u001b[0mSeries\u001b[0m\u001b[0;34m(\u001b[0m\u001b[0msvr_cv_model\u001b[0m\u001b[0;34m.\u001b[0m\u001b[0mbest_params_\u001b[0m\u001b[0;34m)\u001b[0m\u001b[0;34m[\u001b[0m\u001b[0;36m0\u001b[0m\u001b[0;34m]\u001b[0m\u001b[0;34m\u001b[0m\u001b[0;34m\u001b[0m\u001b[0m\n\u001b[0m",
      "\u001b[0;31mNameError\u001b[0m: name 'svr_cv_model' is not defined"
     ]
    }
   ],
   "source": [
    "pd.Series(svr_cv_model.best_params_)[0]"
   ]
  },
  {
   "cell_type": "code",
   "execution_count": null,
   "metadata": {},
   "outputs": [],
   "source": [
    "svr_tuned = SVR(\"rbf\", C = pd.Series(svr_cv_model.best_params_)[0]).fit(X_train, \n",
    "                                                                        y_train)\n",
    "\n"
   ]
  },
  {
   "cell_type": "code",
   "execution_count": null,
   "metadata": {},
   "outputs": [],
   "source": [
    "y_pred = svr_tuned.predict(X_test)\n",
    "\n",
    "np.sqrt(mean_squared_error(y_test, y_pred))"
   ]
  },
  {
   "cell_type": "markdown",
   "metadata": {},
   "source": [
    "## YSA ile Model Gelistirme"
   ]
  },
  {
   "cell_type": "markdown",
   "metadata": {},
   "source": [
    "### 1. Model"
   ]
  },
  {
   "cell_type": "code",
   "execution_count": 2,
   "metadata": {},
   "outputs": [
    {
     "data": {
      "text/html": [
       "<div>\n",
       "<style scoped>\n",
       "    .dataframe tbody tr th:only-of-type {\n",
       "        vertical-align: middle;\n",
       "    }\n",
       "\n",
       "    .dataframe tbody tr th {\n",
       "        vertical-align: top;\n",
       "    }\n",
       "\n",
       "    .dataframe thead th {\n",
       "        text-align: right;\n",
       "    }\n",
       "</style>\n",
       "<table border=\"1\" class=\"dataframe\">\n",
       "  <thead>\n",
       "    <tr style=\"text-align: right;\">\n",
       "      <th></th>\n",
       "      <th>FONTOPLAMDEGER</th>\n",
       "      <th>TEDAVPAYSAYISI</th>\n",
       "      <th>KISISAYISI</th>\n",
       "      <th>FAIZ</th>\n",
       "      <th>DOLARFIYAT</th>\n",
       "      <th>ALTINFIYAT</th>\n",
       "      <th>BB</th>\n",
       "      <th>DT</th>\n",
       "      <th>DB</th>\n",
       "      <th>DÖT</th>\n",
       "      <th>...</th>\n",
       "      <th>TR</th>\n",
       "      <th>TPP</th>\n",
       "      <th>T</th>\n",
       "      <th>VM</th>\n",
       "      <th>VDM</th>\n",
       "      <th>YBA</th>\n",
       "      <th>YHS</th>\n",
       "      <th>YMK</th>\n",
       "      <th>D</th>\n",
       "      <th>R</th>\n",
       "    </tr>\n",
       "  </thead>\n",
       "  <tbody>\n",
       "    <tr>\n",
       "      <th>0</th>\n",
       "      <td>8.722176e+07</td>\n",
       "      <td>4.350000e+06</td>\n",
       "      <td>0</td>\n",
       "      <td>0.2302</td>\n",
       "      <td>5.2905</td>\n",
       "      <td>219270.871675</td>\n",
       "      <td>100.00</td>\n",
       "      <td>0.00</td>\n",
       "      <td>0.00</td>\n",
       "      <td>0.00</td>\n",
       "      <td>...</td>\n",
       "      <td>0.0</td>\n",
       "      <td>0.0</td>\n",
       "      <td>0.0</td>\n",
       "      <td>0.0</td>\n",
       "      <td>0.0</td>\n",
       "      <td>0.0</td>\n",
       "      <td>0.0</td>\n",
       "      <td>0.0</td>\n",
       "      <td>0.0</td>\n",
       "      <td>0.0</td>\n",
       "    </tr>\n",
       "    <tr>\n",
       "      <th>1</th>\n",
       "      <td>1.238294e+07</td>\n",
       "      <td>7.000000e+05</td>\n",
       "      <td>0</td>\n",
       "      <td>0.2302</td>\n",
       "      <td>5.2905</td>\n",
       "      <td>219270.871675</td>\n",
       "      <td>100.00</td>\n",
       "      <td>0.00</td>\n",
       "      <td>0.00</td>\n",
       "      <td>0.00</td>\n",
       "      <td>...</td>\n",
       "      <td>0.0</td>\n",
       "      <td>0.0</td>\n",
       "      <td>0.0</td>\n",
       "      <td>0.0</td>\n",
       "      <td>0.0</td>\n",
       "      <td>0.0</td>\n",
       "      <td>0.0</td>\n",
       "      <td>0.0</td>\n",
       "      <td>0.0</td>\n",
       "      <td>0.0</td>\n",
       "    </tr>\n",
       "    <tr>\n",
       "      <th>2</th>\n",
       "      <td>1.491130e+07</td>\n",
       "      <td>4.800000e+05</td>\n",
       "      <td>0</td>\n",
       "      <td>0.2302</td>\n",
       "      <td>5.2905</td>\n",
       "      <td>219270.871675</td>\n",
       "      <td>99.83</td>\n",
       "      <td>0.17</td>\n",
       "      <td>0.00</td>\n",
       "      <td>0.00</td>\n",
       "      <td>...</td>\n",
       "      <td>0.0</td>\n",
       "      <td>0.0</td>\n",
       "      <td>0.0</td>\n",
       "      <td>0.0</td>\n",
       "      <td>0.0</td>\n",
       "      <td>0.0</td>\n",
       "      <td>0.0</td>\n",
       "      <td>0.0</td>\n",
       "      <td>0.0</td>\n",
       "      <td>0.0</td>\n",
       "    </tr>\n",
       "    <tr>\n",
       "      <th>3</th>\n",
       "      <td>1.465104e+09</td>\n",
       "      <td>6.335717e+10</td>\n",
       "      <td>325392</td>\n",
       "      <td>0.2302</td>\n",
       "      <td>5.2905</td>\n",
       "      <td>219270.871675</td>\n",
       "      <td>1.01</td>\n",
       "      <td>3.44</td>\n",
       "      <td>85.25</td>\n",
       "      <td>3.07</td>\n",
       "      <td>...</td>\n",
       "      <td>0.0</td>\n",
       "      <td>0.0</td>\n",
       "      <td>0.0</td>\n",
       "      <td>0.0</td>\n",
       "      <td>0.0</td>\n",
       "      <td>0.0</td>\n",
       "      <td>0.0</td>\n",
       "      <td>0.0</td>\n",
       "      <td>0.0</td>\n",
       "      <td>0.0</td>\n",
       "    </tr>\n",
       "    <tr>\n",
       "      <th>4</th>\n",
       "      <td>1.784293e+09</td>\n",
       "      <td>7.415738e+10</td>\n",
       "      <td>325460</td>\n",
       "      <td>0.2302</td>\n",
       "      <td>5.2905</td>\n",
       "      <td>219270.871675</td>\n",
       "      <td>0.25</td>\n",
       "      <td>99.75</td>\n",
       "      <td>0.00</td>\n",
       "      <td>0.00</td>\n",
       "      <td>...</td>\n",
       "      <td>0.0</td>\n",
       "      <td>0.0</td>\n",
       "      <td>0.0</td>\n",
       "      <td>0.0</td>\n",
       "      <td>0.0</td>\n",
       "      <td>0.0</td>\n",
       "      <td>0.0</td>\n",
       "      <td>0.0</td>\n",
       "      <td>0.0</td>\n",
       "      <td>0.0</td>\n",
       "    </tr>\n",
       "  </tbody>\n",
       "</table>\n",
       "<p>5 rows × 32 columns</p>\n",
       "</div>"
      ],
      "text/plain": [
       "   FONTOPLAMDEGER  TEDAVPAYSAYISI  KISISAYISI    FAIZ  DOLARFIYAT  \\\n",
       "0    8.722176e+07    4.350000e+06           0  0.2302      5.2905   \n",
       "1    1.238294e+07    7.000000e+05           0  0.2302      5.2905   \n",
       "2    1.491130e+07    4.800000e+05           0  0.2302      5.2905   \n",
       "3    1.465104e+09    6.335717e+10      325392  0.2302      5.2905   \n",
       "4    1.784293e+09    7.415738e+10      325460  0.2302      5.2905   \n",
       "\n",
       "      ALTINFIYAT      BB     DT     DB   DÖT  ...   TR  TPP    T   VM  VDM  \\\n",
       "0  219270.871675  100.00   0.00   0.00  0.00  ...  0.0  0.0  0.0  0.0  0.0   \n",
       "1  219270.871675  100.00   0.00   0.00  0.00  ...  0.0  0.0  0.0  0.0  0.0   \n",
       "2  219270.871675   99.83   0.17   0.00  0.00  ...  0.0  0.0  0.0  0.0  0.0   \n",
       "3  219270.871675    1.01   3.44  85.25  3.07  ...  0.0  0.0  0.0  0.0  0.0   \n",
       "4  219270.871675    0.25  99.75   0.00  0.00  ...  0.0  0.0  0.0  0.0  0.0   \n",
       "\n",
       "   YBA  YHS  YMK    D    R  \n",
       "0  0.0  0.0  0.0  0.0  0.0  \n",
       "1  0.0  0.0  0.0  0.0  0.0  \n",
       "2  0.0  0.0  0.0  0.0  0.0  \n",
       "3  0.0  0.0  0.0  0.0  0.0  \n",
       "4  0.0  0.0  0.0  0.0  0.0  \n",
       "\n",
       "[5 rows x 32 columns]"
      ]
     },
     "execution_count": 2,
     "metadata": {},
     "output_type": "execute_result"
    }
   ],
   "source": [
    "df_ysa = df.copy()\n",
    "X = df_ysa.drop(['TARIH','FONTIP','FONTUR','FON','FONFIYAT'], axis = 1)\n",
    "y = df_ysa[\"FONFIYAT\"]\n",
    "\n",
    "X_train, X_test, y_train, y_test = train_test_split(X, y, test_size=0.25, random_state=42)\n",
    "\n",
    "X.head()"
   ]
  },
  {
   "cell_type": "code",
   "execution_count": 3,
   "metadata": {},
   "outputs": [
    {
     "data": {
      "text/plain": [
       "StandardScaler(copy=True, with_mean=True, with_std=True)"
      ]
     },
     "execution_count": 3,
     "metadata": {},
     "output_type": "execute_result"
    }
   ],
   "source": [
    "scaler = StandardScaler()\n",
    "scaler.fit(X_train)"
   ]
  },
  {
   "cell_type": "code",
   "execution_count": 4,
   "metadata": {},
   "outputs": [],
   "source": [
    "X_train_scaled = scaler.transform(X_train)"
   ]
  },
  {
   "cell_type": "code",
   "execution_count": 5,
   "metadata": {},
   "outputs": [],
   "source": [
    "X_test_scaled = scaler.transform(X_test)"
   ]
  },
  {
   "cell_type": "code",
   "execution_count": 6,
   "metadata": {},
   "outputs": [],
   "source": [
    "from sklearn.neural_network import MLPRegressor"
   ]
  },
  {
   "cell_type": "code",
   "execution_count": 7,
   "metadata": {},
   "outputs": [],
   "source": [
    "mlp_model = MLPRegressor(hidden_layer_sizes = (100,20)).fit(X_train_scaled, y_train)"
   ]
  },
  {
   "cell_type": "code",
   "execution_count": 8,
   "metadata": {},
   "outputs": [
    {
     "data": {
      "text/plain": [
       "MLPRegressor(activation='relu', alpha=0.0001, batch_size='auto', beta_1=0.9,\n",
       "             beta_2=0.999, early_stopping=False, epsilon=1e-08,\n",
       "             hidden_layer_sizes=(100, 20), learning_rate='constant',\n",
       "             learning_rate_init=0.001, max_fun=15000, max_iter=200,\n",
       "             momentum=0.9, n_iter_no_change=10, nesterovs_momentum=True,\n",
       "             power_t=0.5, random_state=None, shuffle=True, solver='adam',\n",
       "             tol=0.0001, validation_fraction=0.1, verbose=False,\n",
       "             warm_start=False)"
      ]
     },
     "execution_count": 8,
     "metadata": {},
     "output_type": "execute_result"
    }
   ],
   "source": [
    "mlp_model"
   ]
  },
  {
   "cell_type": "code",
   "execution_count": 9,
   "metadata": {},
   "outputs": [
    {
     "data": {
      "text/plain": [
       "4"
      ]
     },
     "execution_count": 9,
     "metadata": {},
     "output_type": "execute_result"
    }
   ],
   "source": [
    "mlp_model.n_layers_"
   ]
  },
  {
   "cell_type": "code",
   "execution_count": 10,
   "metadata": {},
   "outputs": [
    {
     "data": {
      "text/plain": [
       "(100, 20)"
      ]
     },
     "execution_count": 10,
     "metadata": {},
     "output_type": "execute_result"
    }
   ],
   "source": [
    "mlp_model.hidden_layer_sizes"
   ]
  },
  {
   "cell_type": "markdown",
   "metadata": {},
   "source": [
    "### 2. Tahmin"
   ]
  },
  {
   "cell_type": "code",
   "execution_count": 11,
   "metadata": {},
   "outputs": [],
   "source": [
    "y_pred = mlp_model.predict(X_test_scaled)"
   ]
  },
  {
   "cell_type": "code",
   "execution_count": 12,
   "metadata": {},
   "outputs": [
    {
     "data": {
      "text/plain": [
       "6.535549700357572"
      ]
     },
     "execution_count": 12,
     "metadata": {},
     "output_type": "execute_result"
    }
   ],
   "source": [
    "np.sqrt(mean_squared_error(y_test, y_pred))"
   ]
  },
  {
   "cell_type": "markdown",
   "metadata": {},
   "source": [
    "### 3. Model Tuning"
   ]
  },
  {
   "cell_type": "code",
   "execution_count": 13,
   "metadata": {},
   "outputs": [
    {
     "data": {
      "text/plain": [
       "MLPRegressor(activation='relu', alpha=0.0001, batch_size='auto', beta_1=0.9,\n",
       "             beta_2=0.999, early_stopping=False, epsilon=1e-08,\n",
       "             hidden_layer_sizes=(100, 20), learning_rate='constant',\n",
       "             learning_rate_init=0.001, max_fun=15000, max_iter=200,\n",
       "             momentum=0.9, n_iter_no_change=10, nesterovs_momentum=True,\n",
       "             power_t=0.5, random_state=None, shuffle=True, solver='adam',\n",
       "             tol=0.0001, validation_fraction=0.1, verbose=False,\n",
       "             warm_start=False)"
      ]
     },
     "execution_count": 13,
     "metadata": {},
     "output_type": "execute_result"
    }
   ],
   "source": [
    "mlp_model"
   ]
  },
  {
   "cell_type": "code",
   "execution_count": 14,
   "metadata": {},
   "outputs": [],
   "source": [
    "mlp_params = {'alpha': [0.1, 0.01,0.02,0.005],\n",
    "             'hidden_layer_sizes': [(20,20),(100,50,150),(300,200,150)],\n",
    "             'activation': ['relu','logistic']}"
   ]
  },
  {
   "cell_type": "code",
   "execution_count": 15,
   "metadata": {},
   "outputs": [],
   "source": [
    "mlp_cv_model = GridSearchCV(mlp_model, mlp_params, cv = 10)"
   ]
  },
  {
   "cell_type": "code",
   "execution_count": null,
   "metadata": {},
   "outputs": [],
   "source": [
    "mlp_cv_model"
   ]
  },
  {
   "cell_type": "code",
   "execution_count": null,
   "metadata": {},
   "outputs": [],
   "source": [
    "mlp_cv_model.fit(X_train_scaled, y_train)"
   ]
  },
  {
   "cell_type": "code",
   "execution_count": null,
   "metadata": {},
   "outputs": [],
   "source": [
    "mlp_cv_model.best_params_"
   ]
  },
  {
   "cell_type": "code",
   "execution_count": null,
   "metadata": {},
   "outputs": [],
   "source": [
    "mlp_tuned = MLPRegressor(alpha = 0.02, hidden_layer_sizes = (100,50,150))"
   ]
  },
  {
   "cell_type": "code",
   "execution_count": null,
   "metadata": {},
   "outputs": [],
   "source": [
    "mlp_tuned.fit(X_train_scaled, y_train)"
   ]
  },
  {
   "cell_type": "code",
   "execution_count": null,
   "metadata": {},
   "outputs": [],
   "source": [
    "y_pred = mlp_tuned.predict(X_test_scaled)"
   ]
  },
  {
   "cell_type": "code",
   "execution_count": null,
   "metadata": {},
   "outputs": [],
   "source": [
    "np.sqrt(mean_squared_error(y_test, y_pred))"
   ]
  },
  {
   "cell_type": "code",
   "execution_count": null,
   "metadata": {},
   "outputs": [],
   "source": []
  }
 ],
 "metadata": {
  "kernelspec": {
   "display_name": "Python 3",
   "language": "python",
   "name": "python3"
  },
  "language_info": {
   "codemirror_mode": {
    "name": "ipython",
    "version": 3
   },
   "file_extension": ".py",
   "mimetype": "text/x-python",
   "name": "python",
   "nbconvert_exporter": "python",
   "pygments_lexer": "ipython3",
   "version": "3.7.7"
  }
 },
 "nbformat": 4,
 "nbformat_minor": 4
}
