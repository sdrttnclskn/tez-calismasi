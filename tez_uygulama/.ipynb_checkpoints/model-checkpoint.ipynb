{
 "cells": [
  {
   "cell_type": "markdown",
   "metadata": {},
   "source": [
    "# Fiyat Tahmin icin Model Gelistirme"
   ]
  },
  {
   "cell_type": "markdown",
   "metadata": {},
   "source": [
    "## Veri Okuma ve Veri duzenleme"
   ]
  },
  {
   "cell_type": "code",
   "execution_count": 1,
   "metadata": {},
   "outputs": [
    {
     "name": "stdout",
     "output_type": "stream",
     "text": [
      "<class 'pandas.core.frame.DataFrame'>\n",
      "RangeIndex: 187438 entries, 0 to 187437\n",
      "Data columns (total 26 columns):\n",
      " #   Column          Non-Null Count   Dtype  \n",
      "---  ------          --------------   -----  \n",
      " 0   TARIH           187438 non-null  object \n",
      " 1   FONTIP          187438 non-null  object \n",
      " 2   FONTUR          187438 non-null  object \n",
      " 3   FON             187438 non-null  object \n",
      " 4   FONTOPLAMDEGER  187438 non-null  float64\n",
      " 5   TEDAVPAYSAYISI  187438 non-null  float64\n",
      " 6   KISISAYISI      187438 non-null  int64  \n",
      " 7   FONFIYAT        187438 non-null  float64\n",
      " 8   FAIZ            187438 non-null  float64\n",
      " 9   DOLARFIYAT      187438 non-null  float64\n",
      " 10  ALTINFIYAT      187438 non-null  float64\n",
      " 11  BB              187438 non-null  float64\n",
      " 12  DT              187438 non-null  float64\n",
      " 13  DB              187438 non-null  float64\n",
      " 14  DÖT             187438 non-null  float64\n",
      " 15  EUT             187438 non-null  float64\n",
      " 16  FB              187438 non-null  float64\n",
      " 17  FKB             187438 non-null  float64\n",
      " 18  GAS             187438 non-null  float64\n",
      " 19  HB              187438 non-null  float64\n",
      " 20  HS              187438 non-null  float64\n",
      " 21  KBA             187438 non-null  float64\n",
      " 22  KKS             187438 non-null  float64\n",
      " 23  KH              187438 non-null  float64\n",
      " 24  KM              187438 non-null  float64\n",
      " 25  OSKS            187438 non-null  float64\n",
      "dtypes: float64(21), int64(1), object(4)\n",
      "memory usage: 37.2+ MB\n"
     ]
    },
    {
     "data": {
      "text/html": [
       "<div>\n",
       "<style scoped>\n",
       "    .dataframe tbody tr th:only-of-type {\n",
       "        vertical-align: middle;\n",
       "    }\n",
       "\n",
       "    .dataframe tbody tr th {\n",
       "        vertical-align: top;\n",
       "    }\n",
       "\n",
       "    .dataframe thead th {\n",
       "        text-align: right;\n",
       "    }\n",
       "</style>\n",
       "<table border=\"1\" class=\"dataframe\">\n",
       "  <thead>\n",
       "    <tr style=\"text-align: right;\">\n",
       "      <th></th>\n",
       "      <th>TARIH</th>\n",
       "      <th>FONTIP</th>\n",
       "      <th>FONTUR</th>\n",
       "      <th>FON</th>\n",
       "      <th>FONTOPLAMDEGER</th>\n",
       "      <th>TEDAVPAYSAYISI</th>\n",
       "      <th>KISISAYISI</th>\n",
       "      <th>FONFIYAT</th>\n",
       "      <th>FAIZ</th>\n",
       "      <th>DOLARFIYAT</th>\n",
       "      <th>...</th>\n",
       "      <th>FB</th>\n",
       "      <th>FKB</th>\n",
       "      <th>GAS</th>\n",
       "      <th>HB</th>\n",
       "      <th>HS</th>\n",
       "      <th>KBA</th>\n",
       "      <th>KKS</th>\n",
       "      <th>KH</th>\n",
       "      <th>KM</th>\n",
       "      <th>OSKS</th>\n",
       "    </tr>\n",
       "  </thead>\n",
       "  <tbody>\n",
       "    <tr>\n",
       "      <th>0</th>\n",
       "      <td>2019-01-02</td>\n",
       "      <td>BORSA YATIRIM FONU</td>\n",
       "      <td>Altın Fonu</td>\n",
       "      <td>FGA</td>\n",
       "      <td>8.722176e+07</td>\n",
       "      <td>4.350000e+06</td>\n",
       "      <td>0</td>\n",
       "      <td>20.050979</td>\n",
       "      <td>0.2302</td>\n",
       "      <td>5.2905</td>\n",
       "      <td>...</td>\n",
       "      <td>0.00</td>\n",
       "      <td>0.0</td>\n",
       "      <td>0.0</td>\n",
       "      <td>0.0</td>\n",
       "      <td>0.0</td>\n",
       "      <td>0.0</td>\n",
       "      <td>0.0</td>\n",
       "      <td>0.0</td>\n",
       "      <td>0.0</td>\n",
       "      <td>0.0</td>\n",
       "    </tr>\n",
       "    <tr>\n",
       "      <th>1</th>\n",
       "      <td>2019-01-02</td>\n",
       "      <td>BORSA YATIRIM FONU</td>\n",
       "      <td>Gümüş Fonu</td>\n",
       "      <td>FGS</td>\n",
       "      <td>1.238294e+07</td>\n",
       "      <td>7.000000e+05</td>\n",
       "      <td>0</td>\n",
       "      <td>17.689916</td>\n",
       "      <td>0.2302</td>\n",
       "      <td>5.2905</td>\n",
       "      <td>...</td>\n",
       "      <td>0.00</td>\n",
       "      <td>0.0</td>\n",
       "      <td>0.0</td>\n",
       "      <td>0.0</td>\n",
       "      <td>0.0</td>\n",
       "      <td>0.0</td>\n",
       "      <td>0.0</td>\n",
       "      <td>0.0</td>\n",
       "      <td>0.0</td>\n",
       "      <td>0.0</td>\n",
       "    </tr>\n",
       "    <tr>\n",
       "      <th>2</th>\n",
       "      <td>2019-01-02</td>\n",
       "      <td>BORSA YATIRIM FONU</td>\n",
       "      <td>Hisse Senedi Fonu</td>\n",
       "      <td>DJA</td>\n",
       "      <td>1.491130e+07</td>\n",
       "      <td>4.800000e+05</td>\n",
       "      <td>0</td>\n",
       "      <td>31.065216</td>\n",
       "      <td>0.2302</td>\n",
       "      <td>5.2905</td>\n",
       "      <td>...</td>\n",
       "      <td>0.00</td>\n",
       "      <td>0.0</td>\n",
       "      <td>0.0</td>\n",
       "      <td>0.0</td>\n",
       "      <td>0.0</td>\n",
       "      <td>0.0</td>\n",
       "      <td>0.0</td>\n",
       "      <td>0.0</td>\n",
       "      <td>0.0</td>\n",
       "      <td>0.0</td>\n",
       "    </tr>\n",
       "    <tr>\n",
       "      <th>3</th>\n",
       "      <td>2019-01-02</td>\n",
       "      <td>EMEKLİLİK FONU</td>\n",
       "      <td>Altın Fonu</td>\n",
       "      <td>AEA</td>\n",
       "      <td>1.465104e+09</td>\n",
       "      <td>6.335717e+10</td>\n",
       "      <td>325392</td>\n",
       "      <td>0.023125</td>\n",
       "      <td>0.2302</td>\n",
       "      <td>5.2905</td>\n",
       "      <td>...</td>\n",
       "      <td>7.23</td>\n",
       "      <td>0.0</td>\n",
       "      <td>0.0</td>\n",
       "      <td>0.0</td>\n",
       "      <td>0.0</td>\n",
       "      <td>0.0</td>\n",
       "      <td>0.0</td>\n",
       "      <td>0.0</td>\n",
       "      <td>0.0</td>\n",
       "      <td>0.0</td>\n",
       "    </tr>\n",
       "    <tr>\n",
       "      <th>4</th>\n",
       "      <td>2019-01-02</td>\n",
       "      <td>EMEKLİLİK FONU</td>\n",
       "      <td>Altın Fonu</td>\n",
       "      <td>AEL</td>\n",
       "      <td>1.784293e+09</td>\n",
       "      <td>7.415738e+10</td>\n",
       "      <td>325460</td>\n",
       "      <td>0.024061</td>\n",
       "      <td>0.2302</td>\n",
       "      <td>5.2905</td>\n",
       "      <td>...</td>\n",
       "      <td>0.00</td>\n",
       "      <td>0.0</td>\n",
       "      <td>0.0</td>\n",
       "      <td>0.0</td>\n",
       "      <td>0.0</td>\n",
       "      <td>0.0</td>\n",
       "      <td>0.0</td>\n",
       "      <td>0.0</td>\n",
       "      <td>0.0</td>\n",
       "      <td>0.0</td>\n",
       "    </tr>\n",
       "  </tbody>\n",
       "</table>\n",
       "<p>5 rows × 26 columns</p>\n",
       "</div>"
      ],
      "text/plain": [
       "        TARIH              FONTIP             FONTUR  FON  FONTOPLAMDEGER  \\\n",
       "0  2019-01-02  BORSA YATIRIM FONU         Altın Fonu  FGA    8.722176e+07   \n",
       "1  2019-01-02  BORSA YATIRIM FONU         Gümüş Fonu  FGS    1.238294e+07   \n",
       "2  2019-01-02  BORSA YATIRIM FONU  Hisse Senedi Fonu  DJA    1.491130e+07   \n",
       "3  2019-01-02      EMEKLİLİK FONU         Altın Fonu  AEA    1.465104e+09   \n",
       "4  2019-01-02      EMEKLİLİK FONU         Altın Fonu  AEL    1.784293e+09   \n",
       "\n",
       "   TEDAVPAYSAYISI  KISISAYISI   FONFIYAT    FAIZ  DOLARFIYAT  ...    FB  FKB  \\\n",
       "0    4.350000e+06           0  20.050979  0.2302      5.2905  ...  0.00  0.0   \n",
       "1    7.000000e+05           0  17.689916  0.2302      5.2905  ...  0.00  0.0   \n",
       "2    4.800000e+05           0  31.065216  0.2302      5.2905  ...  0.00  0.0   \n",
       "3    6.335717e+10      325392   0.023125  0.2302      5.2905  ...  7.23  0.0   \n",
       "4    7.415738e+10      325460   0.024061  0.2302      5.2905  ...  0.00  0.0   \n",
       "\n",
       "   GAS   HB   HS  KBA  KKS   KH   KM  OSKS  \n",
       "0  0.0  0.0  0.0  0.0  0.0  0.0  0.0   0.0  \n",
       "1  0.0  0.0  0.0  0.0  0.0  0.0  0.0   0.0  \n",
       "2  0.0  0.0  0.0  0.0  0.0  0.0  0.0   0.0  \n",
       "3  0.0  0.0  0.0  0.0  0.0  0.0  0.0   0.0  \n",
       "4  0.0  0.0  0.0  0.0  0.0  0.0  0.0   0.0  \n",
       "\n",
       "[5 rows x 26 columns]"
      ]
     },
     "execution_count": 1,
     "metadata": {},
     "output_type": "execute_result"
    }
   ],
   "source": [
    "#### Kutuphane ####\n",
    "from warnings import filterwarnings\n",
    "filterwarnings('ignore')\n",
    "import pandas as pd\n",
    "from sklearn.model_selection import train_test_split, cross_val_score,GridSearchCV, cross_val_predict\n",
    "from sklearn.metrics import mean_squared_error, r2_score, accuracy_score,mean_absolute_error\n",
    "import matplotlib.pyplot as plt\n",
    "import numpy as np\n",
    "from sklearn import model_selection\n",
    "from sklearn.preprocessing import scale \n",
    "from sklearn.preprocessing import StandardScaler\n",
    "\n",
    "\n",
    "#### Veri #####\n",
    "veriseti = pd.read_csv(\"/Users/sdrttnclskn/Desktop/tez/tez-calismasi/tez_uygulama/temiz_veri_seti.csv\")\n",
    "df = veriseti.copy()\n",
    "#tanimsız olan boş kolon drop edildi.\n",
    "df.drop(df.columns[[0]], axis=1, inplace=True)\n",
    "df.info()\n",
    "df.head()"
   ]
  },
  {
   "cell_type": "markdown",
   "metadata": {},
   "source": [
    "# Dogrusal Coklu Regresyon"
   ]
  },
  {
   "cell_type": "markdown",
   "metadata": {},
   "source": [
    "## PLS ile Model Gelistirme\n",
    "### 1. Model"
   ]
  },
  {
   "cell_type": "code",
   "execution_count": 196,
   "metadata": {},
   "outputs": [
    {
     "data": {
      "text/html": [
       "<div>\n",
       "<style scoped>\n",
       "    .dataframe tbody tr th:only-of-type {\n",
       "        vertical-align: middle;\n",
       "    }\n",
       "\n",
       "    .dataframe tbody tr th {\n",
       "        vertical-align: top;\n",
       "    }\n",
       "\n",
       "    .dataframe thead th {\n",
       "        text-align: right;\n",
       "    }\n",
       "</style>\n",
       "<table border=\"1\" class=\"dataframe\">\n",
       "  <thead>\n",
       "    <tr style=\"text-align: right;\">\n",
       "      <th></th>\n",
       "      <th>FONTOPLAMDEGER</th>\n",
       "      <th>TEDAVPAYSAYISI</th>\n",
       "      <th>KISISAYISI</th>\n",
       "      <th>FAIZ</th>\n",
       "      <th>DOLARFIYAT</th>\n",
       "      <th>ALTINFIYAT</th>\n",
       "      <th>BB</th>\n",
       "      <th>DT</th>\n",
       "      <th>DB</th>\n",
       "      <th>DÖT</th>\n",
       "      <th>...</th>\n",
       "      <th>FB</th>\n",
       "      <th>FKB</th>\n",
       "      <th>GAS</th>\n",
       "      <th>HB</th>\n",
       "      <th>HS</th>\n",
       "      <th>KBA</th>\n",
       "      <th>KKS</th>\n",
       "      <th>KH</th>\n",
       "      <th>KM</th>\n",
       "      <th>OSKS</th>\n",
       "    </tr>\n",
       "  </thead>\n",
       "  <tbody>\n",
       "    <tr>\n",
       "      <th>0</th>\n",
       "      <td>8.722176e+07</td>\n",
       "      <td>4.350000e+06</td>\n",
       "      <td>0</td>\n",
       "      <td>0.2302</td>\n",
       "      <td>5.2905</td>\n",
       "      <td>219270.871675</td>\n",
       "      <td>100.00</td>\n",
       "      <td>0.00</td>\n",
       "      <td>0.00</td>\n",
       "      <td>0.00</td>\n",
       "      <td>...</td>\n",
       "      <td>0.00</td>\n",
       "      <td>0.0</td>\n",
       "      <td>0.0</td>\n",
       "      <td>0.0</td>\n",
       "      <td>0.0</td>\n",
       "      <td>0.0</td>\n",
       "      <td>0.0</td>\n",
       "      <td>0.0</td>\n",
       "      <td>0.0</td>\n",
       "      <td>0.0</td>\n",
       "    </tr>\n",
       "    <tr>\n",
       "      <th>1</th>\n",
       "      <td>1.238294e+07</td>\n",
       "      <td>7.000000e+05</td>\n",
       "      <td>0</td>\n",
       "      <td>0.2302</td>\n",
       "      <td>5.2905</td>\n",
       "      <td>219270.871675</td>\n",
       "      <td>100.00</td>\n",
       "      <td>0.00</td>\n",
       "      <td>0.00</td>\n",
       "      <td>0.00</td>\n",
       "      <td>...</td>\n",
       "      <td>0.00</td>\n",
       "      <td>0.0</td>\n",
       "      <td>0.0</td>\n",
       "      <td>0.0</td>\n",
       "      <td>0.0</td>\n",
       "      <td>0.0</td>\n",
       "      <td>0.0</td>\n",
       "      <td>0.0</td>\n",
       "      <td>0.0</td>\n",
       "      <td>0.0</td>\n",
       "    </tr>\n",
       "    <tr>\n",
       "      <th>2</th>\n",
       "      <td>1.491130e+07</td>\n",
       "      <td>4.800000e+05</td>\n",
       "      <td>0</td>\n",
       "      <td>0.2302</td>\n",
       "      <td>5.2905</td>\n",
       "      <td>219270.871675</td>\n",
       "      <td>99.83</td>\n",
       "      <td>0.17</td>\n",
       "      <td>0.00</td>\n",
       "      <td>0.00</td>\n",
       "      <td>...</td>\n",
       "      <td>0.00</td>\n",
       "      <td>0.0</td>\n",
       "      <td>0.0</td>\n",
       "      <td>0.0</td>\n",
       "      <td>0.0</td>\n",
       "      <td>0.0</td>\n",
       "      <td>0.0</td>\n",
       "      <td>0.0</td>\n",
       "      <td>0.0</td>\n",
       "      <td>0.0</td>\n",
       "    </tr>\n",
       "    <tr>\n",
       "      <th>3</th>\n",
       "      <td>1.465104e+09</td>\n",
       "      <td>6.335717e+10</td>\n",
       "      <td>325392</td>\n",
       "      <td>0.2302</td>\n",
       "      <td>5.2905</td>\n",
       "      <td>219270.871675</td>\n",
       "      <td>1.01</td>\n",
       "      <td>3.44</td>\n",
       "      <td>85.25</td>\n",
       "      <td>3.07</td>\n",
       "      <td>...</td>\n",
       "      <td>7.23</td>\n",
       "      <td>0.0</td>\n",
       "      <td>0.0</td>\n",
       "      <td>0.0</td>\n",
       "      <td>0.0</td>\n",
       "      <td>0.0</td>\n",
       "      <td>0.0</td>\n",
       "      <td>0.0</td>\n",
       "      <td>0.0</td>\n",
       "      <td>0.0</td>\n",
       "    </tr>\n",
       "    <tr>\n",
       "      <th>4</th>\n",
       "      <td>1.784293e+09</td>\n",
       "      <td>7.415738e+10</td>\n",
       "      <td>325460</td>\n",
       "      <td>0.2302</td>\n",
       "      <td>5.2905</td>\n",
       "      <td>219270.871675</td>\n",
       "      <td>0.25</td>\n",
       "      <td>99.75</td>\n",
       "      <td>0.00</td>\n",
       "      <td>0.00</td>\n",
       "      <td>...</td>\n",
       "      <td>0.00</td>\n",
       "      <td>0.0</td>\n",
       "      <td>0.0</td>\n",
       "      <td>0.0</td>\n",
       "      <td>0.0</td>\n",
       "      <td>0.0</td>\n",
       "      <td>0.0</td>\n",
       "      <td>0.0</td>\n",
       "      <td>0.0</td>\n",
       "      <td>0.0</td>\n",
       "    </tr>\n",
       "  </tbody>\n",
       "</table>\n",
       "<p>5 rows × 21 columns</p>\n",
       "</div>"
      ],
      "text/plain": [
       "   FONTOPLAMDEGER  TEDAVPAYSAYISI  KISISAYISI    FAIZ  DOLARFIYAT  \\\n",
       "0    8.722176e+07    4.350000e+06           0  0.2302      5.2905   \n",
       "1    1.238294e+07    7.000000e+05           0  0.2302      5.2905   \n",
       "2    1.491130e+07    4.800000e+05           0  0.2302      5.2905   \n",
       "3    1.465104e+09    6.335717e+10      325392  0.2302      5.2905   \n",
       "4    1.784293e+09    7.415738e+10      325460  0.2302      5.2905   \n",
       "\n",
       "      ALTINFIYAT      BB     DT     DB   DÖT  ...    FB  FKB  GAS   HB   HS  \\\n",
       "0  219270.871675  100.00   0.00   0.00  0.00  ...  0.00  0.0  0.0  0.0  0.0   \n",
       "1  219270.871675  100.00   0.00   0.00  0.00  ...  0.00  0.0  0.0  0.0  0.0   \n",
       "2  219270.871675   99.83   0.17   0.00  0.00  ...  0.00  0.0  0.0  0.0  0.0   \n",
       "3  219270.871675    1.01   3.44  85.25  3.07  ...  7.23  0.0  0.0  0.0  0.0   \n",
       "4  219270.871675    0.25  99.75   0.00  0.00  ...  0.00  0.0  0.0  0.0  0.0   \n",
       "\n",
       "   KBA  KKS   KH   KM  OSKS  \n",
       "0  0.0  0.0  0.0  0.0   0.0  \n",
       "1  0.0  0.0  0.0  0.0   0.0  \n",
       "2  0.0  0.0  0.0  0.0   0.0  \n",
       "3  0.0  0.0  0.0  0.0   0.0  \n",
       "4  0.0  0.0  0.0  0.0   0.0  \n",
       "\n",
       "[5 rows x 21 columns]"
      ]
     },
     "execution_count": 196,
     "metadata": {},
     "output_type": "execute_result"
    }
   ],
   "source": [
    "df_pls = df.copy()\n",
    "X_p = df_pls.drop(['TARIH','FONTIP','FONTUR','FON','FONFIYAT'], axis = 1)\n",
    "y_p = df_pls[\"FONFIYAT\"]\n",
    "\n",
    "X_train_p, X_test_p, y_train_p, y_test_p = train_test_split(X_p, y_p, test_size=0.25, random_state=42)\n",
    "\n",
    "X_p.head()"
   ]
  },
  {
   "cell_type": "code",
   "execution_count": 52,
   "metadata": {},
   "outputs": [],
   "source": [
    "from sklearn.cross_decomposition import PLSRegression, PLSSVD"
   ]
  },
  {
   "cell_type": "code",
   "execution_count": 53,
   "metadata": {},
   "outputs": [],
   "source": [
    "pls_model = PLSRegression().fit(X_train_p, y_train_p)"
   ]
  },
  {
   "cell_type": "code",
   "execution_count": 54,
   "metadata": {},
   "outputs": [
    {
     "data": {
      "text/plain": [
       "PLSRegression(copy=True, max_iter=500, n_components=2, scale=True, tol=1e-06)"
      ]
     },
     "execution_count": 54,
     "metadata": {},
     "output_type": "execute_result"
    }
   ],
   "source": [
    "pls_model"
   ]
  },
  {
   "cell_type": "code",
   "execution_count": 55,
   "metadata": {},
   "outputs": [
    {
     "data": {
      "text/plain": [
       "array([[ 8.84294439],\n",
       "       [-4.69831641],\n",
       "       [-3.03243924],\n",
       "       [ 0.0337065 ],\n",
       "       [-0.09314651],\n",
       "       [-0.02433704],\n",
       "       [-0.33800515],\n",
       "       [-0.31991584],\n",
       "       [-0.81996284],\n",
       "       [ 0.91092399],\n",
       "       [-0.09762054],\n",
       "       [ 1.74953948],\n",
       "       [ 2.26792273],\n",
       "       [ 1.19959689],\n",
       "       [-0.41431445],\n",
       "       [-1.57986807],\n",
       "       [-1.26811436],\n",
       "       [-0.8361369 ],\n",
       "       [-0.61910158],\n",
       "       [-0.24914284],\n",
       "       [-0.09490851]])"
      ]
     },
     "execution_count": 55,
     "metadata": {},
     "output_type": "execute_result"
    }
   ],
   "source": [
    "pls_model.coef_"
   ]
  },
  {
   "cell_type": "code",
   "execution_count": null,
   "metadata": {},
   "outputs": [],
   "source": []
  },
  {
   "cell_type": "markdown",
   "metadata": {},
   "source": [
    "### 2. Tahmin"
   ]
  },
  {
   "cell_type": "code",
   "execution_count": 56,
   "metadata": {},
   "outputs": [
    {
     "data": {
      "text/html": [
       "<div>\n",
       "<style scoped>\n",
       "    .dataframe tbody tr th:only-of-type {\n",
       "        vertical-align: middle;\n",
       "    }\n",
       "\n",
       "    .dataframe tbody tr th {\n",
       "        vertical-align: top;\n",
       "    }\n",
       "\n",
       "    .dataframe thead th {\n",
       "        text-align: right;\n",
       "    }\n",
       "</style>\n",
       "<table border=\"1\" class=\"dataframe\">\n",
       "  <thead>\n",
       "    <tr style=\"text-align: right;\">\n",
       "      <th></th>\n",
       "      <th>FONTOPLAMDEGER</th>\n",
       "      <th>TEDAVPAYSAYISI</th>\n",
       "      <th>KISISAYISI</th>\n",
       "      <th>FAIZ</th>\n",
       "      <th>DOLARFIYAT</th>\n",
       "      <th>ALTINFIYAT</th>\n",
       "      <th>BB</th>\n",
       "      <th>DT</th>\n",
       "      <th>DB</th>\n",
       "      <th>DÖT</th>\n",
       "      <th>...</th>\n",
       "      <th>FB</th>\n",
       "      <th>FKB</th>\n",
       "      <th>GAS</th>\n",
       "      <th>HB</th>\n",
       "      <th>HS</th>\n",
       "      <th>KBA</th>\n",
       "      <th>KKS</th>\n",
       "      <th>KH</th>\n",
       "      <th>KM</th>\n",
       "      <th>OSKS</th>\n",
       "    </tr>\n",
       "  </thead>\n",
       "  <tbody>\n",
       "    <tr>\n",
       "      <th>8849</th>\n",
       "      <td>1.657699e+09</td>\n",
       "      <td>1.160783e+11</td>\n",
       "      <td>884267</td>\n",
       "      <td>0.2397</td>\n",
       "      <td>5.3659</td>\n",
       "      <td>220120.171370</td>\n",
       "      <td>74.74</td>\n",
       "      <td>5.66</td>\n",
       "      <td>2.40</td>\n",
       "      <td>2.16</td>\n",
       "      <td>...</td>\n",
       "      <td>0.00</td>\n",
       "      <td>0.00</td>\n",
       "      <td>0.00</td>\n",
       "      <td>0.0</td>\n",
       "      <td>0.0</td>\n",
       "      <td>0.0</td>\n",
       "      <td>0.0</td>\n",
       "      <td>0.0</td>\n",
       "      <td>0.0</td>\n",
       "      <td>0.0</td>\n",
       "    </tr>\n",
       "    <tr>\n",
       "      <th>163827</th>\n",
       "      <td>4.799343e+07</td>\n",
       "      <td>9.098900e+08</td>\n",
       "      <td>1343</td>\n",
       "      <td>0.1340</td>\n",
       "      <td>5.7407</td>\n",
       "      <td>267789.139604</td>\n",
       "      <td>91.42</td>\n",
       "      <td>8.58</td>\n",
       "      <td>0.00</td>\n",
       "      <td>0.00</td>\n",
       "      <td>...</td>\n",
       "      <td>0.00</td>\n",
       "      <td>0.00</td>\n",
       "      <td>0.00</td>\n",
       "      <td>0.0</td>\n",
       "      <td>0.0</td>\n",
       "      <td>0.0</td>\n",
       "      <td>0.0</td>\n",
       "      <td>0.0</td>\n",
       "      <td>0.0</td>\n",
       "      <td>0.0</td>\n",
       "    </tr>\n",
       "    <tr>\n",
       "      <th>105936</th>\n",
       "      <td>1.455141e+04</td>\n",
       "      <td>1.272424e+06</td>\n",
       "      <td>19</td>\n",
       "      <td>0.1871</td>\n",
       "      <td>5.6373</td>\n",
       "      <td>253941.122346</td>\n",
       "      <td>100.00</td>\n",
       "      <td>0.00</td>\n",
       "      <td>0.00</td>\n",
       "      <td>0.00</td>\n",
       "      <td>...</td>\n",
       "      <td>0.00</td>\n",
       "      <td>0.00</td>\n",
       "      <td>0.00</td>\n",
       "      <td>0.0</td>\n",
       "      <td>0.0</td>\n",
       "      <td>0.0</td>\n",
       "      <td>0.0</td>\n",
       "      <td>0.0</td>\n",
       "      <td>0.0</td>\n",
       "      <td>0.0</td>\n",
       "    </tr>\n",
       "    <tr>\n",
       "      <th>58391</th>\n",
       "      <td>1.071578e+07</td>\n",
       "      <td>6.486888e+08</td>\n",
       "      <td>393</td>\n",
       "      <td>0.2464</td>\n",
       "      <td>5.8358</td>\n",
       "      <td>238523.314268</td>\n",
       "      <td>51.43</td>\n",
       "      <td>1.17</td>\n",
       "      <td>5.87</td>\n",
       "      <td>15.34</td>\n",
       "      <td>...</td>\n",
       "      <td>4.99</td>\n",
       "      <td>3.72</td>\n",
       "      <td>3.83</td>\n",
       "      <td>0.0</td>\n",
       "      <td>0.0</td>\n",
       "      <td>0.0</td>\n",
       "      <td>0.0</td>\n",
       "      <td>0.0</td>\n",
       "      <td>0.0</td>\n",
       "      <td>0.0</td>\n",
       "    </tr>\n",
       "    <tr>\n",
       "      <th>148392</th>\n",
       "      <td>3.461555e+06</td>\n",
       "      <td>2.825503e+06</td>\n",
       "      <td>14</td>\n",
       "      <td>0.1591</td>\n",
       "      <td>5.7794</td>\n",
       "      <td>275440.195419</td>\n",
       "      <td>86.11</td>\n",
       "      <td>13.12</td>\n",
       "      <td>0.77</td>\n",
       "      <td>0.00</td>\n",
       "      <td>...</td>\n",
       "      <td>0.00</td>\n",
       "      <td>0.00</td>\n",
       "      <td>0.00</td>\n",
       "      <td>0.0</td>\n",
       "      <td>0.0</td>\n",
       "      <td>0.0</td>\n",
       "      <td>0.0</td>\n",
       "      <td>0.0</td>\n",
       "      <td>0.0</td>\n",
       "      <td>0.0</td>\n",
       "    </tr>\n",
       "  </tbody>\n",
       "</table>\n",
       "<p>5 rows × 21 columns</p>\n",
       "</div>"
      ],
      "text/plain": [
       "        FONTOPLAMDEGER  TEDAVPAYSAYISI  KISISAYISI    FAIZ  DOLARFIYAT  \\\n",
       "8849      1.657699e+09    1.160783e+11      884267  0.2397      5.3659   \n",
       "163827    4.799343e+07    9.098900e+08        1343  0.1340      5.7407   \n",
       "105936    1.455141e+04    1.272424e+06          19  0.1871      5.6373   \n",
       "58391     1.071578e+07    6.486888e+08         393  0.2464      5.8358   \n",
       "148392    3.461555e+06    2.825503e+06          14  0.1591      5.7794   \n",
       "\n",
       "           ALTINFIYAT      BB     DT    DB    DÖT  ...    FB   FKB   GAS   HB  \\\n",
       "8849    220120.171370   74.74   5.66  2.40   2.16  ...  0.00  0.00  0.00  0.0   \n",
       "163827  267789.139604   91.42   8.58  0.00   0.00  ...  0.00  0.00  0.00  0.0   \n",
       "105936  253941.122346  100.00   0.00  0.00   0.00  ...  0.00  0.00  0.00  0.0   \n",
       "58391   238523.314268   51.43   1.17  5.87  15.34  ...  4.99  3.72  3.83  0.0   \n",
       "148392  275440.195419   86.11  13.12  0.77   0.00  ...  0.00  0.00  0.00  0.0   \n",
       "\n",
       "         HS  KBA  KKS   KH   KM  OSKS  \n",
       "8849    0.0  0.0  0.0  0.0  0.0   0.0  \n",
       "163827  0.0  0.0  0.0  0.0  0.0   0.0  \n",
       "105936  0.0  0.0  0.0  0.0  0.0   0.0  \n",
       "58391   0.0  0.0  0.0  0.0  0.0   0.0  \n",
       "148392  0.0  0.0  0.0  0.0  0.0   0.0  \n",
       "\n",
       "[5 rows x 21 columns]"
      ]
     },
     "execution_count": 56,
     "metadata": {},
     "output_type": "execute_result"
    }
   ],
   "source": [
    "X_train_p.head()"
   ]
  },
  {
   "cell_type": "code",
   "execution_count": 57,
   "metadata": {},
   "outputs": [
    {
     "data": {
      "text/plain": [
       "array([[-28.8404007 ],\n",
       "       [  2.21133592],\n",
       "       [  1.84275027],\n",
       "       [  6.35861314],\n",
       "       [  1.74496226],\n",
       "       [ -0.33705814],\n",
       "       [  1.23482564],\n",
       "       [  5.12738967],\n",
       "       [  2.65323171],\n",
       "       [  1.85581765]])"
      ]
     },
     "execution_count": 57,
     "metadata": {},
     "output_type": "execute_result"
    }
   ],
   "source": [
    "pls_model.predict(X_train_p)[0:10]"
   ]
  },
  {
   "cell_type": "code",
   "execution_count": 58,
   "metadata": {},
   "outputs": [],
   "source": [
    "y_pred_p = pls_model.predict(X_train_p)"
   ]
  },
  {
   "cell_type": "code",
   "execution_count": 59,
   "metadata": {},
   "outputs": [
    {
     "name": "stdout",
     "output_type": "stream",
     "text": [
      "MSE : 497.8090200774829\n",
      "RMSE : 22.31163418661849\n",
      "MAE : 7.099829131737095\n",
      "R2 : 0.1273657565331895\n"
     ]
    }
   ],
   "source": [
    "## eğitim seti ölçüm metrikleri\n",
    "print(\"MSE : \" + str(mean_squared_error(y_train_p, y_pred_p)))\n",
    "print(\"RMSE : \" + str(np.sqrt(mean_squared_error(y_train_p, y_pred_p))))\n",
    "print(\"MAE : \" + str(mean_absolute_error(y_train_p, y_pred_p)))\n",
    "print(\"R2 : \" + str(r2_score(y_train_p, y_pred_p)))"
   ]
  },
  {
   "cell_type": "code",
   "execution_count": 60,
   "metadata": {},
   "outputs": [],
   "source": [
    "y_pred_p = pls_model.predict(X_test_p)"
   ]
  },
  {
   "cell_type": "code",
   "execution_count": 61,
   "metadata": {},
   "outputs": [
    {
     "data": {
      "text/plain": [
       "array([[-6.25022993],\n",
       "       [ 2.17501986],\n",
       "       [-0.57015059],\n",
       "       [ 1.80754363],\n",
       "       [ 1.91782439],\n",
       "       [ 4.03021803],\n",
       "       [35.2174188 ],\n",
       "       [20.75324572],\n",
       "       [ 2.86377355],\n",
       "       [-1.5286896 ]])"
      ]
     },
     "execution_count": 61,
     "metadata": {},
     "output_type": "execute_result"
    }
   ],
   "source": [
    "pls_model.predict(X_test_p)[0:10]"
   ]
  },
  {
   "cell_type": "code",
   "execution_count": 62,
   "metadata": {},
   "outputs": [
    {
     "name": "stdout",
     "output_type": "stream",
     "text": [
      "MSE : 506.0252001342653\n",
      "RMSE : 22.495003892737277\n",
      "MAE : 7.119836719007614\n",
      "R2 : 0.13348626833437138\n"
     ]
    }
   ],
   "source": [
    "##test seti ölçüm metrikleri\n",
    "print(\"MSE : \" + str(mean_squared_error(y_test_p, y_pred_p)))\n",
    "print(\"RMSE : \" + str(np.sqrt(mean_squared_error(y_test_p, y_pred_p))))\n",
    "print(\"MAE : \" + str(mean_absolute_error(y_test_p, y_pred_p)))\n",
    "print(\"R2 : \" + str(r2_score(y_test_p, y_pred_p)))"
   ]
  },
  {
   "cell_type": "code",
   "execution_count": null,
   "metadata": {},
   "outputs": [],
   "source": []
  },
  {
   "cell_type": "markdown",
   "metadata": {},
   "source": [
    "### 3. Model Tuning"
   ]
  },
  {
   "cell_type": "code",
   "execution_count": 63,
   "metadata": {},
   "outputs": [
    {
     "data": {
      "image/png": "[encoded data removed]",
      "text/plain": [
       "<Figure size 432x288 with 1 Axes>"
      ]
     },
     "metadata": {
      "needs_background": "light"
     },
     "output_type": "display_data"
    }
   ],
   "source": [
    "#CV\n",
    "cv_10 = model_selection.KFold(n_splits=10, shuffle=True, random_state=1)\n",
    "\n",
    "\n",
    "#Hata hesaplamak için döngü\n",
    "RMSE = []\n",
    "\n",
    "for i in np.arange(1, X_train_p.shape[1] + 1):\n",
    "    pls = PLSRegression(n_components=i)\n",
    "    score = np.sqrt(-1*cross_val_score(pls, X_train_p, y_train_p, cv=cv_10, scoring='neg_mean_squared_error').mean())\n",
    "    RMSE.append(score)\n",
    "\n",
    "#Sonuçların Görselleştirilmesi\n",
    "plt.plot(np.arange(1, X_train_p.shape[1] + 1), np.array(RMSE), '-v', c = \"r\")\n",
    "plt.xlabel('Bileşen Sayısı')\n",
    "plt.ylabel('RMSE')\n",
    "plt.title('FONFIYAT');"
   ]
  },
  {
   "cell_type": "code",
   "execution_count": 68,
   "metadata": {},
   "outputs": [],
   "source": [
    "pls_model = PLSRegression(n_components = 6).fit(X_train_p, y_train_p)"
   ]
  },
  {
   "cell_type": "code",
   "execution_count": 69,
   "metadata": {},
   "outputs": [],
   "source": [
    "y_pred_p = pls_model.predict(X_test_p)"
   ]
  },
  {
   "cell_type": "code",
   "execution_count": 70,
   "metadata": {},
   "outputs": [
    {
     "name": "stdout",
     "output_type": "stream",
     "text": [
      "MSE : 497.0027614702058\n",
      "RMSE : 22.29355874395575\n",
      "MAE : 6.705839394559914\n",
      "R2 : 0.14893622417341656\n"
     ]
    }
   ],
   "source": [
    "##tuning ölçüm metrikleri\n",
    "print(\"MSE : \" + str(mean_squared_error(y_test_p, y_pred_p)))\n",
    "print(\"RMSE : \" + str(np.sqrt(mean_squared_error(y_test_p, y_pred_p))))\n",
    "print(\"MAE : \" + str(mean_absolute_error(y_test_p, y_pred_p)))\n",
    "print(\"R2 : \" + str(r2_score(y_test_p, y_pred_p)))"
   ]
  },
  {
   "cell_type": "code",
   "execution_count": 90,
   "metadata": {},
   "outputs": [
    {
     "data": {
      "text/html": [
       "<div>\n",
       "<style scoped>\n",
       "    .dataframe tbody tr th:only-of-type {\n",
       "        vertical-align: middle;\n",
       "    }\n",
       "\n",
       "    .dataframe tbody tr th {\n",
       "        vertical-align: top;\n",
       "    }\n",
       "\n",
       "    .dataframe thead th {\n",
       "        text-align: right;\n",
       "    }\n",
       "</style>\n",
       "<table border=\"1\" class=\"dataframe\">\n",
       "  <thead>\n",
       "    <tr style=\"text-align: right;\">\n",
       "      <th></th>\n",
       "      <th>gercek_y</th>\n",
       "      <th>tahmin_y</th>\n",
       "    </tr>\n",
       "  </thead>\n",
       "  <tbody>\n",
       "    <tr>\n",
       "      <th>0</th>\n",
       "      <td>0.014752</td>\n",
       "      <td>-2.644713</td>\n",
       "    </tr>\n",
       "    <tr>\n",
       "      <th>1</th>\n",
       "      <td>0.017748</td>\n",
       "      <td>1.440244</td>\n",
       "    </tr>\n",
       "    <tr>\n",
       "      <th>2</th>\n",
       "      <td>0.012467</td>\n",
       "      <td>-0.117848</td>\n",
       "    </tr>\n",
       "    <tr>\n",
       "      <th>3</th>\n",
       "      <td>0.097104</td>\n",
       "      <td>2.057132</td>\n",
       "    </tr>\n",
       "    <tr>\n",
       "      <th>4</th>\n",
       "      <td>1.338321</td>\n",
       "      <td>1.801410</td>\n",
       "    </tr>\n",
       "    <tr>\n",
       "      <th>...</th>\n",
       "      <td>...</td>\n",
       "      <td>...</td>\n",
       "    </tr>\n",
       "    <tr>\n",
       "      <th>46855</th>\n",
       "      <td>0.023754</td>\n",
       "      <td>1.490097</td>\n",
       "    </tr>\n",
       "    <tr>\n",
       "      <th>46856</th>\n",
       "      <td>6.205139</td>\n",
       "      <td>11.316578</td>\n",
       "    </tr>\n",
       "    <tr>\n",
       "      <th>46857</th>\n",
       "      <td>1.059966</td>\n",
       "      <td>2.254062</td>\n",
       "    </tr>\n",
       "    <tr>\n",
       "      <th>46858</th>\n",
       "      <td>0.059106</td>\n",
       "      <td>1.912794</td>\n",
       "    </tr>\n",
       "    <tr>\n",
       "      <th>46859</th>\n",
       "      <td>1.712252</td>\n",
       "      <td>4.262205</td>\n",
       "    </tr>\n",
       "  </tbody>\n",
       "</table>\n",
       "<p>46860 rows × 2 columns</p>\n",
       "</div>"
      ],
      "text/plain": [
       "       gercek_y   tahmin_y\n",
       "0      0.014752  -2.644713\n",
       "1      0.017748   1.440244\n",
       "2      0.012467  -0.117848\n",
       "3      0.097104   2.057132\n",
       "4      1.338321   1.801410\n",
       "...         ...        ...\n",
       "46855  0.023754   1.490097\n",
       "46856  6.205139  11.316578\n",
       "46857  1.059966   2.254062\n",
       "46858  0.059106   1.912794\n",
       "46859  1.712252   4.262205\n",
       "\n",
       "[46860 rows x 2 columns]"
      ]
     },
     "execution_count": 90,
     "metadata": {},
     "output_type": "execute_result"
    }
   ],
   "source": [
    "## tahmin değeri ile gerçek değer karşılaştırma tablosu\n",
    "k_t_p=pd.DataFrame({\"gercek_y\": y_test_p.values.reshape(-1),\n",
    "                    \"tahmin_y\": y_pred_p.reshape(-1)})\n",
    "k_t_p"
   ]
  },
  {
   "cell_type": "code",
   "execution_count": 91,
   "metadata": {},
   "outputs": [
    {
     "data": {
      "text/html": [
       "<div>\n",
       "<style scoped>\n",
       "    .dataframe tbody tr th:only-of-type {\n",
       "        vertical-align: middle;\n",
       "    }\n",
       "\n",
       "    .dataframe tbody tr th {\n",
       "        vertical-align: top;\n",
       "    }\n",
       "\n",
       "    .dataframe thead th {\n",
       "        text-align: right;\n",
       "    }\n",
       "</style>\n",
       "<table border=\"1\" class=\"dataframe\">\n",
       "  <thead>\n",
       "    <tr style=\"text-align: right;\">\n",
       "      <th></th>\n",
       "      <th>gercek_y</th>\n",
       "      <th>tahmin_y</th>\n",
       "      <th>hata</th>\n",
       "      <th>hata_kare</th>\n",
       "    </tr>\n",
       "  </thead>\n",
       "  <tbody>\n",
       "    <tr>\n",
       "      <th>0</th>\n",
       "      <td>0.014752</td>\n",
       "      <td>-2.644713</td>\n",
       "      <td>2.659465</td>\n",
       "      <td>7.072757</td>\n",
       "    </tr>\n",
       "    <tr>\n",
       "      <th>1</th>\n",
       "      <td>0.017748</td>\n",
       "      <td>1.440244</td>\n",
       "      <td>-1.422496</td>\n",
       "      <td>2.023495</td>\n",
       "    </tr>\n",
       "    <tr>\n",
       "      <th>2</th>\n",
       "      <td>0.012467</td>\n",
       "      <td>-0.117848</td>\n",
       "      <td>0.130315</td>\n",
       "      <td>0.016982</td>\n",
       "    </tr>\n",
       "    <tr>\n",
       "      <th>3</th>\n",
       "      <td>0.097104</td>\n",
       "      <td>2.057132</td>\n",
       "      <td>-1.960028</td>\n",
       "      <td>3.841711</td>\n",
       "    </tr>\n",
       "    <tr>\n",
       "      <th>4</th>\n",
       "      <td>1.338321</td>\n",
       "      <td>1.801410</td>\n",
       "      <td>-0.463089</td>\n",
       "      <td>0.214451</td>\n",
       "    </tr>\n",
       "    <tr>\n",
       "      <th>...</th>\n",
       "      <td>...</td>\n",
       "      <td>...</td>\n",
       "      <td>...</td>\n",
       "      <td>...</td>\n",
       "    </tr>\n",
       "    <tr>\n",
       "      <th>46855</th>\n",
       "      <td>0.023754</td>\n",
       "      <td>1.490097</td>\n",
       "      <td>-1.466343</td>\n",
       "      <td>2.150163</td>\n",
       "    </tr>\n",
       "    <tr>\n",
       "      <th>46856</th>\n",
       "      <td>6.205139</td>\n",
       "      <td>11.316578</td>\n",
       "      <td>-5.111439</td>\n",
       "      <td>26.126811</td>\n",
       "    </tr>\n",
       "    <tr>\n",
       "      <th>46857</th>\n",
       "      <td>1.059966</td>\n",
       "      <td>2.254062</td>\n",
       "      <td>-1.194096</td>\n",
       "      <td>1.425866</td>\n",
       "    </tr>\n",
       "    <tr>\n",
       "      <th>46858</th>\n",
       "      <td>0.059106</td>\n",
       "      <td>1.912794</td>\n",
       "      <td>-1.853688</td>\n",
       "      <td>3.436158</td>\n",
       "    </tr>\n",
       "    <tr>\n",
       "      <th>46859</th>\n",
       "      <td>1.712252</td>\n",
       "      <td>4.262205</td>\n",
       "      <td>-2.549953</td>\n",
       "      <td>6.502259</td>\n",
       "    </tr>\n",
       "  </tbody>\n",
       "</table>\n",
       "<p>46860 rows × 4 columns</p>\n",
       "</div>"
      ],
      "text/plain": [
       "       gercek_y   tahmin_y      hata  hata_kare\n",
       "0      0.014752  -2.644713  2.659465   7.072757\n",
       "1      0.017748   1.440244 -1.422496   2.023495\n",
       "2      0.012467  -0.117848  0.130315   0.016982\n",
       "3      0.097104   2.057132 -1.960028   3.841711\n",
       "4      1.338321   1.801410 -0.463089   0.214451\n",
       "...         ...        ...       ...        ...\n",
       "46855  0.023754   1.490097 -1.466343   2.150163\n",
       "46856  6.205139  11.316578 -5.111439  26.126811\n",
       "46857  1.059966   2.254062 -1.194096   1.425866\n",
       "46858  0.059106   1.912794 -1.853688   3.436158\n",
       "46859  1.712252   4.262205 -2.549953   6.502259\n",
       "\n",
       "[46860 rows x 4 columns]"
      ]
     },
     "execution_count": 91,
     "metadata": {},
     "output_type": "execute_result"
    }
   ],
   "source": [
    "k_t_p[\"hata\"] = k_t_p[\"gercek_y\"] - k_t_p[\"tahmin_y\"]\n",
    "k_t_p[\"hata_kare\"] = k_t_p[\"hata\"]**2\n",
    "k_t_p"
   ]
  },
  {
   "cell_type": "code",
   "execution_count": 92,
   "metadata": {},
   "outputs": [
    {
     "name": "stdout",
     "output_type": "stream",
     "text": [
      "karsilastirma tab MSE : 497.00276147020696\n",
      "karsilastirma tab RMSE : 22.293558743955774\n"
     ]
    }
   ],
   "source": [
    "print(\"karsilastirma tab MSE : \" + str(np.mean(k_t_p[\"hata_kare\"])))\n",
    "print(\"karsilastirma tab RMSE : \" + str(np.sqrt(np.mean(k_t_p[\"hata_kare\"]))))"
   ]
  },
  {
   "cell_type": "code",
   "execution_count": 125,
   "metadata": {},
   "outputs": [
    {
     "data": {
      "image/png": "[encoded data removed]",
      "text/plain": [
       "<Figure size 432x288 with 1 Axes>"
      ]
     },
     "metadata": {
      "needs_background": "light"
     },
     "output_type": "display_data"
    }
   ],
   "source": [
    "plt.plot(k_t_p[\"hata\"])\n",
    "plt.xlabel('Bağımlı Değişken (y) Sayısı')\n",
    "plt.ylabel('Artık değerler (gerçek_y - tahmin_y)')\n",
    "plt.title('PLSR Model Hata Değerlerinin Dağılımı');"
   ]
  },
  {
   "cell_type": "code",
   "execution_count": null,
   "metadata": {},
   "outputs": [],
   "source": []
  },
  {
   "cell_type": "code",
   "execution_count": null,
   "metadata": {},
   "outputs": [],
   "source": []
  },
  {
   "cell_type": "markdown",
   "metadata": {},
   "source": [
    "## Ridge Regresyon ile Model Gelistirme\n",
    "### 1. Model"
   ]
  },
  {
   "cell_type": "code",
   "execution_count": 94,
   "metadata": {},
   "outputs": [
    {
     "data": {
      "text/html": [
       "<div>\n",
       "<style scoped>\n",
       "    .dataframe tbody tr th:only-of-type {\n",
       "        vertical-align: middle;\n",
       "    }\n",
       "\n",
       "    .dataframe tbody tr th {\n",
       "        vertical-align: top;\n",
       "    }\n",
       "\n",
       "    .dataframe thead th {\n",
       "        text-align: right;\n",
       "    }\n",
       "</style>\n",
       "<table border=\"1\" class=\"dataframe\">\n",
       "  <thead>\n",
       "    <tr style=\"text-align: right;\">\n",
       "      <th></th>\n",
       "      <th>FONTOPLAMDEGER</th>\n",
       "      <th>TEDAVPAYSAYISI</th>\n",
       "      <th>KISISAYISI</th>\n",
       "      <th>FAIZ</th>\n",
       "      <th>DOLARFIYAT</th>\n",
       "      <th>ALTINFIYAT</th>\n",
       "      <th>BB</th>\n",
       "      <th>DT</th>\n",
       "      <th>DB</th>\n",
       "      <th>DÖT</th>\n",
       "      <th>...</th>\n",
       "      <th>FB</th>\n",
       "      <th>FKB</th>\n",
       "      <th>GAS</th>\n",
       "      <th>HB</th>\n",
       "      <th>HS</th>\n",
       "      <th>KBA</th>\n",
       "      <th>KKS</th>\n",
       "      <th>KH</th>\n",
       "      <th>KM</th>\n",
       "      <th>OSKS</th>\n",
       "    </tr>\n",
       "  </thead>\n",
       "  <tbody>\n",
       "    <tr>\n",
       "      <th>0</th>\n",
       "      <td>8.722176e+07</td>\n",
       "      <td>4.350000e+06</td>\n",
       "      <td>0</td>\n",
       "      <td>0.2302</td>\n",
       "      <td>5.2905</td>\n",
       "      <td>219270.871675</td>\n",
       "      <td>100.00</td>\n",
       "      <td>0.00</td>\n",
       "      <td>0.00</td>\n",
       "      <td>0.00</td>\n",
       "      <td>...</td>\n",
       "      <td>0.00</td>\n",
       "      <td>0.0</td>\n",
       "      <td>0.0</td>\n",
       "      <td>0.0</td>\n",
       "      <td>0.0</td>\n",
       "      <td>0.0</td>\n",
       "      <td>0.0</td>\n",
       "      <td>0.0</td>\n",
       "      <td>0.0</td>\n",
       "      <td>0.0</td>\n",
       "    </tr>\n",
       "    <tr>\n",
       "      <th>1</th>\n",
       "      <td>1.238294e+07</td>\n",
       "      <td>7.000000e+05</td>\n",
       "      <td>0</td>\n",
       "      <td>0.2302</td>\n",
       "      <td>5.2905</td>\n",
       "      <td>219270.871675</td>\n",
       "      <td>100.00</td>\n",
       "      <td>0.00</td>\n",
       "      <td>0.00</td>\n",
       "      <td>0.00</td>\n",
       "      <td>...</td>\n",
       "      <td>0.00</td>\n",
       "      <td>0.0</td>\n",
       "      <td>0.0</td>\n",
       "      <td>0.0</td>\n",
       "      <td>0.0</td>\n",
       "      <td>0.0</td>\n",
       "      <td>0.0</td>\n",
       "      <td>0.0</td>\n",
       "      <td>0.0</td>\n",
       "      <td>0.0</td>\n",
       "    </tr>\n",
       "    <tr>\n",
       "      <th>2</th>\n",
       "      <td>1.491130e+07</td>\n",
       "      <td>4.800000e+05</td>\n",
       "      <td>0</td>\n",
       "      <td>0.2302</td>\n",
       "      <td>5.2905</td>\n",
       "      <td>219270.871675</td>\n",
       "      <td>99.83</td>\n",
       "      <td>0.17</td>\n",
       "      <td>0.00</td>\n",
       "      <td>0.00</td>\n",
       "      <td>...</td>\n",
       "      <td>0.00</td>\n",
       "      <td>0.0</td>\n",
       "      <td>0.0</td>\n",
       "      <td>0.0</td>\n",
       "      <td>0.0</td>\n",
       "      <td>0.0</td>\n",
       "      <td>0.0</td>\n",
       "      <td>0.0</td>\n",
       "      <td>0.0</td>\n",
       "      <td>0.0</td>\n",
       "    </tr>\n",
       "    <tr>\n",
       "      <th>3</th>\n",
       "      <td>1.465104e+09</td>\n",
       "      <td>6.335717e+10</td>\n",
       "      <td>325392</td>\n",
       "      <td>0.2302</td>\n",
       "      <td>5.2905</td>\n",
       "      <td>219270.871675</td>\n",
       "      <td>1.01</td>\n",
       "      <td>3.44</td>\n",
       "      <td>85.25</td>\n",
       "      <td>3.07</td>\n",
       "      <td>...</td>\n",
       "      <td>7.23</td>\n",
       "      <td>0.0</td>\n",
       "      <td>0.0</td>\n",
       "      <td>0.0</td>\n",
       "      <td>0.0</td>\n",
       "      <td>0.0</td>\n",
       "      <td>0.0</td>\n",
       "      <td>0.0</td>\n",
       "      <td>0.0</td>\n",
       "      <td>0.0</td>\n",
       "    </tr>\n",
       "    <tr>\n",
       "      <th>4</th>\n",
       "      <td>1.784293e+09</td>\n",
       "      <td>7.415738e+10</td>\n",
       "      <td>325460</td>\n",
       "      <td>0.2302</td>\n",
       "      <td>5.2905</td>\n",
       "      <td>219270.871675</td>\n",
       "      <td>0.25</td>\n",
       "      <td>99.75</td>\n",
       "      <td>0.00</td>\n",
       "      <td>0.00</td>\n",
       "      <td>...</td>\n",
       "      <td>0.00</td>\n",
       "      <td>0.0</td>\n",
       "      <td>0.0</td>\n",
       "      <td>0.0</td>\n",
       "      <td>0.0</td>\n",
       "      <td>0.0</td>\n",
       "      <td>0.0</td>\n",
       "      <td>0.0</td>\n",
       "      <td>0.0</td>\n",
       "      <td>0.0</td>\n",
       "    </tr>\n",
       "  </tbody>\n",
       "</table>\n",
       "<p>5 rows × 21 columns</p>\n",
       "</div>"
      ],
      "text/plain": [
       "   FONTOPLAMDEGER  TEDAVPAYSAYISI  KISISAYISI    FAIZ  DOLARFIYAT  \\\n",
       "0    8.722176e+07    4.350000e+06           0  0.2302      5.2905   \n",
       "1    1.238294e+07    7.000000e+05           0  0.2302      5.2905   \n",
       "2    1.491130e+07    4.800000e+05           0  0.2302      5.2905   \n",
       "3    1.465104e+09    6.335717e+10      325392  0.2302      5.2905   \n",
       "4    1.784293e+09    7.415738e+10      325460  0.2302      5.2905   \n",
       "\n",
       "      ALTINFIYAT      BB     DT     DB   DÖT  ...    FB  FKB  GAS   HB   HS  \\\n",
       "0  219270.871675  100.00   0.00   0.00  0.00  ...  0.00  0.0  0.0  0.0  0.0   \n",
       "1  219270.871675  100.00   0.00   0.00  0.00  ...  0.00  0.0  0.0  0.0  0.0   \n",
       "2  219270.871675   99.83   0.17   0.00  0.00  ...  0.00  0.0  0.0  0.0  0.0   \n",
       "3  219270.871675    1.01   3.44  85.25  3.07  ...  7.23  0.0  0.0  0.0  0.0   \n",
       "4  219270.871675    0.25  99.75   0.00  0.00  ...  0.00  0.0  0.0  0.0  0.0   \n",
       "\n",
       "   KBA  KKS   KH   KM  OSKS  \n",
       "0  0.0  0.0  0.0  0.0   0.0  \n",
       "1  0.0  0.0  0.0  0.0   0.0  \n",
       "2  0.0  0.0  0.0  0.0   0.0  \n",
       "3  0.0  0.0  0.0  0.0   0.0  \n",
       "4  0.0  0.0  0.0  0.0   0.0  \n",
       "\n",
       "[5 rows x 21 columns]"
      ]
     },
     "execution_count": 94,
     "metadata": {},
     "output_type": "execute_result"
    }
   ],
   "source": [
    "df_rge = df.copy()\n",
    "X_r = df_rge.drop(['TARIH','FONTIP','FONTUR','FON','FONFIYAT'], axis = 1)\n",
    "y_r = df_rge[\"FONFIYAT\"]\n",
    "\n",
    "X_train_r, X_test_r, y_train_r, y_test_r = train_test_split(X_r, y_r, test_size=0.25, random_state=42)\n",
    "\n",
    "X_r.head()"
   ]
  },
  {
   "cell_type": "code",
   "execution_count": 95,
   "metadata": {},
   "outputs": [],
   "source": [
    "from sklearn.linear_model import Ridge"
   ]
  },
  {
   "cell_type": "code",
   "execution_count": 96,
   "metadata": {},
   "outputs": [],
   "source": [
    "ridge_model = Ridge(alpha = 0.1).fit(X_train_r, y_train_r)"
   ]
  },
  {
   "cell_type": "code",
   "execution_count": 97,
   "metadata": {},
   "outputs": [
    {
     "data": {
      "text/plain": [
       "Ridge(alpha=0.1, copy_X=True, fit_intercept=True, max_iter=None,\n",
       "      normalize=False, random_state=None, solver='auto', tol=0.001)"
      ]
     },
     "execution_count": 97,
     "metadata": {},
     "output_type": "execute_result"
    }
   ],
   "source": [
    "ridge_model"
   ]
  },
  {
   "cell_type": "code",
   "execution_count": 98,
   "metadata": {},
   "outputs": [
    {
     "data": {
      "text/plain": [
       "array([ 1.99548506e-08, -4.36501444e-10, -1.01864979e-05,  5.33789312e+00,\n",
       "       -6.33703278e-01,  2.45254214e-06, -1.37536605e-03, -1.26321075e-02,\n",
       "       -2.43176494e-02,  3.68163153e-02, -1.56943704e-02,  1.05959126e-01,\n",
       "        2.52256301e-01,  1.04918931e-01, -1.40978035e-01, -3.76084541e-01,\n",
       "       -8.49985257e-01, -1.04985067e+00, -4.80938207e+00,  5.91301679e-01,\n",
       "       -1.93941104e+01])"
      ]
     },
     "execution_count": 98,
     "metadata": {},
     "output_type": "execute_result"
    }
   ],
   "source": [
    "ridge_model.coef_"
   ]
  },
  {
   "cell_type": "code",
   "execution_count": 99,
   "metadata": {},
   "outputs": [
    {
     "data": {
      "text/plain": [
       "array([5.00000000e+09, 3.78231664e+09, 2.86118383e+09, 2.16438064e+09,\n",
       "       1.63727458e+09, 1.23853818e+09, 9.36908711e+08, 7.08737081e+08,\n",
       "       5.36133611e+08, 4.05565415e+08, 3.06795364e+08, 2.32079442e+08,\n",
       "       1.75559587e+08, 1.32804389e+08, 1.00461650e+08, 7.59955541e+07,\n",
       "       5.74878498e+07, 4.34874501e+07, 3.28966612e+07, 2.48851178e+07,\n",
       "       1.88246790e+07, 1.42401793e+07, 1.07721735e+07, 8.14875417e+06,\n",
       "       6.16423370e+06, 4.66301673e+06, 3.52740116e+06, 2.66834962e+06,\n",
       "       2.01850863e+06, 1.52692775e+06, 1.15506485e+06, 8.73764200e+05,\n",
       "       6.60970574e+05, 5.00000000e+05, 3.78231664e+05, 2.86118383e+05,\n",
       "       2.16438064e+05, 1.63727458e+05, 1.23853818e+05, 9.36908711e+04,\n",
       "       7.08737081e+04, 5.36133611e+04, 4.05565415e+04, 3.06795364e+04,\n",
       "       2.32079442e+04, 1.75559587e+04, 1.32804389e+04, 1.00461650e+04,\n",
       "       7.59955541e+03, 5.74878498e+03, 4.34874501e+03, 3.28966612e+03,\n",
       "       2.48851178e+03, 1.88246790e+03, 1.42401793e+03, 1.07721735e+03,\n",
       "       8.14875417e+02, 6.16423370e+02, 4.66301673e+02, 3.52740116e+02,\n",
       "       2.66834962e+02, 2.01850863e+02, 1.52692775e+02, 1.15506485e+02,\n",
       "       8.73764200e+01, 6.60970574e+01, 5.00000000e+01, 3.78231664e+01,\n",
       "       2.86118383e+01, 2.16438064e+01, 1.63727458e+01, 1.23853818e+01,\n",
       "       9.36908711e+00, 7.08737081e+00, 5.36133611e+00, 4.05565415e+00,\n",
       "       3.06795364e+00, 2.32079442e+00, 1.75559587e+00, 1.32804389e+00,\n",
       "       1.00461650e+00, 7.59955541e-01, 5.74878498e-01, 4.34874501e-01,\n",
       "       3.28966612e-01, 2.48851178e-01, 1.88246790e-01, 1.42401793e-01,\n",
       "       1.07721735e-01, 8.14875417e-02, 6.16423370e-02, 4.66301673e-02,\n",
       "       3.52740116e-02, 2.66834962e-02, 2.01850863e-02, 1.52692775e-02,\n",
       "       1.15506485e-02, 8.73764200e-03, 6.60970574e-03, 5.00000000e-03])"
      ]
     },
     "execution_count": 99,
     "metadata": {},
     "output_type": "execute_result"
    }
   ],
   "source": [
    "10**np.linspace(10,-2,100)*0.5 "
   ]
  },
  {
   "cell_type": "code",
   "execution_count": 100,
   "metadata": {},
   "outputs": [
    {
     "data": {
      "image/png": "[encoded data removed]",
      "text/plain": [
       "<Figure size 432x288 with 1 Axes>"
      ]
     },
     "metadata": {
      "needs_background": "light"
     },
     "output_type": "display_data"
    }
   ],
   "source": [
    "lambdalar = 10**np.linspace(10,-2,100)*0.5 \n",
    "\n",
    "ridge_model = Ridge()\n",
    "katsayilar = []\n",
    "\n",
    "for i in lambdalar:\n",
    "    ridge_model.set_params(alpha = i)\n",
    "    ridge_model.fit(X_train_r, y_train_r) \n",
    "    katsayilar.append(ridge_model.coef_) \n",
    "    \n",
    "\n",
    "    \n",
    "ax = plt.gca()\n",
    "ax.plot(lambdalar, katsayilar) \n",
    "ax.set_xscale('log') \n",
    "\n",
    "plt.xlabel('Lambda(Alpha) Değerleri')\n",
    "plt.ylabel('Katsayılar/Ağırlıklar')\n",
    "plt.title('Düzenlileştirmenin Bir Fonksiyonu Olarak Ridge Katsayıları');"
   ]
  },
  {
   "cell_type": "markdown",
   "metadata": {},
   "source": [
    "### 2. Tahmin"
   ]
  },
  {
   "cell_type": "code",
   "execution_count": 101,
   "metadata": {},
   "outputs": [],
   "source": [
    "y_pred_r = ridge_model.predict(X_train_r)"
   ]
  },
  {
   "cell_type": "code",
   "execution_count": 53,
   "metadata": {},
   "outputs": [
    {
     "data": {
      "text/plain": [
       "array([-24.29853032,   2.31480843,   2.17923683, ...,   1.45078446,\n",
       "         1.44658209,   2.73224547])"
      ]
     },
     "execution_count": 53,
     "metadata": {},
     "output_type": "execute_result"
    }
   ],
   "source": [
    "y_pred_r"
   ]
  },
  {
   "cell_type": "code",
   "execution_count": 102,
   "metadata": {},
   "outputs": [
    {
     "name": "stdout",
     "output_type": "stream",
     "text": [
      "MSE : 489.71681475048916\n",
      "RMSE : 22.12954619395728\n",
      "MAE : 6.685656583569678\n",
      "R2 : 0.1415509865886838\n"
     ]
    }
   ],
   "source": [
    "## eğitim seti ölçüm metrikleri\n",
    "print(\"MSE : \" + str(mean_squared_error(y_train_r, y_pred_r)))\n",
    "print(\"RMSE : \" + str(np.sqrt(mean_squared_error(y_train_r, y_pred_r))))\n",
    "print(\"MAE : \" + str(mean_absolute_error(y_train_r, y_pred_r)))\n",
    "print(\"R2 : \" + str(r2_score(y_train_r, y_pred_r)))"
   ]
  },
  {
   "cell_type": "code",
   "execution_count": 103,
   "metadata": {},
   "outputs": [],
   "source": [
    "y_pred_r = ridge_model.predict(X_test_r)"
   ]
  },
  {
   "cell_type": "code",
   "execution_count": 104,
   "metadata": {},
   "outputs": [
    {
     "data": {
      "text/plain": [
       "array([-2.61365375,  1.48390672, -0.04079985, ...,  2.31573737,\n",
       "        1.94616457,  4.00909808])"
      ]
     },
     "execution_count": 104,
     "metadata": {},
     "output_type": "execute_result"
    }
   ],
   "source": [
    "y_pred_r"
   ]
  },
  {
   "cell_type": "code",
   "execution_count": 105,
   "metadata": {},
   "outputs": [
    {
     "name": "stdout",
     "output_type": "stream",
     "text": [
      "MSE : 496.9772456519872\n",
      "RMSE : 22.292986467765758\n",
      "MAE : 6.706254687410646\n",
      "R2 : 0.14897991726786186\n"
     ]
    }
   ],
   "source": [
    "##test seti ölçüm metrikleri\n",
    "print(\"MSE : \" + str(mean_squared_error(y_test_r, y_pred_r)))\n",
    "print(\"RMSE : \" + str(np.sqrt(mean_squared_error(y_test_r, y_pred_r))))\n",
    "print(\"MAE : \" + str(mean_absolute_error(y_test_r, y_pred_r)))\n",
    "print(\"R2 : \" + str(r2_score(y_test_r, y_pred_r)))"
   ]
  },
  {
   "cell_type": "code",
   "execution_count": null,
   "metadata": {},
   "outputs": [],
   "source": []
  },
  {
   "cell_type": "markdown",
   "metadata": {},
   "source": [
    "### 3. Model Tuning"
   ]
  },
  {
   "cell_type": "code",
   "execution_count": 106,
   "metadata": {},
   "outputs": [],
   "source": [
    "lambdalar = 10**np.linspace(10,-2,100)*0.5 "
   ]
  },
  {
   "cell_type": "code",
   "execution_count": 107,
   "metadata": {},
   "outputs": [
    {
     "data": {
      "text/plain": [
       "array([5.00000000e+09, 3.78231664e+09, 2.86118383e+09, 2.16438064e+09,\n",
       "       1.63727458e+09])"
      ]
     },
     "execution_count": 107,
     "metadata": {},
     "output_type": "execute_result"
    }
   ],
   "source": [
    "lambdalar[0:5]"
   ]
  },
  {
   "cell_type": "code",
   "execution_count": 108,
   "metadata": {},
   "outputs": [],
   "source": [
    "from sklearn.linear_model import RidgeCV\n",
    "ridge_cv = RidgeCV(alphas = lambdalar, \n",
    "                   scoring = \"neg_mean_squared_error\",\n",
    "                   normalize = True)"
   ]
  },
  {
   "cell_type": "code",
   "execution_count": 109,
   "metadata": {},
   "outputs": [
    {
     "data": {
      "text/plain": [
       "RidgeCV(alphas=array([5.00000000e+09, 3.78231664e+09, 2.86118383e+09, 2.16438064e+09,\n",
       "       1.63727458e+09, 1.23853818e+09, 9.36908711e+08, 7.08737081e+08,\n",
       "       5.36133611e+08, 4.05565415e+08, 3.06795364e+08, 2.32079442e+08,\n",
       "       1.75559587e+08, 1.32804389e+08, 1.00461650e+08, 7.59955541e+07,\n",
       "       5.74878498e+07, 4.34874501e+07, 3.28966612e+07, 2.48851178e+07,\n",
       "       1.88246790e+07, 1.42401793e+0...\n",
       "       3.28966612e-01, 2.48851178e-01, 1.88246790e-01, 1.42401793e-01,\n",
       "       1.07721735e-01, 8.14875417e-02, 6.16423370e-02, 4.66301673e-02,\n",
       "       3.52740116e-02, 2.66834962e-02, 2.01850863e-02, 1.52692775e-02,\n",
       "       1.15506485e-02, 8.73764200e-03, 6.60970574e-03, 5.00000000e-03]),\n",
       "        cv=None, fit_intercept=True, gcv_mode=None, normalize=True,\n",
       "        scoring='neg_mean_squared_error', store_cv_values=False)"
      ]
     },
     "execution_count": 109,
     "metadata": {},
     "output_type": "execute_result"
    }
   ],
   "source": [
    "ridge_cv.fit(X_train_r, y_train_r)"
   ]
  },
  {
   "cell_type": "code",
   "execution_count": 110,
   "metadata": {},
   "outputs": [
    {
     "data": {
      "text/plain": [
       "0.005"
      ]
     },
     "execution_count": 110,
     "metadata": {},
     "output_type": "execute_result"
    }
   ],
   "source": [
    "ridge_cv.alpha_"
   ]
  },
  {
   "cell_type": "code",
   "execution_count": 111,
   "metadata": {},
   "outputs": [],
   "source": [
    "ridge_tuned = Ridge(alpha = ridge_cv.alpha_, \n",
    "                   normalize = True).fit(X_train_r,y_train_r)"
   ]
  },
  {
   "cell_type": "code",
   "execution_count": 112,
   "metadata": {},
   "outputs": [],
   "source": [
    "y_pred_r = ridge_tuned.predict(X_test_r)"
   ]
  },
  {
   "cell_type": "code",
   "execution_count": 113,
   "metadata": {},
   "outputs": [
    {
     "name": "stdout",
     "output_type": "stream",
     "text": [
      "MSE : 497.0262344776716\n",
      "RMSE : 22.294085190419267\n",
      "MAE : 6.69722792342646\n",
      "R2 : 0.14889602917267908\n"
     ]
    }
   ],
   "source": [
    "##tuning ölçüm metrikleri\n",
    "print(\"MSE : \" + str(mean_squared_error(y_test_r, y_pred_r)))\n",
    "print(\"RMSE : \" + str(np.sqrt(mean_squared_error(y_test_r, y_pred_r))))\n",
    "print(\"MAE : \" + str(mean_absolute_error(y_test_r, y_pred_r)))\n",
    "print(\"R2 : \" + str(r2_score(y_test_r, y_pred_r)))"
   ]
  },
  {
   "cell_type": "code",
   "execution_count": 114,
   "metadata": {},
   "outputs": [
    {
     "data": {
      "text/html": [
       "<div>\n",
       "<style scoped>\n",
       "    .dataframe tbody tr th:only-of-type {\n",
       "        vertical-align: middle;\n",
       "    }\n",
       "\n",
       "    .dataframe tbody tr th {\n",
       "        vertical-align: top;\n",
       "    }\n",
       "\n",
       "    .dataframe thead th {\n",
       "        text-align: right;\n",
       "    }\n",
       "</style>\n",
       "<table border=\"1\" class=\"dataframe\">\n",
       "  <thead>\n",
       "    <tr style=\"text-align: right;\">\n",
       "      <th></th>\n",
       "      <th>gercek_y</th>\n",
       "      <th>tahmin_y</th>\n",
       "    </tr>\n",
       "  </thead>\n",
       "  <tbody>\n",
       "    <tr>\n",
       "      <th>0</th>\n",
       "      <td>0.014752</td>\n",
       "      <td>-2.639460</td>\n",
       "    </tr>\n",
       "    <tr>\n",
       "      <th>1</th>\n",
       "      <td>0.017748</td>\n",
       "      <td>1.525063</td>\n",
       "    </tr>\n",
       "    <tr>\n",
       "      <th>2</th>\n",
       "      <td>0.012467</td>\n",
       "      <td>-0.015490</td>\n",
       "    </tr>\n",
       "    <tr>\n",
       "      <th>3</th>\n",
       "      <td>0.097104</td>\n",
       "      <td>1.923816</td>\n",
       "    </tr>\n",
       "    <tr>\n",
       "      <th>4</th>\n",
       "      <td>1.338321</td>\n",
       "      <td>1.789945</td>\n",
       "    </tr>\n",
       "    <tr>\n",
       "      <th>...</th>\n",
       "      <td>...</td>\n",
       "      <td>...</td>\n",
       "    </tr>\n",
       "    <tr>\n",
       "      <th>46855</th>\n",
       "      <td>0.023754</td>\n",
       "      <td>1.635463</td>\n",
       "    </tr>\n",
       "    <tr>\n",
       "      <th>46856</th>\n",
       "      <td>6.205139</td>\n",
       "      <td>11.194468</td>\n",
       "    </tr>\n",
       "    <tr>\n",
       "      <th>46857</th>\n",
       "      <td>1.059966</td>\n",
       "      <td>2.312080</td>\n",
       "    </tr>\n",
       "    <tr>\n",
       "      <th>46858</th>\n",
       "      <td>0.059106</td>\n",
       "      <td>1.961146</td>\n",
       "    </tr>\n",
       "    <tr>\n",
       "      <th>46859</th>\n",
       "      <td>1.712252</td>\n",
       "      <td>4.024201</td>\n",
       "    </tr>\n",
       "  </tbody>\n",
       "</table>\n",
       "<p>46860 rows × 2 columns</p>\n",
       "</div>"
      ],
      "text/plain": [
       "       gercek_y   tahmin_y\n",
       "0      0.014752  -2.639460\n",
       "1      0.017748   1.525063\n",
       "2      0.012467  -0.015490\n",
       "3      0.097104   1.923816\n",
       "4      1.338321   1.789945\n",
       "...         ...        ...\n",
       "46855  0.023754   1.635463\n",
       "46856  6.205139  11.194468\n",
       "46857  1.059966   2.312080\n",
       "46858  0.059106   1.961146\n",
       "46859  1.712252   4.024201\n",
       "\n",
       "[46860 rows x 2 columns]"
      ]
     },
     "execution_count": 114,
     "metadata": {},
     "output_type": "execute_result"
    }
   ],
   "source": [
    "## tahmin değeri ile gerçek değer karşılaştırma tablosu\n",
    "k_t_r=pd.DataFrame({\"gercek_y\": y_test_r.values.reshape(-1),\n",
    "                    \"tahmin_y\": y_pred_r.reshape(-1)})\n",
    "k_t_r"
   ]
  },
  {
   "cell_type": "code",
   "execution_count": 115,
   "metadata": {},
   "outputs": [
    {
     "data": {
      "text/html": [
       "<div>\n",
       "<style scoped>\n",
       "    .dataframe tbody tr th:only-of-type {\n",
       "        vertical-align: middle;\n",
       "    }\n",
       "\n",
       "    .dataframe tbody tr th {\n",
       "        vertical-align: top;\n",
       "    }\n",
       "\n",
       "    .dataframe thead th {\n",
       "        text-align: right;\n",
       "    }\n",
       "</style>\n",
       "<table border=\"1\" class=\"dataframe\">\n",
       "  <thead>\n",
       "    <tr style=\"text-align: right;\">\n",
       "      <th></th>\n",
       "      <th>gercek_y</th>\n",
       "      <th>tahmin_y</th>\n",
       "      <th>hata</th>\n",
       "      <th>hata_kare</th>\n",
       "    </tr>\n",
       "  </thead>\n",
       "  <tbody>\n",
       "    <tr>\n",
       "      <th>0</th>\n",
       "      <td>0.014752</td>\n",
       "      <td>-2.639460</td>\n",
       "      <td>2.654212</td>\n",
       "      <td>7.044839</td>\n",
       "    </tr>\n",
       "    <tr>\n",
       "      <th>1</th>\n",
       "      <td>0.017748</td>\n",
       "      <td>1.525063</td>\n",
       "      <td>-1.507315</td>\n",
       "      <td>2.271997</td>\n",
       "    </tr>\n",
       "    <tr>\n",
       "      <th>2</th>\n",
       "      <td>0.012467</td>\n",
       "      <td>-0.015490</td>\n",
       "      <td>0.027957</td>\n",
       "      <td>0.000782</td>\n",
       "    </tr>\n",
       "    <tr>\n",
       "      <th>3</th>\n",
       "      <td>0.097104</td>\n",
       "      <td>1.923816</td>\n",
       "      <td>-1.826712</td>\n",
       "      <td>3.336877</td>\n",
       "    </tr>\n",
       "    <tr>\n",
       "      <th>4</th>\n",
       "      <td>1.338321</td>\n",
       "      <td>1.789945</td>\n",
       "      <td>-0.451624</td>\n",
       "      <td>0.203964</td>\n",
       "    </tr>\n",
       "    <tr>\n",
       "      <th>...</th>\n",
       "      <td>...</td>\n",
       "      <td>...</td>\n",
       "      <td>...</td>\n",
       "      <td>...</td>\n",
       "    </tr>\n",
       "    <tr>\n",
       "      <th>46855</th>\n",
       "      <td>0.023754</td>\n",
       "      <td>1.635463</td>\n",
       "      <td>-1.611709</td>\n",
       "      <td>2.597606</td>\n",
       "    </tr>\n",
       "    <tr>\n",
       "      <th>46856</th>\n",
       "      <td>6.205139</td>\n",
       "      <td>11.194468</td>\n",
       "      <td>-4.989329</td>\n",
       "      <td>24.893405</td>\n",
       "    </tr>\n",
       "    <tr>\n",
       "      <th>46857</th>\n",
       "      <td>1.059966</td>\n",
       "      <td>2.312080</td>\n",
       "      <td>-1.252114</td>\n",
       "      <td>1.567789</td>\n",
       "    </tr>\n",
       "    <tr>\n",
       "      <th>46858</th>\n",
       "      <td>0.059106</td>\n",
       "      <td>1.961146</td>\n",
       "      <td>-1.902040</td>\n",
       "      <td>3.617757</td>\n",
       "    </tr>\n",
       "    <tr>\n",
       "      <th>46859</th>\n",
       "      <td>1.712252</td>\n",
       "      <td>4.024201</td>\n",
       "      <td>-2.311949</td>\n",
       "      <td>5.345107</td>\n",
       "    </tr>\n",
       "  </tbody>\n",
       "</table>\n",
       "<p>46860 rows × 4 columns</p>\n",
       "</div>"
      ],
      "text/plain": [
       "       gercek_y   tahmin_y      hata  hata_kare\n",
       "0      0.014752  -2.639460  2.654212   7.044839\n",
       "1      0.017748   1.525063 -1.507315   2.271997\n",
       "2      0.012467  -0.015490  0.027957   0.000782\n",
       "3      0.097104   1.923816 -1.826712   3.336877\n",
       "4      1.338321   1.789945 -0.451624   0.203964\n",
       "...         ...        ...       ...        ...\n",
       "46855  0.023754   1.635463 -1.611709   2.597606\n",
       "46856  6.205139  11.194468 -4.989329  24.893405\n",
       "46857  1.059966   2.312080 -1.252114   1.567789\n",
       "46858  0.059106   1.961146 -1.902040   3.617757\n",
       "46859  1.712252   4.024201 -2.311949   5.345107\n",
       "\n",
       "[46860 rows x 4 columns]"
      ]
     },
     "execution_count": 115,
     "metadata": {},
     "output_type": "execute_result"
    }
   ],
   "source": [
    "k_t_r[\"hata\"] = k_t_r[\"gercek_y\"] - k_t_r[\"tahmin_y\"]\n",
    "k_t_r[\"hata_kare\"] = k_t_r[\"hata\"]**2\n",
    "k_t_r"
   ]
  },
  {
   "cell_type": "code",
   "execution_count": 116,
   "metadata": {},
   "outputs": [
    {
     "name": "stdout",
     "output_type": "stream",
     "text": [
      "karsilastirma tab MSE : 497.0262344776738\n",
      "karsilastirma tab RMSE : 22.294085190419317\n"
     ]
    }
   ],
   "source": [
    "print(\"karsilastirma tab MSE : \" + str(np.mean(k_t_r[\"hata_kare\"])))\n",
    "print(\"karsilastirma tab RMSE : \" + str(np.sqrt(np.mean(k_t_r[\"hata_kare\"]))))"
   ]
  },
  {
   "cell_type": "code",
   "execution_count": 126,
   "metadata": {},
   "outputs": [
    {
     "data": {
      "image/png": "[encoded data removed]",
      "text/plain": [
       "<Figure size 432x288 with 1 Axes>"
      ]
     },
     "metadata": {
      "needs_background": "light"
     },
     "output_type": "display_data"
    }
   ],
   "source": [
    "plt.plot(k_t_r[\"hata\"])\n",
    "plt.xlabel('Bağımlı Değişken (y) Sayısı')\n",
    "plt.ylabel('Artık değerler (gerçek_y - tahmin_y)')\n",
    "plt.title('RR Model Hata Değerlerinin Dağılımı');"
   ]
  },
  {
   "cell_type": "code",
   "execution_count": null,
   "metadata": {},
   "outputs": [],
   "source": []
  },
  {
   "cell_type": "code",
   "execution_count": null,
   "metadata": {},
   "outputs": [],
   "source": []
  },
  {
   "cell_type": "markdown",
   "metadata": {},
   "source": [
    "# Dogrusal olmayan Coklu Regresyon"
   ]
  },
  {
   "cell_type": "markdown",
   "metadata": {},
   "source": [
    "## SVR ile Model Gelistirme\n",
    "### 1. Model"
   ]
  },
  {
   "cell_type": "code",
   "execution_count": 119,
   "metadata": {},
   "outputs": [
    {
     "data": {
      "text/html": [
       "<div>\n",
       "<style scoped>\n",
       "    .dataframe tbody tr th:only-of-type {\n",
       "        vertical-align: middle;\n",
       "    }\n",
       "\n",
       "    .dataframe tbody tr th {\n",
       "        vertical-align: top;\n",
       "    }\n",
       "\n",
       "    .dataframe thead th {\n",
       "        text-align: right;\n",
       "    }\n",
       "</style>\n",
       "<table border=\"1\" class=\"dataframe\">\n",
       "  <thead>\n",
       "    <tr style=\"text-align: right;\">\n",
       "      <th></th>\n",
       "      <th>FONTOPLAMDEGER</th>\n",
       "      <th>TEDAVPAYSAYISI</th>\n",
       "      <th>KISISAYISI</th>\n",
       "      <th>FAIZ</th>\n",
       "      <th>DOLARFIYAT</th>\n",
       "      <th>ALTINFIYAT</th>\n",
       "      <th>BB</th>\n",
       "      <th>DT</th>\n",
       "      <th>DB</th>\n",
       "      <th>DÖT</th>\n",
       "      <th>...</th>\n",
       "      <th>FB</th>\n",
       "      <th>FKB</th>\n",
       "      <th>GAS</th>\n",
       "      <th>HB</th>\n",
       "      <th>HS</th>\n",
       "      <th>KBA</th>\n",
       "      <th>KKS</th>\n",
       "      <th>KH</th>\n",
       "      <th>KM</th>\n",
       "      <th>OSKS</th>\n",
       "    </tr>\n",
       "  </thead>\n",
       "  <tbody>\n",
       "    <tr>\n",
       "      <th>0</th>\n",
       "      <td>8.722176e+07</td>\n",
       "      <td>4.350000e+06</td>\n",
       "      <td>0</td>\n",
       "      <td>0.2302</td>\n",
       "      <td>5.2905</td>\n",
       "      <td>219270.871675</td>\n",
       "      <td>100.00</td>\n",
       "      <td>0.00</td>\n",
       "      <td>0.00</td>\n",
       "      <td>0.00</td>\n",
       "      <td>...</td>\n",
       "      <td>0.00</td>\n",
       "      <td>0.0</td>\n",
       "      <td>0.0</td>\n",
       "      <td>0.0</td>\n",
       "      <td>0.0</td>\n",
       "      <td>0.0</td>\n",
       "      <td>0.0</td>\n",
       "      <td>0.0</td>\n",
       "      <td>0.0</td>\n",
       "      <td>0.0</td>\n",
       "    </tr>\n",
       "    <tr>\n",
       "      <th>1</th>\n",
       "      <td>1.238294e+07</td>\n",
       "      <td>7.000000e+05</td>\n",
       "      <td>0</td>\n",
       "      <td>0.2302</td>\n",
       "      <td>5.2905</td>\n",
       "      <td>219270.871675</td>\n",
       "      <td>100.00</td>\n",
       "      <td>0.00</td>\n",
       "      <td>0.00</td>\n",
       "      <td>0.00</td>\n",
       "      <td>...</td>\n",
       "      <td>0.00</td>\n",
       "      <td>0.0</td>\n",
       "      <td>0.0</td>\n",
       "      <td>0.0</td>\n",
       "      <td>0.0</td>\n",
       "      <td>0.0</td>\n",
       "      <td>0.0</td>\n",
       "      <td>0.0</td>\n",
       "      <td>0.0</td>\n",
       "      <td>0.0</td>\n",
       "    </tr>\n",
       "    <tr>\n",
       "      <th>2</th>\n",
       "      <td>1.491130e+07</td>\n",
       "      <td>4.800000e+05</td>\n",
       "      <td>0</td>\n",
       "      <td>0.2302</td>\n",
       "      <td>5.2905</td>\n",
       "      <td>219270.871675</td>\n",
       "      <td>99.83</td>\n",
       "      <td>0.17</td>\n",
       "      <td>0.00</td>\n",
       "      <td>0.00</td>\n",
       "      <td>...</td>\n",
       "      <td>0.00</td>\n",
       "      <td>0.0</td>\n",
       "      <td>0.0</td>\n",
       "      <td>0.0</td>\n",
       "      <td>0.0</td>\n",
       "      <td>0.0</td>\n",
       "      <td>0.0</td>\n",
       "      <td>0.0</td>\n",
       "      <td>0.0</td>\n",
       "      <td>0.0</td>\n",
       "    </tr>\n",
       "    <tr>\n",
       "      <th>3</th>\n",
       "      <td>1.465104e+09</td>\n",
       "      <td>6.335717e+10</td>\n",
       "      <td>325392</td>\n",
       "      <td>0.2302</td>\n",
       "      <td>5.2905</td>\n",
       "      <td>219270.871675</td>\n",
       "      <td>1.01</td>\n",
       "      <td>3.44</td>\n",
       "      <td>85.25</td>\n",
       "      <td>3.07</td>\n",
       "      <td>...</td>\n",
       "      <td>7.23</td>\n",
       "      <td>0.0</td>\n",
       "      <td>0.0</td>\n",
       "      <td>0.0</td>\n",
       "      <td>0.0</td>\n",
       "      <td>0.0</td>\n",
       "      <td>0.0</td>\n",
       "      <td>0.0</td>\n",
       "      <td>0.0</td>\n",
       "      <td>0.0</td>\n",
       "    </tr>\n",
       "    <tr>\n",
       "      <th>4</th>\n",
       "      <td>1.784293e+09</td>\n",
       "      <td>7.415738e+10</td>\n",
       "      <td>325460</td>\n",
       "      <td>0.2302</td>\n",
       "      <td>5.2905</td>\n",
       "      <td>219270.871675</td>\n",
       "      <td>0.25</td>\n",
       "      <td>99.75</td>\n",
       "      <td>0.00</td>\n",
       "      <td>0.00</td>\n",
       "      <td>...</td>\n",
       "      <td>0.00</td>\n",
       "      <td>0.0</td>\n",
       "      <td>0.0</td>\n",
       "      <td>0.0</td>\n",
       "      <td>0.0</td>\n",
       "      <td>0.0</td>\n",
       "      <td>0.0</td>\n",
       "      <td>0.0</td>\n",
       "      <td>0.0</td>\n",
       "      <td>0.0</td>\n",
       "    </tr>\n",
       "  </tbody>\n",
       "</table>\n",
       "<p>5 rows × 21 columns</p>\n",
       "</div>"
      ],
      "text/plain": [
       "   FONTOPLAMDEGER  TEDAVPAYSAYISI  KISISAYISI    FAIZ  DOLARFIYAT  \\\n",
       "0    8.722176e+07    4.350000e+06           0  0.2302      5.2905   \n",
       "1    1.238294e+07    7.000000e+05           0  0.2302      5.2905   \n",
       "2    1.491130e+07    4.800000e+05           0  0.2302      5.2905   \n",
       "3    1.465104e+09    6.335717e+10      325392  0.2302      5.2905   \n",
       "4    1.784293e+09    7.415738e+10      325460  0.2302      5.2905   \n",
       "\n",
       "      ALTINFIYAT      BB     DT     DB   DÖT  ...    FB  FKB  GAS   HB   HS  \\\n",
       "0  219270.871675  100.00   0.00   0.00  0.00  ...  0.00  0.0  0.0  0.0  0.0   \n",
       "1  219270.871675  100.00   0.00   0.00  0.00  ...  0.00  0.0  0.0  0.0  0.0   \n",
       "2  219270.871675   99.83   0.17   0.00  0.00  ...  0.00  0.0  0.0  0.0  0.0   \n",
       "3  219270.871675    1.01   3.44  85.25  3.07  ...  7.23  0.0  0.0  0.0  0.0   \n",
       "4  219270.871675    0.25  99.75   0.00  0.00  ...  0.00  0.0  0.0  0.0  0.0   \n",
       "\n",
       "   KBA  KKS   KH   KM  OSKS  \n",
       "0  0.0  0.0  0.0  0.0   0.0  \n",
       "1  0.0  0.0  0.0  0.0   0.0  \n",
       "2  0.0  0.0  0.0  0.0   0.0  \n",
       "3  0.0  0.0  0.0  0.0   0.0  \n",
       "4  0.0  0.0  0.0  0.0   0.0  \n",
       "\n",
       "[5 rows x 21 columns]"
      ]
     },
     "execution_count": 119,
     "metadata": {},
     "output_type": "execute_result"
    }
   ],
   "source": [
    "df_svr = df.copy()\n",
    "X_s = df_svr.drop(['TARIH','FONTIP','FONTUR','FON','FONFIYAT'], axis = 1)\n",
    "y_s = df_svr[\"FONFIYAT\"]\n",
    "\n",
    "X_train_s, X_test_s, y_train_s, y_test_s = train_test_split(X_s, y_s, test_size=0.25, random_state=42)\n",
    "\n",
    "X_s.head()"
   ]
  },
  {
   "cell_type": "code",
   "execution_count": 120,
   "metadata": {},
   "outputs": [
    {
     "data": {
      "text/plain": [
       "StandardScaler(copy=True, with_mean=True, with_std=True)"
      ]
     },
     "execution_count": 120,
     "metadata": {},
     "output_type": "execute_result"
    }
   ],
   "source": [
    "##veri seti standartlastırma islemi\n",
    "scaler = StandardScaler()\n",
    "scaler.fit(X_train_s)"
   ]
  },
  {
   "cell_type": "code",
   "execution_count": 121,
   "metadata": {},
   "outputs": [],
   "source": [
    "X_train_scaled_s = scaler.transform(X_train_s)"
   ]
  },
  {
   "cell_type": "code",
   "execution_count": 122,
   "metadata": {},
   "outputs": [],
   "source": [
    "X_test_scaled_s = scaler.transform(X_test_s)"
   ]
  },
  {
   "cell_type": "code",
   "execution_count": 123,
   "metadata": {},
   "outputs": [],
   "source": [
    "from sklearn.svm import SVR"
   ]
  },
  {
   "cell_type": "code",
   "execution_count": 124,
   "metadata": {},
   "outputs": [],
   "source": [
    "svr_rbf = SVR(\"rbf\").fit(X_train_scaled_s, y_train_s)"
   ]
  },
  {
   "cell_type": "code",
   "execution_count": 127,
   "metadata": {},
   "outputs": [
    {
     "data": {
      "text/plain": [
       "SVR(C=1.0, cache_size=200, coef0=0.0, degree=3, epsilon=0.1, gamma='scale',\n",
       "    kernel='rbf', max_iter=-1, shrinking=True, tol=0.001, verbose=False)"
      ]
     },
     "execution_count": 127,
     "metadata": {},
     "output_type": "execute_result"
    }
   ],
   "source": [
    "svr_rbf"
   ]
  },
  {
   "cell_type": "markdown",
   "metadata": {},
   "source": []
  },
  {
   "cell_type": "markdown",
   "metadata": {},
   "source": [
    "### 2. Tahmin"
   ]
  },
  {
   "cell_type": "code",
   "execution_count": 128,
   "metadata": {},
   "outputs": [],
   "source": [
    "y_pred_s = svr_rbf.predict(X_train_scaled_s)"
   ]
  },
  {
   "cell_type": "code",
   "execution_count": 129,
   "metadata": {},
   "outputs": [
    {
     "data": {
      "text/plain": [
       "23.06225439462722"
      ]
     },
     "execution_count": 129,
     "metadata": {},
     "output_type": "execute_result"
    }
   ],
   "source": [
    "np.sqrt(mean_squared_error(y_train_s, y_pred_s))"
   ]
  },
  {
   "cell_type": "code",
   "execution_count": 130,
   "metadata": {},
   "outputs": [
    {
     "name": "stdout",
     "output_type": "stream",
     "text": [
      "MSE : 531.8675777625025\n",
      "RMSE : 23.06225439462722\n",
      "MAE : 3.677658112113757\n",
      "R2 : 0.06766281319477463\n"
     ]
    }
   ],
   "source": [
    "## eğitim seti ölçüm metrikleri\n",
    "print(\"MSE : \" + str(mean_squared_error(y_train_s, y_pred_s)))\n",
    "print(\"RMSE : \" + str(np.sqrt(mean_squared_error(y_train_s, y_pred_s))))\n",
    "print(\"MAE : \" + str(mean_absolute_error(y_train_s, y_pred_s)))\n",
    "print(\"R2 : \" + str(r2_score(y_train_s, y_pred_s)))"
   ]
  },
  {
   "cell_type": "code",
   "execution_count": 131,
   "metadata": {},
   "outputs": [],
   "source": [
    "y_pred_s = svr_rbf.predict(X_test_scaled_s)"
   ]
  },
  {
   "cell_type": "code",
   "execution_count": 132,
   "metadata": {},
   "outputs": [
    {
     "data": {
      "text/plain": [
       "array([-0.00953289, -0.17264357, -0.13363028, ...,  0.20351193,\n",
       "        0.18875765,  1.57484648])"
      ]
     },
     "execution_count": 132,
     "metadata": {},
     "output_type": "execute_result"
    }
   ],
   "source": [
    "y_pred_s"
   ]
  },
  {
   "cell_type": "code",
   "execution_count": 133,
   "metadata": {},
   "outputs": [
    {
     "name": "stdout",
     "output_type": "stream",
     "text": [
      "MSE : 542.8368894117968\n",
      "RMSE : 23.298860259931104\n",
      "MAE : 3.711111249858252\n",
      "R2 : 0.07045020958408388\n"
     ]
    }
   ],
   "source": [
    "##test seti ölçüm metrikleri\n",
    "print(\"MSE : \" + str(mean_squared_error(y_test_s, y_pred_s)))\n",
    "print(\"RMSE : \" + str(np.sqrt(mean_squared_error(y_test_s, y_pred_s))))\n",
    "print(\"MAE : \" + str(mean_absolute_error(y_test_s, y_pred_s)))\n",
    "print(\"R2 : \" + str(r2_score(y_test_s, y_pred_s)))"
   ]
  },
  {
   "cell_type": "code",
   "execution_count": 134,
   "metadata": {},
   "outputs": [
    {
     "data": {
      "text/html": [
       "<div>\n",
       "<style scoped>\n",
       "    .dataframe tbody tr th:only-of-type {\n",
       "        vertical-align: middle;\n",
       "    }\n",
       "\n",
       "    .dataframe tbody tr th {\n",
       "        vertical-align: top;\n",
       "    }\n",
       "\n",
       "    .dataframe thead th {\n",
       "        text-align: right;\n",
       "    }\n",
       "</style>\n",
       "<table border=\"1\" class=\"dataframe\">\n",
       "  <thead>\n",
       "    <tr style=\"text-align: right;\">\n",
       "      <th></th>\n",
       "      <th>gercek_y</th>\n",
       "      <th>tahmin_y</th>\n",
       "    </tr>\n",
       "  </thead>\n",
       "  <tbody>\n",
       "    <tr>\n",
       "      <th>0</th>\n",
       "      <td>0.014752</td>\n",
       "      <td>-0.009533</td>\n",
       "    </tr>\n",
       "    <tr>\n",
       "      <th>1</th>\n",
       "      <td>0.017748</td>\n",
       "      <td>-0.172644</td>\n",
       "    </tr>\n",
       "    <tr>\n",
       "      <th>2</th>\n",
       "      <td>0.012467</td>\n",
       "      <td>-0.133630</td>\n",
       "    </tr>\n",
       "    <tr>\n",
       "      <th>3</th>\n",
       "      <td>0.097104</td>\n",
       "      <td>0.810377</td>\n",
       "    </tr>\n",
       "    <tr>\n",
       "      <th>4</th>\n",
       "      <td>1.338321</td>\n",
       "      <td>0.177428</td>\n",
       "    </tr>\n",
       "    <tr>\n",
       "      <th>...</th>\n",
       "      <td>...</td>\n",
       "      <td>...</td>\n",
       "    </tr>\n",
       "    <tr>\n",
       "      <th>46855</th>\n",
       "      <td>0.023754</td>\n",
       "      <td>0.128333</td>\n",
       "    </tr>\n",
       "    <tr>\n",
       "      <th>46856</th>\n",
       "      <td>6.205139</td>\n",
       "      <td>5.704104</td>\n",
       "    </tr>\n",
       "    <tr>\n",
       "      <th>46857</th>\n",
       "      <td>1.059966</td>\n",
       "      <td>0.203512</td>\n",
       "    </tr>\n",
       "    <tr>\n",
       "      <th>46858</th>\n",
       "      <td>0.059106</td>\n",
       "      <td>0.188758</td>\n",
       "    </tr>\n",
       "    <tr>\n",
       "      <th>46859</th>\n",
       "      <td>1.712252</td>\n",
       "      <td>1.574846</td>\n",
       "    </tr>\n",
       "  </tbody>\n",
       "</table>\n",
       "<p>46860 rows × 2 columns</p>\n",
       "</div>"
      ],
      "text/plain": [
       "       gercek_y  tahmin_y\n",
       "0      0.014752 -0.009533\n",
       "1      0.017748 -0.172644\n",
       "2      0.012467 -0.133630\n",
       "3      0.097104  0.810377\n",
       "4      1.338321  0.177428\n",
       "...         ...       ...\n",
       "46855  0.023754  0.128333\n",
       "46856  6.205139  5.704104\n",
       "46857  1.059966  0.203512\n",
       "46858  0.059106  0.188758\n",
       "46859  1.712252  1.574846\n",
       "\n",
       "[46860 rows x 2 columns]"
      ]
     },
     "execution_count": 134,
     "metadata": {},
     "output_type": "execute_result"
    }
   ],
   "source": [
    "## tahmin değeri ile gerçek değer karşılaştırma tablosu\n",
    "k_t_s=pd.DataFrame({\"gercek_y\": y_test_s.values.reshape(-1),\n",
    "                    \"tahmin_y\": y_pred_s.reshape(-1)})\n",
    "k_t_s"
   ]
  },
  {
   "cell_type": "code",
   "execution_count": 135,
   "metadata": {},
   "outputs": [
    {
     "data": {
      "text/html": [
       "<div>\n",
       "<style scoped>\n",
       "    .dataframe tbody tr th:only-of-type {\n",
       "        vertical-align: middle;\n",
       "    }\n",
       "\n",
       "    .dataframe tbody tr th {\n",
       "        vertical-align: top;\n",
       "    }\n",
       "\n",
       "    .dataframe thead th {\n",
       "        text-align: right;\n",
       "    }\n",
       "</style>\n",
       "<table border=\"1\" class=\"dataframe\">\n",
       "  <thead>\n",
       "    <tr style=\"text-align: right;\">\n",
       "      <th></th>\n",
       "      <th>gercek_y</th>\n",
       "      <th>tahmin_y</th>\n",
       "      <th>hata</th>\n",
       "      <th>hata_kare</th>\n",
       "    </tr>\n",
       "  </thead>\n",
       "  <tbody>\n",
       "    <tr>\n",
       "      <th>0</th>\n",
       "      <td>0.014752</td>\n",
       "      <td>-0.009533</td>\n",
       "      <td>0.024285</td>\n",
       "      <td>0.000590</td>\n",
       "    </tr>\n",
       "    <tr>\n",
       "      <th>1</th>\n",
       "      <td>0.017748</td>\n",
       "      <td>-0.172644</td>\n",
       "      <td>0.190392</td>\n",
       "      <td>0.036249</td>\n",
       "    </tr>\n",
       "    <tr>\n",
       "      <th>2</th>\n",
       "      <td>0.012467</td>\n",
       "      <td>-0.133630</td>\n",
       "      <td>0.146097</td>\n",
       "      <td>0.021344</td>\n",
       "    </tr>\n",
       "    <tr>\n",
       "      <th>3</th>\n",
       "      <td>0.097104</td>\n",
       "      <td>0.810377</td>\n",
       "      <td>-0.713273</td>\n",
       "      <td>0.508758</td>\n",
       "    </tr>\n",
       "    <tr>\n",
       "      <th>4</th>\n",
       "      <td>1.338321</td>\n",
       "      <td>0.177428</td>\n",
       "      <td>1.160893</td>\n",
       "      <td>1.347674</td>\n",
       "    </tr>\n",
       "    <tr>\n",
       "      <th>...</th>\n",
       "      <td>...</td>\n",
       "      <td>...</td>\n",
       "      <td>...</td>\n",
       "      <td>...</td>\n",
       "    </tr>\n",
       "    <tr>\n",
       "      <th>46855</th>\n",
       "      <td>0.023754</td>\n",
       "      <td>0.128333</td>\n",
       "      <td>-0.104579</td>\n",
       "      <td>0.010937</td>\n",
       "    </tr>\n",
       "    <tr>\n",
       "      <th>46856</th>\n",
       "      <td>6.205139</td>\n",
       "      <td>5.704104</td>\n",
       "      <td>0.501035</td>\n",
       "      <td>0.251036</td>\n",
       "    </tr>\n",
       "    <tr>\n",
       "      <th>46857</th>\n",
       "      <td>1.059966</td>\n",
       "      <td>0.203512</td>\n",
       "      <td>0.856454</td>\n",
       "      <td>0.733514</td>\n",
       "    </tr>\n",
       "    <tr>\n",
       "      <th>46858</th>\n",
       "      <td>0.059106</td>\n",
       "      <td>0.188758</td>\n",
       "      <td>-0.129652</td>\n",
       "      <td>0.016810</td>\n",
       "    </tr>\n",
       "    <tr>\n",
       "      <th>46859</th>\n",
       "      <td>1.712252</td>\n",
       "      <td>1.574846</td>\n",
       "      <td>0.137406</td>\n",
       "      <td>0.018880</td>\n",
       "    </tr>\n",
       "  </tbody>\n",
       "</table>\n",
       "<p>46860 rows × 4 columns</p>\n",
       "</div>"
      ],
      "text/plain": [
       "       gercek_y  tahmin_y      hata  hata_kare\n",
       "0      0.014752 -0.009533  0.024285   0.000590\n",
       "1      0.017748 -0.172644  0.190392   0.036249\n",
       "2      0.012467 -0.133630  0.146097   0.021344\n",
       "3      0.097104  0.810377 -0.713273   0.508758\n",
       "4      1.338321  0.177428  1.160893   1.347674\n",
       "...         ...       ...       ...        ...\n",
       "46855  0.023754  0.128333 -0.104579   0.010937\n",
       "46856  6.205139  5.704104  0.501035   0.251036\n",
       "46857  1.059966  0.203512  0.856454   0.733514\n",
       "46858  0.059106  0.188758 -0.129652   0.016810\n",
       "46859  1.712252  1.574846  0.137406   0.018880\n",
       "\n",
       "[46860 rows x 4 columns]"
      ]
     },
     "execution_count": 135,
     "metadata": {},
     "output_type": "execute_result"
    }
   ],
   "source": [
    "k_t_s[\"hata\"] = k_t_s[\"gercek_y\"] - k_t_s[\"tahmin_y\"]\n",
    "k_t_s[\"hata_kare\"] = k_t_s[\"hata\"]**2\n",
    "k_t_s"
   ]
  },
  {
   "cell_type": "code",
   "execution_count": 136,
   "metadata": {},
   "outputs": [
    {
     "name": "stdout",
     "output_type": "stream",
     "text": [
      "karsilastirma tab MSE : 542.8368894117941\n",
      "karsilastirma tab RMSE : 23.298860259931043\n"
     ]
    }
   ],
   "source": [
    "print(\"karsilastirma tab MSE : \" + str(np.mean(k_t_s[\"hata_kare\"])))\n",
    "print(\"karsilastirma tab RMSE : \" + str(np.sqrt(np.mean(k_t_s[\"hata_kare\"]))))"
   ]
  },
  {
   "cell_type": "code",
   "execution_count": 137,
   "metadata": {},
   "outputs": [
    {
     "data": {
      "image/png": "[encoded data removed]",
      "text/plain": [
       "<Figure size 432x288 with 1 Axes>"
      ]
     },
     "metadata": {
      "needs_background": "light"
     },
     "output_type": "display_data"
    }
   ],
   "source": [
    "plt.plot(k_t_s[\"hata\"])\n",
    "plt.xlabel('Bağımlı Değişken (y) Sayısı')\n",
    "plt.ylabel('Artık değerler (gerçek_y - tahmin_y)')\n",
    "plt.title('SVR Model Hata Değerlerinin Dağılımı');"
   ]
  },
  {
   "cell_type": "code",
   "execution_count": null,
   "metadata": {},
   "outputs": [],
   "source": []
  },
  {
   "cell_type": "markdown",
   "metadata": {},
   "source": [
    "### 3. Model Tuning"
   ]
  },
  {
   "cell_type": "code",
   "execution_count": 13,
   "metadata": {},
   "outputs": [
    {
     "data": {
      "text/plain": [
       "SVR(C=1.0, cache_size=200, coef0=0.0, degree=3, epsilon=0.1, gamma='scale',\n",
       "    kernel='rbf', max_iter=-1, shrinking=True, tol=0.001, verbose=False)"
      ]
     },
     "execution_count": 13,
     "metadata": {},
     "output_type": "execute_result"
    }
   ],
   "source": [
    "svr_rbf"
   ]
  },
  {
   "cell_type": "code",
   "execution_count": null,
   "metadata": {},
   "outputs": [],
   "source": [
    "#'C': [0.1, 1, 10, 100, 1000]\n",
    "svr_params = {\"C\": np.arange(0.1,2,0.1)}\n",
    "svr_cv_model = GridSearchCV(svr_rbf,svr_params, cv = 10)\n",
    "svr_cv_model.fit(X_train_scaled_s, y_train_s)"
   ]
  },
  {
   "cell_type": "code",
   "execution_count": null,
   "metadata": {},
   "outputs": [],
   "source": [
    "pd.Series(svr_cv_model.best_params_)[0]"
   ]
  },
  {
   "cell_type": "code",
   "execution_count": null,
   "metadata": {},
   "outputs": [],
   "source": [
    "svr_tuned = SVR(\"rbf\", C = pd.Series(svr_cv_model.best_params_)[0]).fit(X_train, \n",
    "                                                                        y_train)\n",
    "\n"
   ]
  },
  {
   "cell_type": "code",
   "execution_count": null,
   "metadata": {},
   "outputs": [],
   "source": [
    "y_pred = svr_tuned.predict(X_test)\n",
    "\n",
    "np.sqrt(mean_squared_error(y_test, y_pred))"
   ]
  },
  {
   "cell_type": "code",
   "execution_count": null,
   "metadata": {},
   "outputs": [],
   "source": []
  },
  {
   "cell_type": "code",
   "execution_count": null,
   "metadata": {},
   "outputs": [],
   "source": []
  },
  {
   "cell_type": "markdown",
   "metadata": {},
   "source": [
    "## YSA ile Model Gelistirme"
   ]
  },
  {
   "cell_type": "markdown",
   "metadata": {},
   "source": [
    "### 1. Model"
   ]
  },
  {
   "cell_type": "code",
   "execution_count": 21,
   "metadata": {},
   "outputs": [
    {
     "data": {
      "text/html": [
       "<div>\n",
       "<style scoped>\n",
       "    .dataframe tbody tr th:only-of-type {\n",
       "        vertical-align: middle;\n",
       "    }\n",
       "\n",
       "    .dataframe tbody tr th {\n",
       "        vertical-align: top;\n",
       "    }\n",
       "\n",
       "    .dataframe thead th {\n",
       "        text-align: right;\n",
       "    }\n",
       "</style>\n",
       "<table border=\"1\" class=\"dataframe\">\n",
       "  <thead>\n",
       "    <tr style=\"text-align: right;\">\n",
       "      <th></th>\n",
       "      <th>FONTOPLAMDEGER</th>\n",
       "      <th>TEDAVPAYSAYISI</th>\n",
       "      <th>KISISAYISI</th>\n",
       "      <th>FAIZ</th>\n",
       "      <th>DOLARFIYAT</th>\n",
       "      <th>ALTINFIYAT</th>\n",
       "      <th>BB</th>\n",
       "      <th>DT</th>\n",
       "      <th>DB</th>\n",
       "      <th>DÖT</th>\n",
       "      <th>...</th>\n",
       "      <th>FB</th>\n",
       "      <th>FKB</th>\n",
       "      <th>GAS</th>\n",
       "      <th>HB</th>\n",
       "      <th>HS</th>\n",
       "      <th>KBA</th>\n",
       "      <th>KKS</th>\n",
       "      <th>KH</th>\n",
       "      <th>KM</th>\n",
       "      <th>OSKS</th>\n",
       "    </tr>\n",
       "  </thead>\n",
       "  <tbody>\n",
       "    <tr>\n",
       "      <th>0</th>\n",
       "      <td>8.722176e+07</td>\n",
       "      <td>4.350000e+06</td>\n",
       "      <td>0</td>\n",
       "      <td>0.2302</td>\n",
       "      <td>5.2905</td>\n",
       "      <td>219270.871675</td>\n",
       "      <td>100.00</td>\n",
       "      <td>0.00</td>\n",
       "      <td>0.00</td>\n",
       "      <td>0.00</td>\n",
       "      <td>...</td>\n",
       "      <td>0.00</td>\n",
       "      <td>0.0</td>\n",
       "      <td>0.0</td>\n",
       "      <td>0.0</td>\n",
       "      <td>0.0</td>\n",
       "      <td>0.0</td>\n",
       "      <td>0.0</td>\n",
       "      <td>0.0</td>\n",
       "      <td>0.0</td>\n",
       "      <td>0.0</td>\n",
       "    </tr>\n",
       "    <tr>\n",
       "      <th>1</th>\n",
       "      <td>1.238294e+07</td>\n",
       "      <td>7.000000e+05</td>\n",
       "      <td>0</td>\n",
       "      <td>0.2302</td>\n",
       "      <td>5.2905</td>\n",
       "      <td>219270.871675</td>\n",
       "      <td>100.00</td>\n",
       "      <td>0.00</td>\n",
       "      <td>0.00</td>\n",
       "      <td>0.00</td>\n",
       "      <td>...</td>\n",
       "      <td>0.00</td>\n",
       "      <td>0.0</td>\n",
       "      <td>0.0</td>\n",
       "      <td>0.0</td>\n",
       "      <td>0.0</td>\n",
       "      <td>0.0</td>\n",
       "      <td>0.0</td>\n",
       "      <td>0.0</td>\n",
       "      <td>0.0</td>\n",
       "      <td>0.0</td>\n",
       "    </tr>\n",
       "    <tr>\n",
       "      <th>2</th>\n",
       "      <td>1.491130e+07</td>\n",
       "      <td>4.800000e+05</td>\n",
       "      <td>0</td>\n",
       "      <td>0.2302</td>\n",
       "      <td>5.2905</td>\n",
       "      <td>219270.871675</td>\n",
       "      <td>99.83</td>\n",
       "      <td>0.17</td>\n",
       "      <td>0.00</td>\n",
       "      <td>0.00</td>\n",
       "      <td>...</td>\n",
       "      <td>0.00</td>\n",
       "      <td>0.0</td>\n",
       "      <td>0.0</td>\n",
       "      <td>0.0</td>\n",
       "      <td>0.0</td>\n",
       "      <td>0.0</td>\n",
       "      <td>0.0</td>\n",
       "      <td>0.0</td>\n",
       "      <td>0.0</td>\n",
       "      <td>0.0</td>\n",
       "    </tr>\n",
       "    <tr>\n",
       "      <th>3</th>\n",
       "      <td>1.465104e+09</td>\n",
       "      <td>6.335717e+10</td>\n",
       "      <td>325392</td>\n",
       "      <td>0.2302</td>\n",
       "      <td>5.2905</td>\n",
       "      <td>219270.871675</td>\n",
       "      <td>1.01</td>\n",
       "      <td>3.44</td>\n",
       "      <td>85.25</td>\n",
       "      <td>3.07</td>\n",
       "      <td>...</td>\n",
       "      <td>7.23</td>\n",
       "      <td>0.0</td>\n",
       "      <td>0.0</td>\n",
       "      <td>0.0</td>\n",
       "      <td>0.0</td>\n",
       "      <td>0.0</td>\n",
       "      <td>0.0</td>\n",
       "      <td>0.0</td>\n",
       "      <td>0.0</td>\n",
       "      <td>0.0</td>\n",
       "    </tr>\n",
       "    <tr>\n",
       "      <th>4</th>\n",
       "      <td>1.784293e+09</td>\n",
       "      <td>7.415738e+10</td>\n",
       "      <td>325460</td>\n",
       "      <td>0.2302</td>\n",
       "      <td>5.2905</td>\n",
       "      <td>219270.871675</td>\n",
       "      <td>0.25</td>\n",
       "      <td>99.75</td>\n",
       "      <td>0.00</td>\n",
       "      <td>0.00</td>\n",
       "      <td>...</td>\n",
       "      <td>0.00</td>\n",
       "      <td>0.0</td>\n",
       "      <td>0.0</td>\n",
       "      <td>0.0</td>\n",
       "      <td>0.0</td>\n",
       "      <td>0.0</td>\n",
       "      <td>0.0</td>\n",
       "      <td>0.0</td>\n",
       "      <td>0.0</td>\n",
       "      <td>0.0</td>\n",
       "    </tr>\n",
       "  </tbody>\n",
       "</table>\n",
       "<p>5 rows × 21 columns</p>\n",
       "</div>"
      ],
      "text/plain": [
       "   FONTOPLAMDEGER  TEDAVPAYSAYISI  KISISAYISI    FAIZ  DOLARFIYAT  \\\n",
       "0    8.722176e+07    4.350000e+06           0  0.2302      5.2905   \n",
       "1    1.238294e+07    7.000000e+05           0  0.2302      5.2905   \n",
       "2    1.491130e+07    4.800000e+05           0  0.2302      5.2905   \n",
       "3    1.465104e+09    6.335717e+10      325392  0.2302      5.2905   \n",
       "4    1.784293e+09    7.415738e+10      325460  0.2302      5.2905   \n",
       "\n",
       "      ALTINFIYAT      BB     DT     DB   DÖT  ...    FB  FKB  GAS   HB   HS  \\\n",
       "0  219270.871675  100.00   0.00   0.00  0.00  ...  0.00  0.0  0.0  0.0  0.0   \n",
       "1  219270.871675  100.00   0.00   0.00  0.00  ...  0.00  0.0  0.0  0.0  0.0   \n",
       "2  219270.871675   99.83   0.17   0.00  0.00  ...  0.00  0.0  0.0  0.0  0.0   \n",
       "3  219270.871675    1.01   3.44  85.25  3.07  ...  7.23  0.0  0.0  0.0  0.0   \n",
       "4  219270.871675    0.25  99.75   0.00  0.00  ...  0.00  0.0  0.0  0.0  0.0   \n",
       "\n",
       "   KBA  KKS   KH   KM  OSKS  \n",
       "0  0.0  0.0  0.0  0.0   0.0  \n",
       "1  0.0  0.0  0.0  0.0   0.0  \n",
       "2  0.0  0.0  0.0  0.0   0.0  \n",
       "3  0.0  0.0  0.0  0.0   0.0  \n",
       "4  0.0  0.0  0.0  0.0   0.0  \n",
       "\n",
       "[5 rows x 21 columns]"
      ]
     },
     "execution_count": 21,
     "metadata": {},
     "output_type": "execute_result"
    }
   ],
   "source": [
    "df_ysa = df.copy()\n",
    "X_y = df_ysa.drop(['TARIH','FONTIP','FONTUR','FON','FONFIYAT'], axis = 1)\n",
    "y_y = df_ysa[\"FONFIYAT\"]\n",
    "\n",
    "X_train_y, X_test_y, y_train_y, y_test_y = train_test_split(X_y, y_y, test_size=0.25, random_state=42)\n",
    "\n",
    "X_y.head()"
   ]
  },
  {
   "cell_type": "code",
   "execution_count": 22,
   "metadata": {},
   "outputs": [
    {
     "data": {
      "text/plain": [
       "StandardScaler(copy=True, with_mean=True, with_std=True)"
      ]
     },
     "execution_count": 22,
     "metadata": {},
     "output_type": "execute_result"
    }
   ],
   "source": [
    "##veri seti standartlastırma islemi\n",
    "scaler = StandardScaler()\n",
    "scaler.fit(X_train_y)"
   ]
  },
  {
   "cell_type": "code",
   "execution_count": 23,
   "metadata": {},
   "outputs": [],
   "source": [
    "X_train_scaled_y = scaler.transform(X_train_y)"
   ]
  },
  {
   "cell_type": "code",
   "execution_count": 24,
   "metadata": {},
   "outputs": [],
   "source": [
    "X_test_scaled_y = scaler.transform(X_test_y)"
   ]
  },
  {
   "cell_type": "code",
   "execution_count": 25,
   "metadata": {},
   "outputs": [],
   "source": [
    "from sklearn.neural_network import MLPRegressor"
   ]
  },
  {
   "cell_type": "code",
   "execution_count": 26,
   "metadata": {},
   "outputs": [],
   "source": [
    "mlp_model = MLPRegressor(hidden_layer_sizes = (100,20)).fit(X_train_scaled_y, y_train_y)"
   ]
  },
  {
   "cell_type": "code",
   "execution_count": 138,
   "metadata": {},
   "outputs": [
    {
     "data": {
      "text/plain": [
       "MLPRegressor(activation='relu', alpha=0.0001, batch_size='auto', beta_1=0.9,\n",
       "             beta_2=0.999, early_stopping=False, epsilon=1e-08,\n",
       "             hidden_layer_sizes=(100, 20), learning_rate='constant',\n",
       "             learning_rate_init=0.001, max_fun=15000, max_iter=200,\n",
       "             momentum=0.9, n_iter_no_change=10, nesterovs_momentum=True,\n",
       "             power_t=0.5, random_state=None, shuffle=True, solver='adam',\n",
       "             tol=0.0001, validation_fraction=0.1, verbose=False,\n",
       "             warm_start=False)"
      ]
     },
     "execution_count": 138,
     "metadata": {},
     "output_type": "execute_result"
    }
   ],
   "source": [
    "mlp_model"
   ]
  },
  {
   "cell_type": "code",
   "execution_count": 139,
   "metadata": {},
   "outputs": [
    {
     "data": {
      "text/plain": [
       "4"
      ]
     },
     "execution_count": 139,
     "metadata": {},
     "output_type": "execute_result"
    }
   ],
   "source": [
    "mlp_model.n_layers_"
   ]
  },
  {
   "cell_type": "code",
   "execution_count": 140,
   "metadata": {},
   "outputs": [
    {
     "data": {
      "text/plain": [
       "(100, 20)"
      ]
     },
     "execution_count": 140,
     "metadata": {},
     "output_type": "execute_result"
    }
   ],
   "source": [
    "mlp_model.hidden_layer_sizes"
   ]
  },
  {
   "cell_type": "code",
   "execution_count": null,
   "metadata": {},
   "outputs": [],
   "source": []
  },
  {
   "cell_type": "markdown",
   "metadata": {},
   "source": [
    "### 2. Tahmin"
   ]
  },
  {
   "cell_type": "code",
   "execution_count": 144,
   "metadata": {},
   "outputs": [],
   "source": [
    "y_pred_y = mlp_model.predict(X_train_scaled_y)"
   ]
  },
  {
   "cell_type": "code",
   "execution_count": 145,
   "metadata": {},
   "outputs": [
    {
     "data": {
      "text/plain": [
       "array([ 0.11403765,  1.25703631,  1.20545948, ...,  0.11403765,\n",
       "       -1.67006729, -1.30945181])"
      ]
     },
     "execution_count": 145,
     "metadata": {},
     "output_type": "execute_result"
    }
   ],
   "source": [
    "y_pred_y"
   ]
  },
  {
   "cell_type": "code",
   "execution_count": 146,
   "metadata": {},
   "outputs": [
    {
     "name": "stdout",
     "output_type": "stream",
     "text": [
      "MSE : 27.809947088094503\n",
      "RMSE : 5.273513732616471\n",
      "MAE : 1.6469758061055841\n",
      "R2 : 0.9512505576249017\n"
     ]
    }
   ],
   "source": [
    "## eğitim seti ölçüm metrikleri\n",
    "print(\"MSE : \" + str(mean_squared_error(y_train_y, y_pred_y)))\n",
    "print(\"RMSE : \" + str(np.sqrt(mean_squared_error(y_train_y, y_pred_y))))\n",
    "print(\"MAE : \" + str(mean_absolute_error(y_train_y, y_pred_y)))\n",
    "print(\"R2 : \" + str(r2_score(y_train_y, y_pred_y)))"
   ]
  },
  {
   "cell_type": "code",
   "execution_count": 147,
   "metadata": {},
   "outputs": [],
   "source": [
    "y_pred_y = mlp_model.predict(X_test_scaled_y)"
   ]
  },
  {
   "cell_type": "code",
   "execution_count": 148,
   "metadata": {},
   "outputs": [
    {
     "data": {
      "text/plain": [
       "array([0.11403765, 0.11403765, 0.11403765, ..., 1.67500834, 0.42249179,\n",
       "       2.31101304])"
      ]
     },
     "execution_count": 148,
     "metadata": {},
     "output_type": "execute_result"
    }
   ],
   "source": [
    "y_pred_y"
   ]
  },
  {
   "cell_type": "code",
   "execution_count": 171,
   "metadata": {},
   "outputs": [
    {
     "name": "stdout",
     "output_type": "stream",
     "text": [
      "MSE : 39.321943328021554\n",
      "RMSE : 6.270721117066326\n",
      "MAE : 1.7579658612687985\n",
      "R2 : 0.93266540116882\n"
     ]
    }
   ],
   "source": [
    "##test seti ölçüm metrikleri\n",
    "print(\"MSE : \" + str(mean_squared_error(y_test_y, y_pred_y)))\n",
    "print(\"RMSE : \" + str(np.sqrt(mean_squared_error(y_test_y, y_pred_y))))\n",
    "print(\"MAE : \" + str(mean_absolute_error(y_test_y, y_pred_y)))\n",
    "print(\"R2 : \" + str(r2_score(y_test_y, y_pred_y)))"
   ]
  },
  {
   "cell_type": "code",
   "execution_count": 150,
   "metadata": {},
   "outputs": [
    {
     "data": {
      "text/html": [
       "<div>\n",
       "<style scoped>\n",
       "    .dataframe tbody tr th:only-of-type {\n",
       "        vertical-align: middle;\n",
       "    }\n",
       "\n",
       "    .dataframe tbody tr th {\n",
       "        vertical-align: top;\n",
       "    }\n",
       "\n",
       "    .dataframe thead th {\n",
       "        text-align: right;\n",
       "    }\n",
       "</style>\n",
       "<table border=\"1\" class=\"dataframe\">\n",
       "  <thead>\n",
       "    <tr style=\"text-align: right;\">\n",
       "      <th></th>\n",
       "      <th>gercek_y</th>\n",
       "      <th>tahmin_y</th>\n",
       "    </tr>\n",
       "  </thead>\n",
       "  <tbody>\n",
       "    <tr>\n",
       "      <th>0</th>\n",
       "      <td>0.014752</td>\n",
       "      <td>0.114038</td>\n",
       "    </tr>\n",
       "    <tr>\n",
       "      <th>1</th>\n",
       "      <td>0.017748</td>\n",
       "      <td>0.114038</td>\n",
       "    </tr>\n",
       "    <tr>\n",
       "      <th>2</th>\n",
       "      <td>0.012467</td>\n",
       "      <td>0.114038</td>\n",
       "    </tr>\n",
       "    <tr>\n",
       "      <th>3</th>\n",
       "      <td>0.097104</td>\n",
       "      <td>1.209664</td>\n",
       "    </tr>\n",
       "    <tr>\n",
       "      <th>4</th>\n",
       "      <td>1.338321</td>\n",
       "      <td>1.375504</td>\n",
       "    </tr>\n",
       "    <tr>\n",
       "      <th>...</th>\n",
       "      <td>...</td>\n",
       "      <td>...</td>\n",
       "    </tr>\n",
       "    <tr>\n",
       "      <th>46855</th>\n",
       "      <td>0.023754</td>\n",
       "      <td>-0.800029</td>\n",
       "    </tr>\n",
       "    <tr>\n",
       "      <th>46856</th>\n",
       "      <td>6.205139</td>\n",
       "      <td>6.514594</td>\n",
       "    </tr>\n",
       "    <tr>\n",
       "      <th>46857</th>\n",
       "      <td>1.059966</td>\n",
       "      <td>1.675008</td>\n",
       "    </tr>\n",
       "    <tr>\n",
       "      <th>46858</th>\n",
       "      <td>0.059106</td>\n",
       "      <td>0.422492</td>\n",
       "    </tr>\n",
       "    <tr>\n",
       "      <th>46859</th>\n",
       "      <td>1.712252</td>\n",
       "      <td>2.311013</td>\n",
       "    </tr>\n",
       "  </tbody>\n",
       "</table>\n",
       "<p>46860 rows × 2 columns</p>\n",
       "</div>"
      ],
      "text/plain": [
       "       gercek_y  tahmin_y\n",
       "0      0.014752  0.114038\n",
       "1      0.017748  0.114038\n",
       "2      0.012467  0.114038\n",
       "3      0.097104  1.209664\n",
       "4      1.338321  1.375504\n",
       "...         ...       ...\n",
       "46855  0.023754 -0.800029\n",
       "46856  6.205139  6.514594\n",
       "46857  1.059966  1.675008\n",
       "46858  0.059106  0.422492\n",
       "46859  1.712252  2.311013\n",
       "\n",
       "[46860 rows x 2 columns]"
      ]
     },
     "execution_count": 150,
     "metadata": {},
     "output_type": "execute_result"
    }
   ],
   "source": [
    "## tahmin değeri ile gerçek değer karşılaştırma tablosu\n",
    "k_t_y=pd.DataFrame({\"gercek_y\": y_test_y.values.reshape(-1),\n",
    "                    \"tahmin_y\": y_pred_y.reshape(-1)})\n",
    "k_t_y"
   ]
  },
  {
   "cell_type": "code",
   "execution_count": 151,
   "metadata": {},
   "outputs": [
    {
     "data": {
      "text/html": [
       "<div>\n",
       "<style scoped>\n",
       "    .dataframe tbody tr th:only-of-type {\n",
       "        vertical-align: middle;\n",
       "    }\n",
       "\n",
       "    .dataframe tbody tr th {\n",
       "        vertical-align: top;\n",
       "    }\n",
       "\n",
       "    .dataframe thead th {\n",
       "        text-align: right;\n",
       "    }\n",
       "</style>\n",
       "<table border=\"1\" class=\"dataframe\">\n",
       "  <thead>\n",
       "    <tr style=\"text-align: right;\">\n",
       "      <th></th>\n",
       "      <th>gercek_y</th>\n",
       "      <th>tahmin_y</th>\n",
       "      <th>hata</th>\n",
       "      <th>hata_kare</th>\n",
       "    </tr>\n",
       "  </thead>\n",
       "  <tbody>\n",
       "    <tr>\n",
       "      <th>0</th>\n",
       "      <td>0.014752</td>\n",
       "      <td>0.114038</td>\n",
       "      <td>-0.099286</td>\n",
       "      <td>0.009858</td>\n",
       "    </tr>\n",
       "    <tr>\n",
       "      <th>1</th>\n",
       "      <td>0.017748</td>\n",
       "      <td>0.114038</td>\n",
       "      <td>-0.096290</td>\n",
       "      <td>0.009272</td>\n",
       "    </tr>\n",
       "    <tr>\n",
       "      <th>2</th>\n",
       "      <td>0.012467</td>\n",
       "      <td>0.114038</td>\n",
       "      <td>-0.101571</td>\n",
       "      <td>0.010317</td>\n",
       "    </tr>\n",
       "    <tr>\n",
       "      <th>3</th>\n",
       "      <td>0.097104</td>\n",
       "      <td>1.209664</td>\n",
       "      <td>-1.112560</td>\n",
       "      <td>1.237791</td>\n",
       "    </tr>\n",
       "    <tr>\n",
       "      <th>4</th>\n",
       "      <td>1.338321</td>\n",
       "      <td>1.375504</td>\n",
       "      <td>-0.037183</td>\n",
       "      <td>0.001383</td>\n",
       "    </tr>\n",
       "    <tr>\n",
       "      <th>...</th>\n",
       "      <td>...</td>\n",
       "      <td>...</td>\n",
       "      <td>...</td>\n",
       "      <td>...</td>\n",
       "    </tr>\n",
       "    <tr>\n",
       "      <th>46855</th>\n",
       "      <td>0.023754</td>\n",
       "      <td>-0.800029</td>\n",
       "      <td>0.823783</td>\n",
       "      <td>0.678619</td>\n",
       "    </tr>\n",
       "    <tr>\n",
       "      <th>46856</th>\n",
       "      <td>6.205139</td>\n",
       "      <td>6.514594</td>\n",
       "      <td>-0.309455</td>\n",
       "      <td>0.095762</td>\n",
       "    </tr>\n",
       "    <tr>\n",
       "      <th>46857</th>\n",
       "      <td>1.059966</td>\n",
       "      <td>1.675008</td>\n",
       "      <td>-0.615042</td>\n",
       "      <td>0.378277</td>\n",
       "    </tr>\n",
       "    <tr>\n",
       "      <th>46858</th>\n",
       "      <td>0.059106</td>\n",
       "      <td>0.422492</td>\n",
       "      <td>-0.363386</td>\n",
       "      <td>0.132049</td>\n",
       "    </tr>\n",
       "    <tr>\n",
       "      <th>46859</th>\n",
       "      <td>1.712252</td>\n",
       "      <td>2.311013</td>\n",
       "      <td>-0.598761</td>\n",
       "      <td>0.358515</td>\n",
       "    </tr>\n",
       "  </tbody>\n",
       "</table>\n",
       "<p>46860 rows × 4 columns</p>\n",
       "</div>"
      ],
      "text/plain": [
       "       gercek_y  tahmin_y      hata  hata_kare\n",
       "0      0.014752  0.114038 -0.099286   0.009858\n",
       "1      0.017748  0.114038 -0.096290   0.009272\n",
       "2      0.012467  0.114038 -0.101571   0.010317\n",
       "3      0.097104  1.209664 -1.112560   1.237791\n",
       "4      1.338321  1.375504 -0.037183   0.001383\n",
       "...         ...       ...       ...        ...\n",
       "46855  0.023754 -0.800029  0.823783   0.678619\n",
       "46856  6.205139  6.514594 -0.309455   0.095762\n",
       "46857  1.059966  1.675008 -0.615042   0.378277\n",
       "46858  0.059106  0.422492 -0.363386   0.132049\n",
       "46859  1.712252  2.311013 -0.598761   0.358515\n",
       "\n",
       "[46860 rows x 4 columns]"
      ]
     },
     "execution_count": 151,
     "metadata": {},
     "output_type": "execute_result"
    }
   ],
   "source": [
    "k_t_y[\"hata\"] = k_t_y[\"gercek_y\"] - k_t_y[\"tahmin_y\"]\n",
    "k_t_y[\"hata_kare\"] = k_t_y[\"hata\"]**2\n",
    "k_t_y"
   ]
  },
  {
   "cell_type": "code",
   "execution_count": 152,
   "metadata": {},
   "outputs": [
    {
     "name": "stdout",
     "output_type": "stream",
     "text": [
      "karsilastirma tab MSE : 39.32194332802137\n",
      "karsilastirma tab RMSE : 6.270721117066311\n"
     ]
    }
   ],
   "source": [
    "print(\"karsilastirma tab MSE : \" + str(np.mean(k_t_y[\"hata_kare\"])))\n",
    "print(\"karsilastirma tab RMSE : \" + str(np.sqrt(np.mean(k_t_y[\"hata_kare\"]))))"
   ]
  },
  {
   "cell_type": "code",
   "execution_count": 153,
   "metadata": {},
   "outputs": [
    {
     "data": {
      "image/png": "[encoded data removed]",
      "text/plain": [
       "<Figure size 432x288 with 1 Axes>"
      ]
     },
     "metadata": {
      "needs_background": "light"
     },
     "output_type": "display_data"
    }
   ],
   "source": [
    "plt.plot(k_t_y[\"hata\"])\n",
    "plt.xlabel('Bağımlı Değişken (y) Sayısı')\n",
    "plt.ylabel('Artık değerler (gerçek_y - tahmin_y)')\n",
    "plt.title('YSA Model Hata Değerlerinin Dağılımı');"
   ]
  },
  {
   "cell_type": "code",
   "execution_count": null,
   "metadata": {},
   "outputs": [],
   "source": []
  },
  {
   "cell_type": "markdown",
   "metadata": {},
   "source": [
    "### 3. Model Tuning"
   ]
  },
  {
   "cell_type": "code",
   "execution_count": 13,
   "metadata": {},
   "outputs": [
    {
     "data": {
      "text/plain": [
       "MLPRegressor(activation='relu', alpha=0.0001, batch_size='auto', beta_1=0.9,\n",
       "             beta_2=0.999, early_stopping=False, epsilon=1e-08,\n",
       "             hidden_layer_sizes=(100, 20), learning_rate='constant',\n",
       "             learning_rate_init=0.001, max_fun=15000, max_iter=200,\n",
       "             momentum=0.9, n_iter_no_change=10, nesterovs_momentum=True,\n",
       "             power_t=0.5, random_state=None, shuffle=True, solver='adam',\n",
       "             tol=0.0001, validation_fraction=0.1, verbose=False,\n",
       "             warm_start=False)"
      ]
     },
     "execution_count": 13,
     "metadata": {},
     "output_type": "execute_result"
    }
   ],
   "source": [
    "mlp_model"
   ]
  },
  {
   "cell_type": "code",
   "execution_count": 14,
   "metadata": {},
   "outputs": [],
   "source": [
    "mlp_params = {'alpha': [0.1, 0.01,0.02,0.005],\n",
    "             'hidden_layer_sizes': [(20,20),(100,50,150),(300,200,150)],\n",
    "             'activation': ['relu','logistic']}"
   ]
  },
  {
   "cell_type": "code",
   "execution_count": 15,
   "metadata": {},
   "outputs": [],
   "source": [
    "mlp_cv_model = GridSearchCV(mlp_model, mlp_params, cv = 10)"
   ]
  },
  {
   "cell_type": "code",
   "execution_count": null,
   "metadata": {},
   "outputs": [],
   "source": [
    "mlp_cv_model"
   ]
  },
  {
   "cell_type": "code",
   "execution_count": null,
   "metadata": {},
   "outputs": [],
   "source": [
    "mlp_cv_model.fit(X_train_scaled, y_train)"
   ]
  },
  {
   "cell_type": "markdown",
   "metadata": {},
   "source": [
    "mlp_cv_model.best_params_"
   ]
  },
  {
   "cell_type": "code",
   "execution_count": null,
   "metadata": {},
   "outputs": [],
   "source": [
    "mlp_tuned = MLPRegressor(alpha = 0.02, hidden_layer_sizes = (100,50,150))"
   ]
  },
  {
   "cell_type": "code",
   "execution_count": null,
   "metadata": {},
   "outputs": [],
   "source": [
    "mlp_tuned.fit(X_train_scaled, y_train)"
   ]
  },
  {
   "cell_type": "code",
   "execution_count": null,
   "metadata": {},
   "outputs": [],
   "source": [
    "y_pred = mlp_tuned.predict(X_test_scaled)"
   ]
  },
  {
   "cell_type": "code",
   "execution_count": null,
   "metadata": {},
   "outputs": [],
   "source": [
    "np.sqrt(mean_squared_error(y_test, y_pred))"
   ]
  },
  {
   "cell_type": "code",
   "execution_count": null,
   "metadata": {},
   "outputs": [],
   "source": []
  },
  {
   "cell_type": "code",
   "execution_count": null,
   "metadata": {},
   "outputs": [],
   "source": []
  },
  {
   "cell_type": "markdown",
   "metadata": {},
   "source": [
    "# Model Karşılaştırma"
   ]
  },
  {
   "cell_type": "markdown",
   "metadata": {},
   "source": [
    "## 1.Model doğruluk yüzdeleri"
   ]
  },
  {
   "cell_type": "code",
   "execution_count": 194,
   "metadata": {},
   "outputs": [
    {
     "name": "stdout",
     "output_type": "stream",
     "text": [
      "----------------------------\n",
      "PLSRegression:\n",
      "Accuracy: 14.8936%\n",
      "----------------------------\n",
      "Ridge:\n",
      "Accuracy: 14.8896%\n",
      "----------------------------\n",
      "SVR:\n",
      "Accuracy: -0.1720%\n",
      "----------------------------\n",
      "MLPRegressor:\n",
      "Accuracy: -2269513585238750720.0000%\n"
     ]
    }
   ],
   "source": [
    "modeller = [\n",
    "    pls_model,\n",
    "    ridge_tuned,\n",
    "    svr_rbf,\n",
    "    mlp_model\n",
    "]\n",
    "\n",
    "for model in modeller:\n",
    "    if model == 'svr_rbf':\n",
    "         X_test_ = X_test_scaled_s\n",
    "    elif model == 'mlp_model':\n",
    "         X_test_ = X_test_scaled_y\n",
    "    else:\n",
    "         X_test_ = X_test_r\n",
    "    \n",
    "    isimler = model.__class__.__name__\n",
    "    y_pred_mod = model.predict(X_test_)\n",
    "    dogruluk = r2_score(y_test_p, y_pred_mod)\n",
    "    print(\"-\"*28)\n",
    "    print(isimler + \":\" )\n",
    "    print(\"Accuracy: {:.4%}\".format(dogruluk))"
   ]
  },
  {
   "cell_type": "markdown",
   "metadata": {},
   "source": [
    "## 2.Model tahmin grafikleri"
   ]
  },
  {
   "cell_type": "code",
   "execution_count": null,
   "metadata": {},
   "outputs": [],
   "source": [
    "sonuc = []\n",
    "\n",
    "sonuclar = pd.DataFrame(columns= [\"Modeller\",\"Accuracy\"])\n",
    "\n",
    "for model in modeller:\n",
    "    isimler = model.__class__.__name__\n",
    "    y_pred_ = model.predict(X_test_)\n",
    "    dogruluk = accuracy_score(y_test_, y_pred_)    \n",
    "    sonuc = pd.DataFrame([[isimler, dogruluk*100]], columns= [\"Modeller\",\"Accuracy\"])\n",
    "    sonuclar = sonuclar.append(sonuc)\n",
    "    \n",
    "    \n",
    "sns.barplot(x= 'Accuracy', y = 'Modeller', data=sonuclar, color=\"r\")\n",
    "plt.xlabel('Accuracy %')\n",
    "plt.title('Modellerin Doğruluk Oranları');    "
   ]
  },
  {
   "cell_type": "code",
   "execution_count": null,
   "metadata": {},
   "outputs": [],
   "source": []
  },
  {
   "cell_type": "code",
   "execution_count": null,
   "metadata": {},
   "outputs": [],
   "source": []
  }
 ],
 "metadata": {
  "kernelspec": {
   "display_name": "Python 3",
   "language": "python",
   "name": "python3"
  },
  "language_info": {
   "codemirror_mode": {
    "name": "ipython",
    "version": 3
   },
   "file_extension": ".py",
   "mimetype": "text/x-python",
   "name": "python",
   "nbconvert_exporter": "python",
   "pygments_lexer": "ipython3",
   "version": "3.7.7"
  }
 },
 "nbformat": 4,
 "nbformat_minor": 4
}
